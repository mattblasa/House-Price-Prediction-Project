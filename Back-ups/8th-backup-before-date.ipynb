{
 "cells": [
  {
   "cell_type": "markdown",
   "metadata": {},
   "source": [
    "# King County Housing Linear Regression Project\n",
    "\n",
    "\n",
    "* Student name: Seyma Tas\n",
    "* Student pace:  Full time\n",
    "* Scheduled project review date/time: 05-04-2020\n",
    "* Instructor name: Amber Yandow\n",
    "* Blog post URL:\n"
   ]
  },
  {
   "cell_type": "markdown",
   "metadata": {},
   "source": [
    "## OSEMN Approach\n",
    "1 - Obtaining the data 2 - Scrubbing the data 3 - Exploring the data 4 - Modeling the data 5 - iNterpreting the results\n",
    "\n",
    "\n",
    "![title](picture2.png)\n"
   ]
  },
  {
   "cell_type": "markdown",
   "metadata": {},
   "source": [
    "## Questions:\n",
    "\n",
    "1) What are the main factors to predict the price of a house?\n",
    "\n",
    "2) How much does a middle income family should invest to buy a standard house?\n",
    "   \n",
    "   or What are the properties of a house you can buy in King County if your budget is $400,000???\n",
    "    \n",
    "3) How can a middle income family increase the price of their house by %20 by spending %5 of the house cost???\n",
    "\n",
    "4) Basement\n",
    " "
   ]
  },
  {
   "cell_type": "code",
   "execution_count": 98,
   "metadata": {
    "ExecuteTime": {
     "end_time": "2020-04-28T21:59:01.682674Z",
     "start_time": "2020-04-28T21:59:01.671647Z"
    },
    "scrolled": true
   },
   "outputs": [
    {
     "data": {
      "application/javascript": [
       "IPython.notebook.set_autosave_interval(10000)"
      ]
     },
     "metadata": {},
     "output_type": "display_data"
    },
    {
     "name": "stdout",
     "output_type": "stream",
     "text": [
      "Autosaving every 10 seconds\n"
     ]
    }
   ],
   "source": [
    "%autosave 10"
   ]
  },
  {
   "cell_type": "markdown",
   "metadata": {},
   "source": [
    "The following cell is to print all the interactive output without resorting to print. "
   ]
  },
  {
   "cell_type": "code",
   "execution_count": 99,
   "metadata": {
    "ExecuteTime": {
     "end_time": "2020-04-28T21:59:01.687495Z",
     "start_time": "2020-04-28T21:59:01.684576Z"
    }
   },
   "outputs": [],
   "source": [
    "from IPython.core.interactiveshell import InteractiveShell\n",
    "InteractiveShell.ast_node_interactivity = \"all\""
   ]
  },
  {
   "cell_type": "markdown",
   "metadata": {},
   "source": [
    "## Import the necessary packages\n",
    "\n",
    "First, we’ll import all of our necessary packages."
   ]
  },
  {
   "cell_type": "code",
   "execution_count": 100,
   "metadata": {
    "ExecuteTime": {
     "end_time": "2020-04-28T21:59:01.713152Z",
     "start_time": "2020-04-28T21:59:01.689328Z"
    }
   },
   "outputs": [
    {
     "name": "stdout",
     "output_type": "stream",
     "text": [
      "Using matplotlib backend: MacOSX\n"
     ]
    }
   ],
   "source": [
    "import pandas as pd\n",
    "import numpy as np\n",
    "import matplotlib.pyplot as plt\n",
    "%matplotlib\n",
    "import seaborn as sns\n",
    "\n",
    "from scipy import stats\n",
    "import scipy.stats as stats\n",
    "import statsmodels.api as sm\n",
    "from statsmodels.formula.api import ols\n",
    "from statsmodels.stats.outliers_influence import variance_inflation_factor\n",
    "\n",
    "from sklearn.linear_model import LinearRegression\n",
    "from sklearn.model_selection import train_test_split\n",
    "from sklearn.metrics import mean_squared_error\n",
    "from sklearn.model_selection import cross_val_score\n",
    "\n",
    "sns.set(style='darkgrid')"
   ]
  },
  {
   "cell_type": "markdown",
   "metadata": {},
   "source": [
    "Pandas has an options system that lets you customize some aspects of its behaviour, display-related options being those the user is most likely to adjust. In the following cell we are setting options to display more raws and columns."
   ]
  },
  {
   "cell_type": "code",
   "execution_count": 101,
   "metadata": {
    "ExecuteTime": {
     "end_time": "2020-04-28T21:59:01.716973Z",
     "start_time": "2020-04-28T21:59:01.714852Z"
    }
   },
   "outputs": [],
   "source": [
    "# ## Display more information \n",
    "\n",
    "# pd.set_option('display.max_rows', None)\n",
    "# pd.set_option('display.max_columns', None)\n",
    "# pd.set_option('display.width', None)\n",
    "# pd.set_option('display.max_colwidth', -1)"
   ]
  },
  {
   "cell_type": "markdown",
   "metadata": {},
   "source": [
    "The following code is to hide the warning boxes."
   ]
  },
  {
   "cell_type": "code",
   "execution_count": 102,
   "metadata": {
    "ExecuteTime": {
     "end_time": "2020-04-28T21:59:01.722181Z",
     "start_time": "2020-04-28T21:59:01.719448Z"
    }
   },
   "outputs": [],
   "source": [
    "import warnings\n",
    "warnings.filterwarnings('ignore')"
   ]
  },
  {
   "cell_type": "markdown",
   "metadata": {},
   "source": [
    "## Import the data set\n",
    "\n",
    "Next, we’ll import our data and see what we’re working with. "
   ]
  },
  {
   "cell_type": "code",
   "execution_count": 103,
   "metadata": {
    "ExecuteTime": {
     "end_time": "2020-04-28T21:59:01.781620Z",
     "start_time": "2020-04-28T21:59:01.724144Z"
    }
   },
   "outputs": [],
   "source": [
    "df=pd.read_csv('kc_house_data.csv')"
   ]
  },
  {
   "cell_type": "markdown",
   "metadata": {},
   "source": [
    "Lets see what the data looks like by functions head(), tail(), shape(), info() and describe()."
   ]
  },
  {
   "cell_type": "code",
   "execution_count": 104,
   "metadata": {
    "ExecuteTime": {
     "end_time": "2020-04-28T21:59:01.811176Z",
     "start_time": "2020-04-28T21:59:01.783290Z"
    },
    "scrolled": false
   },
   "outputs": [
    {
     "data": {
      "text/html": [
       "<div>\n",
       "<style scoped>\n",
       "    .dataframe tbody tr th:only-of-type {\n",
       "        vertical-align: middle;\n",
       "    }\n",
       "\n",
       "    .dataframe tbody tr th {\n",
       "        vertical-align: top;\n",
       "    }\n",
       "\n",
       "    .dataframe thead th {\n",
       "        text-align: right;\n",
       "    }\n",
       "</style>\n",
       "<table border=\"1\" class=\"dataframe\">\n",
       "  <thead>\n",
       "    <tr style=\"text-align: right;\">\n",
       "      <th></th>\n",
       "      <th>id</th>\n",
       "      <th>date</th>\n",
       "      <th>price</th>\n",
       "      <th>bedrooms</th>\n",
       "      <th>bathrooms</th>\n",
       "      <th>sqft_living</th>\n",
       "      <th>sqft_lot</th>\n",
       "      <th>floors</th>\n",
       "      <th>waterfront</th>\n",
       "      <th>view</th>\n",
       "      <th>...</th>\n",
       "      <th>grade</th>\n",
       "      <th>sqft_above</th>\n",
       "      <th>sqft_basement</th>\n",
       "      <th>yr_built</th>\n",
       "      <th>yr_renovated</th>\n",
       "      <th>zipcode</th>\n",
       "      <th>lat</th>\n",
       "      <th>long</th>\n",
       "      <th>sqft_living15</th>\n",
       "      <th>sqft_lot15</th>\n",
       "    </tr>\n",
       "  </thead>\n",
       "  <tbody>\n",
       "    <tr>\n",
       "      <td>0</td>\n",
       "      <td>7129300520</td>\n",
       "      <td>10/13/2014</td>\n",
       "      <td>221900.0</td>\n",
       "      <td>3</td>\n",
       "      <td>1.00</td>\n",
       "      <td>1180</td>\n",
       "      <td>5650</td>\n",
       "      <td>1.0</td>\n",
       "      <td>NaN</td>\n",
       "      <td>0.0</td>\n",
       "      <td>...</td>\n",
       "      <td>7</td>\n",
       "      <td>1180</td>\n",
       "      <td>0.0</td>\n",
       "      <td>1955</td>\n",
       "      <td>0.0</td>\n",
       "      <td>98178</td>\n",
       "      <td>47.5112</td>\n",
       "      <td>-122.257</td>\n",
       "      <td>1340</td>\n",
       "      <td>5650</td>\n",
       "    </tr>\n",
       "    <tr>\n",
       "      <td>1</td>\n",
       "      <td>6414100192</td>\n",
       "      <td>12/9/2014</td>\n",
       "      <td>538000.0</td>\n",
       "      <td>3</td>\n",
       "      <td>2.25</td>\n",
       "      <td>2570</td>\n",
       "      <td>7242</td>\n",
       "      <td>2.0</td>\n",
       "      <td>0.0</td>\n",
       "      <td>0.0</td>\n",
       "      <td>...</td>\n",
       "      <td>7</td>\n",
       "      <td>2170</td>\n",
       "      <td>400.0</td>\n",
       "      <td>1951</td>\n",
       "      <td>1991.0</td>\n",
       "      <td>98125</td>\n",
       "      <td>47.7210</td>\n",
       "      <td>-122.319</td>\n",
       "      <td>1690</td>\n",
       "      <td>7639</td>\n",
       "    </tr>\n",
       "    <tr>\n",
       "      <td>2</td>\n",
       "      <td>5631500400</td>\n",
       "      <td>2/25/2015</td>\n",
       "      <td>180000.0</td>\n",
       "      <td>2</td>\n",
       "      <td>1.00</td>\n",
       "      <td>770</td>\n",
       "      <td>10000</td>\n",
       "      <td>1.0</td>\n",
       "      <td>0.0</td>\n",
       "      <td>0.0</td>\n",
       "      <td>...</td>\n",
       "      <td>6</td>\n",
       "      <td>770</td>\n",
       "      <td>0.0</td>\n",
       "      <td>1933</td>\n",
       "      <td>NaN</td>\n",
       "      <td>98028</td>\n",
       "      <td>47.7379</td>\n",
       "      <td>-122.233</td>\n",
       "      <td>2720</td>\n",
       "      <td>8062</td>\n",
       "    </tr>\n",
       "    <tr>\n",
       "      <td>3</td>\n",
       "      <td>2487200875</td>\n",
       "      <td>12/9/2014</td>\n",
       "      <td>604000.0</td>\n",
       "      <td>4</td>\n",
       "      <td>3.00</td>\n",
       "      <td>1960</td>\n",
       "      <td>5000</td>\n",
       "      <td>1.0</td>\n",
       "      <td>0.0</td>\n",
       "      <td>0.0</td>\n",
       "      <td>...</td>\n",
       "      <td>7</td>\n",
       "      <td>1050</td>\n",
       "      <td>910.0</td>\n",
       "      <td>1965</td>\n",
       "      <td>0.0</td>\n",
       "      <td>98136</td>\n",
       "      <td>47.5208</td>\n",
       "      <td>-122.393</td>\n",
       "      <td>1360</td>\n",
       "      <td>5000</td>\n",
       "    </tr>\n",
       "    <tr>\n",
       "      <td>4</td>\n",
       "      <td>1954400510</td>\n",
       "      <td>2/18/2015</td>\n",
       "      <td>510000.0</td>\n",
       "      <td>3</td>\n",
       "      <td>2.00</td>\n",
       "      <td>1680</td>\n",
       "      <td>8080</td>\n",
       "      <td>1.0</td>\n",
       "      <td>0.0</td>\n",
       "      <td>0.0</td>\n",
       "      <td>...</td>\n",
       "      <td>8</td>\n",
       "      <td>1680</td>\n",
       "      <td>0.0</td>\n",
       "      <td>1987</td>\n",
       "      <td>0.0</td>\n",
       "      <td>98074</td>\n",
       "      <td>47.6168</td>\n",
       "      <td>-122.045</td>\n",
       "      <td>1800</td>\n",
       "      <td>7503</td>\n",
       "    </tr>\n",
       "  </tbody>\n",
       "</table>\n",
       "<p>5 rows × 21 columns</p>\n",
       "</div>"
      ],
      "text/plain": [
       "           id        date     price  bedrooms  bathrooms  sqft_living  \\\n",
       "0  7129300520  10/13/2014  221900.0         3       1.00         1180   \n",
       "1  6414100192   12/9/2014  538000.0         3       2.25         2570   \n",
       "2  5631500400   2/25/2015  180000.0         2       1.00          770   \n",
       "3  2487200875   12/9/2014  604000.0         4       3.00         1960   \n",
       "4  1954400510   2/18/2015  510000.0         3       2.00         1680   \n",
       "\n",
       "   sqft_lot  floors  waterfront  view  ...  grade  sqft_above  sqft_basement  \\\n",
       "0      5650     1.0         NaN   0.0  ...      7        1180            0.0   \n",
       "1      7242     2.0         0.0   0.0  ...      7        2170          400.0   \n",
       "2     10000     1.0         0.0   0.0  ...      6         770            0.0   \n",
       "3      5000     1.0         0.0   0.0  ...      7        1050          910.0   \n",
       "4      8080     1.0         0.0   0.0  ...      8        1680            0.0   \n",
       "\n",
       "  yr_built  yr_renovated  zipcode      lat     long  sqft_living15  sqft_lot15  \n",
       "0     1955           0.0    98178  47.5112 -122.257           1340        5650  \n",
       "1     1951        1991.0    98125  47.7210 -122.319           1690        7639  \n",
       "2     1933           NaN    98028  47.7379 -122.233           2720        8062  \n",
       "3     1965           0.0    98136  47.5208 -122.393           1360        5000  \n",
       "4     1987           0.0    98074  47.6168 -122.045           1800        7503  \n",
       "\n",
       "[5 rows x 21 columns]"
      ]
     },
     "execution_count": 104,
     "metadata": {},
     "output_type": "execute_result"
    }
   ],
   "source": [
    "df.head()"
   ]
  },
  {
   "cell_type": "code",
   "execution_count": null,
   "metadata": {},
   "outputs": [],
   "source": []
  },
  {
   "cell_type": "code",
   "execution_count": null,
   "metadata": {},
   "outputs": [],
   "source": []
  },
  {
   "cell_type": "markdown",
   "metadata": {},
   "source": [
    "## Information about the data\n",
    "\n",
    "### Column names and descriptions\n",
    "\n",
    "* **id** - unique identified for a house\n",
    "* **date** - Date house was sold\n",
    "* **price** - Price is prediction target\n",
    "* **bedrooms** - Number of Bedrooms/House\n",
    "* **bathrooms** - Number of bathrooms/bedrooms\n",
    "* **sqft_living** - Square footage of the home\n",
    "* **sqft_lot** - Square footage of the lot\n",
    "* **floors** - Total floors (levels) in house\n",
    "* **waterfront** - House which has a view to a waterfront\n",
    "* **view** - If the house has a view or not\n",
    "* **condition** - How good the condition is ( Overall )\n",
    "* **grade** - overall grade given to the housing unit, based on King County grading system\n",
    "* **sqft_above** - square footage of house apart from basement\n",
    "* **sqft_basement** - square footage of the basement\n",
    "* **yr_built** - Built Year\n",
    "* **yr_renovated** - Year when house was renovated\n",
    "* **zipcode** - zipcode of the house\n",
    "* **lat** - Latitude coordinate\n",
    "* **long** - Longitude coordinate\n",
    "* **sqft_living15** - The square footage of interior housing living space for the nearest 15 neighbors\n",
    "* **sqft_lot15** - The square footage of the land lots of the nearest 15 neighbors\n"
   ]
  },
  {
   "cell_type": "markdown",
   "metadata": {},
   "source": [
    "### Condition\n",
    "\n",
    "More detailed information about condition from the [King County's website](https://blue.kingcounty.com/Assessor/eRealProperty/ResidentialGlossary.aspx?idx=viewall&Parcel=7960900070&AreaReport=http://www.KingCounty.gov/depts/Assessor/Reports/area-reports/2019/residential-northeast/033.aspx#BuildingGrade).\n",
    "\n",
    "(Relative to age and grade. Coded 1-5.)\n",
    "\n",
    "1 = Poor- Worn out. Repair and overhaul needed on painted surfaces, roofing, plumbing, heating and numerous functional inadequacies. Excessive deferred maintenance and abuse, limited value-in-use, approaching abandonment or major reconstruction; reuse or change in occupancy is imminent. Effective age is near the end of the scale regardless of the actual chronological age.\n",
    "\n",
    "2 = Fair- Badly worn. Much repair needed. Many items need refinishing or overhauling, deferred maintenance obvious, inadequate building utility and systems all shortening the life expectancy and increasing the effective age.\n",
    "\n",
    "3 = Average- Some evidence of deferred maintenance and normal obsolescence with age in that a few minor repairs are needed, along with some refinishing. All major components still functional and contributing toward an extended life expectancy. Effective age and utility is standard for like properties of its class and usage.\n",
    "\n",
    "4 = Good- No obvious maintenance required but neither is everything new. Appearance and utility are above the standard and the overall effective age will be lower than the typical property.\n",
    "\n",
    "5= Very Good- All items well maintained, many having been overhauled and repaired as they have shown signs of wear, increasing the life expectancy and lowering the effective age with little deterioration or obsolescence evident with a high degree of utility.\n",
    "\n",
    "\n"
   ]
  },
  {
   "cell_type": "markdown",
   "metadata": {},
   "source": [
    "### Building Grade\n",
    "\n",
    "More detailed information about grade from the [King County's website](https://blue.kingcounty.com/Assessor/eRealProperty/ResidentialGlossary.aspx?idx=viewall&Parcel=7960900070&AreaReport=http://www.KingCounty.gov/depts/Assessor/Reports/area-reports/2019/residential-northeast/033.aspx#BuildingGrade).\n",
    "\n",
    "Represents the construction quality of improvements. Grades run from grade 1 to 13. Generally defined as:\n",
    "\n",
    "1-3\t= Falls short of minimum building standards. Normally cabin or inferior structure\n",
    "\n",
    "4\t= Generally older, low quality construction. Does not meet code.\n",
    "\n",
    "5\t= Low construction costs and workmanship. Small, simple design.\n",
    "\n",
    "6\t= Lowest grade currently meeting building code. Low quality materials and simple designs.\n",
    "\n",
    "7\t= Average grade of construction and design. Commonly seen in plats and older sub-divisions.\n",
    "\n",
    "8\t= Just above average in construction and design. Usually better materials in both the exterior and interior finish work.\n",
    "\n",
    "9\t= Better architectural design with extra interior and exterior design and quality.\n",
    "\n",
    "10\t= Homes of this quality generally have high quality features. Finish work is better and more design quality is seen in the floor plans. Generally have a larger square footage.\n",
    "\n",
    "11\t= Custom design and higher quality finish work with added amenities of solid woods, bathroom fixtures and more luxurious options.\n",
    "\n",
    "12\t= Custom design and excellent builders. All materials are of the highest quality and all conveniences are present.\n",
    "\n",
    "13\t= Generally custom designed and built. Mansion level. Large amount of highest quality cabinet work, wood trim, marble, entry ways etc.\n"
   ]
  },
  {
   "cell_type": "markdown",
   "metadata": {},
   "source": [
    "### Drop unnecessary columns\n",
    "\n",
    "Id column doesn't tell us anything so we drop this column. \n",
    "Date column tells us the date the house was sold. All the dates are between 2014-05-02 and 2015-05-27. So we don't need to calculate inflation. But the sale month tells us information about sale price. May must be the month many houses are sold and the prices must be higher in May. Lets take the month and drop the date."
   ]
  },
  {
   "cell_type": "code",
   "execution_count": 105,
   "metadata": {
    "ExecuteTime": {
     "end_time": "2020-04-28T21:59:01.845791Z",
     "start_time": "2020-04-28T21:59:01.813095Z"
    }
   },
   "outputs": [],
   "source": [
    "df['date'] = pd.to_datetime(df['date'])"
   ]
  },
  {
   "cell_type": "code",
   "execution_count": 106,
   "metadata": {
    "ExecuteTime": {
     "end_time": "2020-04-28T21:59:01.853259Z",
     "start_time": "2020-04-28T21:59:01.847392Z"
    }
   },
   "outputs": [
    {
     "data": {
      "text/plain": [
       "Timestamp('2014-05-02 00:00:00')"
      ]
     },
     "execution_count": 106,
     "metadata": {},
     "output_type": "execute_result"
    }
   ],
   "source": [
    "df['date'].min()"
   ]
  },
  {
   "cell_type": "code",
   "execution_count": 107,
   "metadata": {
    "ExecuteTime": {
     "end_time": "2020-04-28T21:59:01.859550Z",
     "start_time": "2020-04-28T21:59:01.855005Z"
    }
   },
   "outputs": [
    {
     "data": {
      "text/plain": [
       "Timestamp('2015-05-27 00:00:00')"
      ]
     },
     "execution_count": 107,
     "metadata": {},
     "output_type": "execute_result"
    }
   ],
   "source": [
    "df['date'].max()"
   ]
  },
  {
   "cell_type": "code",
   "execution_count": 108,
   "metadata": {
    "ExecuteTime": {
     "end_time": "2020-04-28T21:59:02.274279Z",
     "start_time": "2020-04-28T21:59:01.861178Z"
    }
   },
   "outputs": [],
   "source": [
    "df['sale_month'] = df['date'].map(lambda x: x.month)"
   ]
  },
  {
   "cell_type": "code",
   "execution_count": 109,
   "metadata": {
    "ExecuteTime": {
     "end_time": "2020-04-28T21:59:02.284340Z",
     "start_time": "2020-04-28T21:59:02.275995Z"
    }
   },
   "outputs": [],
   "source": [
    "df=df.drop(['id','date'],axis=1)"
   ]
  },
  {
   "cell_type": "markdown",
   "metadata": {},
   "source": [
    "# Scraping and cleaning data"
   ]
  },
  {
   "cell_type": "code",
   "execution_count": 110,
   "metadata": {
    "ExecuteTime": {
     "end_time": "2020-04-28T21:59:02.290088Z",
     "start_time": "2020-04-28T21:59:02.286182Z"
    }
   },
   "outputs": [
    {
     "data": {
      "text/plain": [
       "(21597, 20)"
      ]
     },
     "execution_count": 110,
     "metadata": {},
     "output_type": "execute_result"
    }
   ],
   "source": [
    "df.shape"
   ]
  },
  {
   "cell_type": "markdown",
   "metadata": {},
   "source": [
    "We have 20 columns and 21597 rows,our sample size is enough to predict the price. There won't be problems in test and train splits. "
   ]
  },
  {
   "cell_type": "code",
   "execution_count": 111,
   "metadata": {
    "ExecuteTime": {
     "end_time": "2020-04-28T21:59:02.302935Z",
     "start_time": "2020-04-28T21:59:02.291780Z"
    },
    "scrolled": true
   },
   "outputs": [
    {
     "name": "stdout",
     "output_type": "stream",
     "text": [
      "<class 'pandas.core.frame.DataFrame'>\n",
      "RangeIndex: 21597 entries, 0 to 21596\n",
      "Data columns (total 20 columns):\n",
      "price            21597 non-null float64\n",
      "bedrooms         21597 non-null int64\n",
      "bathrooms        21597 non-null float64\n",
      "sqft_living      21597 non-null int64\n",
      "sqft_lot         21597 non-null int64\n",
      "floors           21597 non-null float64\n",
      "waterfront       19221 non-null float64\n",
      "view             21534 non-null float64\n",
      "condition        21597 non-null int64\n",
      "grade            21597 non-null int64\n",
      "sqft_above       21597 non-null int64\n",
      "sqft_basement    21597 non-null object\n",
      "yr_built         21597 non-null int64\n",
      "yr_renovated     17755 non-null float64\n",
      "zipcode          21597 non-null int64\n",
      "lat              21597 non-null float64\n",
      "long             21597 non-null float64\n",
      "sqft_living15    21597 non-null int64\n",
      "sqft_lot15       21597 non-null int64\n",
      "sale_month       21597 non-null int64\n",
      "dtypes: float64(8), int64(11), object(1)\n",
      "memory usage: 3.3+ MB\n"
     ]
    }
   ],
   "source": [
    "df.info()"
   ]
  },
  {
   "cell_type": "markdown",
   "metadata": {},
   "source": [
    "According to the information of data; we have some missing values in waterfront, view and year_renovated columns. We need to deal with missing data. Data is clean. It is necessary to inspect sqft_basement column. It should be an integer not a string."
   ]
  },
  {
   "cell_type": "markdown",
   "metadata": {},
   "source": [
    "### Numerical Data Stored as Strings"
   ]
  },
  {
   "cell_type": "code",
   "execution_count": 112,
   "metadata": {
    "ExecuteTime": {
     "end_time": "2020-04-28T21:59:02.314103Z",
     "start_time": "2020-04-28T21:59:02.306577Z"
    }
   },
   "outputs": [
    {
     "data": {
      "text/plain": [
       "0.0       12826\n",
       "?           454\n",
       "600.0       217\n",
       "500.0       209\n",
       "700.0       208\n",
       "          ...  \n",
       "20.0          1\n",
       "1852.0        1\n",
       "2250.0        1\n",
       "3260.0        1\n",
       "2310.0        1\n",
       "Name: sqft_basement, Length: 304, dtype: int64"
      ]
     },
     "execution_count": 112,
     "metadata": {},
     "output_type": "execute_result"
    }
   ],
   "source": [
    "df.sqft_basement.value_counts()"
   ]
  },
  {
   "cell_type": "markdown",
   "metadata": {},
   "source": [
    "sqft_basement column is string because of 454 '?'. First we replace '?' with '0'. Then we change the data type to float and we find the 'sqft_basement' column from 'sqft_living' and 'sqft_above' columns."
   ]
  },
  {
   "cell_type": "code",
   "execution_count": 113,
   "metadata": {
    "ExecuteTime": {
     "end_time": "2020-04-28T21:59:02.330348Z",
     "start_time": "2020-04-28T21:59:02.316532Z"
    },
    "scrolled": true
   },
   "outputs": [],
   "source": [
    "# Replace '?' with '0'.\n",
    "df['sqft_basement']=df['sqft_basement'].map(lambda x:float(x.replace('?', '0')))\n"
   ]
  },
  {
   "cell_type": "code",
   "execution_count": 114,
   "metadata": {
    "ExecuteTime": {
     "end_time": "2020-04-28T22:00:09.225532Z",
     "start_time": "2020-04-28T21:59:02.331824Z"
    }
   },
   "outputs": [],
   "source": [
    "#Replace 0 with difference between sqft_above and sqft_living\n",
    "df['sqft_basement'].replace(to_replace='0', value = abs(df['sqft_living']-df['sqft_above']), inplace=True)\n"
   ]
  },
  {
   "cell_type": "markdown",
   "metadata": {},
   "source": [
    "There is a house with 33 bedrooms. But its price is $640,000. Number of bathrooms is 1.75. It is a 3 bedroom house. "
   ]
  },
  {
   "cell_type": "code",
   "execution_count": 115,
   "metadata": {
    "ExecuteTime": {
     "end_time": "2020-04-28T22:00:09.247067Z",
     "start_time": "2020-04-28T22:00:09.227126Z"
    }
   },
   "outputs": [
    {
     "data": {
      "text/html": [
       "<div>\n",
       "<style scoped>\n",
       "    .dataframe tbody tr th:only-of-type {\n",
       "        vertical-align: middle;\n",
       "    }\n",
       "\n",
       "    .dataframe tbody tr th {\n",
       "        vertical-align: top;\n",
       "    }\n",
       "\n",
       "    .dataframe thead th {\n",
       "        text-align: right;\n",
       "    }\n",
       "</style>\n",
       "<table border=\"1\" class=\"dataframe\">\n",
       "  <thead>\n",
       "    <tr style=\"text-align: right;\">\n",
       "      <th></th>\n",
       "      <th>price</th>\n",
       "      <th>bedrooms</th>\n",
       "      <th>bathrooms</th>\n",
       "      <th>sqft_living</th>\n",
       "      <th>sqft_lot</th>\n",
       "      <th>floors</th>\n",
       "      <th>waterfront</th>\n",
       "      <th>view</th>\n",
       "      <th>condition</th>\n",
       "      <th>grade</th>\n",
       "      <th>sqft_above</th>\n",
       "      <th>sqft_basement</th>\n",
       "      <th>yr_built</th>\n",
       "      <th>yr_renovated</th>\n",
       "      <th>zipcode</th>\n",
       "      <th>lat</th>\n",
       "      <th>long</th>\n",
       "      <th>sqft_living15</th>\n",
       "      <th>sqft_lot15</th>\n",
       "      <th>sale_month</th>\n",
       "    </tr>\n",
       "  </thead>\n",
       "  <tbody>\n",
       "    <tr>\n",
       "      <td>15856</td>\n",
       "      <td>640000.0</td>\n",
       "      <td>33</td>\n",
       "      <td>1.75</td>\n",
       "      <td>1620</td>\n",
       "      <td>6000</td>\n",
       "      <td>1.0</td>\n",
       "      <td>0.0</td>\n",
       "      <td>0.0</td>\n",
       "      <td>5</td>\n",
       "      <td>7</td>\n",
       "      <td>1040</td>\n",
       "      <td>580.0</td>\n",
       "      <td>1947</td>\n",
       "      <td>0.0</td>\n",
       "      <td>98103</td>\n",
       "      <td>47.6878</td>\n",
       "      <td>-122.331</td>\n",
       "      <td>1330</td>\n",
       "      <td>4700</td>\n",
       "      <td>6</td>\n",
       "    </tr>\n",
       "  </tbody>\n",
       "</table>\n",
       "</div>"
      ],
      "text/plain": [
       "          price  bedrooms  bathrooms  sqft_living  sqft_lot  floors  \\\n",
       "15856  640000.0        33       1.75         1620      6000     1.0   \n",
       "\n",
       "       waterfront  view  condition  grade  sqft_above  sqft_basement  \\\n",
       "15856         0.0   0.0          5      7        1040          580.0   \n",
       "\n",
       "       yr_built  yr_renovated  zipcode      lat     long  sqft_living15  \\\n",
       "15856      1947           0.0    98103  47.6878 -122.331           1330   \n",
       "\n",
       "       sqft_lot15  sale_month  \n",
       "15856        4700           6  "
      ]
     },
     "execution_count": 115,
     "metadata": {},
     "output_type": "execute_result"
    }
   ],
   "source": [
    "df[df.bedrooms==33]"
   ]
  },
  {
   "cell_type": "code",
   "execution_count": 116,
   "metadata": {
    "ExecuteTime": {
     "end_time": "2020-04-28T22:00:09.254202Z",
     "start_time": "2020-04-28T22:00:09.249457Z"
    }
   },
   "outputs": [],
   "source": [
    "# Change 33 bedrooms to 3 bedrooms.\n",
    "df['bedrooms'].replace(to_replace=33, value =3, inplace=True)\n"
   ]
  },
  {
   "cell_type": "code",
   "execution_count": 117,
   "metadata": {
    "ExecuteTime": {
     "end_time": "2020-04-28T22:00:09.338246Z",
     "start_time": "2020-04-28T22:00:09.255741Z"
    },
    "scrolled": true
   },
   "outputs": [
    {
     "data": {
      "text/html": [
       "<div>\n",
       "<style scoped>\n",
       "    .dataframe tbody tr th:only-of-type {\n",
       "        vertical-align: middle;\n",
       "    }\n",
       "\n",
       "    .dataframe tbody tr th {\n",
       "        vertical-align: top;\n",
       "    }\n",
       "\n",
       "    .dataframe thead th {\n",
       "        text-align: right;\n",
       "    }\n",
       "</style>\n",
       "<table border=\"1\" class=\"dataframe\">\n",
       "  <thead>\n",
       "    <tr style=\"text-align: right;\">\n",
       "      <th></th>\n",
       "      <th>price</th>\n",
       "      <th>bedrooms</th>\n",
       "      <th>bathrooms</th>\n",
       "      <th>sqft_living</th>\n",
       "      <th>sqft_lot</th>\n",
       "      <th>floors</th>\n",
       "      <th>waterfront</th>\n",
       "      <th>view</th>\n",
       "      <th>condition</th>\n",
       "      <th>grade</th>\n",
       "      <th>sqft_above</th>\n",
       "      <th>sqft_basement</th>\n",
       "      <th>yr_built</th>\n",
       "      <th>yr_renovated</th>\n",
       "      <th>zipcode</th>\n",
       "      <th>lat</th>\n",
       "      <th>long</th>\n",
       "      <th>sqft_living15</th>\n",
       "      <th>sqft_lot15</th>\n",
       "      <th>sale_month</th>\n",
       "    </tr>\n",
       "  </thead>\n",
       "  <tbody>\n",
       "    <tr>\n",
       "      <td>count</td>\n",
       "      <td>21597.0</td>\n",
       "      <td>21597.0</td>\n",
       "      <td>21597.0</td>\n",
       "      <td>21597.0</td>\n",
       "      <td>21597.0</td>\n",
       "      <td>21597.0</td>\n",
       "      <td>19221.0</td>\n",
       "      <td>21534.0</td>\n",
       "      <td>21597.0</td>\n",
       "      <td>21597.0</td>\n",
       "      <td>21597.0</td>\n",
       "      <td>21597.0</td>\n",
       "      <td>21597.0</td>\n",
       "      <td>17755.0</td>\n",
       "      <td>21597.0</td>\n",
       "      <td>21597.0</td>\n",
       "      <td>21597.0</td>\n",
       "      <td>21597.0</td>\n",
       "      <td>21597.0</td>\n",
       "      <td>21597.0</td>\n",
       "    </tr>\n",
       "    <tr>\n",
       "      <td>mean</td>\n",
       "      <td>540296.6</td>\n",
       "      <td>3.4</td>\n",
       "      <td>2.1</td>\n",
       "      <td>2080.3</td>\n",
       "      <td>15099.4</td>\n",
       "      <td>1.5</td>\n",
       "      <td>0.0</td>\n",
       "      <td>0.2</td>\n",
       "      <td>3.4</td>\n",
       "      <td>7.7</td>\n",
       "      <td>1788.6</td>\n",
       "      <td>285.7</td>\n",
       "      <td>1971.0</td>\n",
       "      <td>83.6</td>\n",
       "      <td>98078.0</td>\n",
       "      <td>47.6</td>\n",
       "      <td>-122.2</td>\n",
       "      <td>1986.6</td>\n",
       "      <td>12758.3</td>\n",
       "      <td>6.6</td>\n",
       "    </tr>\n",
       "    <tr>\n",
       "      <td>std</td>\n",
       "      <td>367368.1</td>\n",
       "      <td>0.9</td>\n",
       "      <td>0.8</td>\n",
       "      <td>918.1</td>\n",
       "      <td>41412.6</td>\n",
       "      <td>0.5</td>\n",
       "      <td>0.1</td>\n",
       "      <td>0.8</td>\n",
       "      <td>0.7</td>\n",
       "      <td>1.2</td>\n",
       "      <td>827.8</td>\n",
       "      <td>439.8</td>\n",
       "      <td>29.4</td>\n",
       "      <td>399.9</td>\n",
       "      <td>53.5</td>\n",
       "      <td>0.1</td>\n",
       "      <td>0.1</td>\n",
       "      <td>685.2</td>\n",
       "      <td>27274.4</td>\n",
       "      <td>3.1</td>\n",
       "    </tr>\n",
       "    <tr>\n",
       "      <td>min</td>\n",
       "      <td>78000.0</td>\n",
       "      <td>1.0</td>\n",
       "      <td>0.5</td>\n",
       "      <td>370.0</td>\n",
       "      <td>520.0</td>\n",
       "      <td>1.0</td>\n",
       "      <td>0.0</td>\n",
       "      <td>0.0</td>\n",
       "      <td>1.0</td>\n",
       "      <td>3.0</td>\n",
       "      <td>370.0</td>\n",
       "      <td>0.0</td>\n",
       "      <td>1900.0</td>\n",
       "      <td>0.0</td>\n",
       "      <td>98001.0</td>\n",
       "      <td>47.2</td>\n",
       "      <td>-122.5</td>\n",
       "      <td>399.0</td>\n",
       "      <td>651.0</td>\n",
       "      <td>1.0</td>\n",
       "    </tr>\n",
       "    <tr>\n",
       "      <td>25%</td>\n",
       "      <td>322000.0</td>\n",
       "      <td>3.0</td>\n",
       "      <td>1.8</td>\n",
       "      <td>1430.0</td>\n",
       "      <td>5040.0</td>\n",
       "      <td>1.0</td>\n",
       "      <td>0.0</td>\n",
       "      <td>0.0</td>\n",
       "      <td>3.0</td>\n",
       "      <td>7.0</td>\n",
       "      <td>1190.0</td>\n",
       "      <td>0.0</td>\n",
       "      <td>1951.0</td>\n",
       "      <td>0.0</td>\n",
       "      <td>98033.0</td>\n",
       "      <td>47.5</td>\n",
       "      <td>-122.3</td>\n",
       "      <td>1490.0</td>\n",
       "      <td>5100.0</td>\n",
       "      <td>4.0</td>\n",
       "    </tr>\n",
       "    <tr>\n",
       "      <td>50%</td>\n",
       "      <td>450000.0</td>\n",
       "      <td>3.0</td>\n",
       "      <td>2.2</td>\n",
       "      <td>1910.0</td>\n",
       "      <td>7618.0</td>\n",
       "      <td>1.5</td>\n",
       "      <td>0.0</td>\n",
       "      <td>0.0</td>\n",
       "      <td>3.0</td>\n",
       "      <td>7.0</td>\n",
       "      <td>1560.0</td>\n",
       "      <td>0.0</td>\n",
       "      <td>1975.0</td>\n",
       "      <td>0.0</td>\n",
       "      <td>98065.0</td>\n",
       "      <td>47.6</td>\n",
       "      <td>-122.2</td>\n",
       "      <td>1840.0</td>\n",
       "      <td>7620.0</td>\n",
       "      <td>6.0</td>\n",
       "    </tr>\n",
       "    <tr>\n",
       "      <td>75%</td>\n",
       "      <td>645000.0</td>\n",
       "      <td>4.0</td>\n",
       "      <td>2.5</td>\n",
       "      <td>2550.0</td>\n",
       "      <td>10685.0</td>\n",
       "      <td>2.0</td>\n",
       "      <td>0.0</td>\n",
       "      <td>0.0</td>\n",
       "      <td>4.0</td>\n",
       "      <td>8.0</td>\n",
       "      <td>2210.0</td>\n",
       "      <td>550.0</td>\n",
       "      <td>1997.0</td>\n",
       "      <td>0.0</td>\n",
       "      <td>98118.0</td>\n",
       "      <td>47.7</td>\n",
       "      <td>-122.1</td>\n",
       "      <td>2360.0</td>\n",
       "      <td>10083.0</td>\n",
       "      <td>9.0</td>\n",
       "    </tr>\n",
       "    <tr>\n",
       "      <td>max</td>\n",
       "      <td>7700000.0</td>\n",
       "      <td>11.0</td>\n",
       "      <td>8.0</td>\n",
       "      <td>13540.0</td>\n",
       "      <td>1651359.0</td>\n",
       "      <td>3.5</td>\n",
       "      <td>1.0</td>\n",
       "      <td>4.0</td>\n",
       "      <td>5.0</td>\n",
       "      <td>13.0</td>\n",
       "      <td>9410.0</td>\n",
       "      <td>4820.0</td>\n",
       "      <td>2015.0</td>\n",
       "      <td>2015.0</td>\n",
       "      <td>98199.0</td>\n",
       "      <td>47.8</td>\n",
       "      <td>-121.3</td>\n",
       "      <td>6210.0</td>\n",
       "      <td>871200.0</td>\n",
       "      <td>12.0</td>\n",
       "    </tr>\n",
       "  </tbody>\n",
       "</table>\n",
       "</div>"
      ],
      "text/plain": [
       "           price  bedrooms  bathrooms  sqft_living   sqft_lot   floors  \\\n",
       "count    21597.0   21597.0    21597.0      21597.0    21597.0  21597.0   \n",
       "mean    540296.6       3.4        2.1       2080.3    15099.4      1.5   \n",
       "std     367368.1       0.9        0.8        918.1    41412.6      0.5   \n",
       "min      78000.0       1.0        0.5        370.0      520.0      1.0   \n",
       "25%     322000.0       3.0        1.8       1430.0     5040.0      1.0   \n",
       "50%     450000.0       3.0        2.2       1910.0     7618.0      1.5   \n",
       "75%     645000.0       4.0        2.5       2550.0    10685.0      2.0   \n",
       "max    7700000.0      11.0        8.0      13540.0  1651359.0      3.5   \n",
       "\n",
       "       waterfront     view  condition    grade  sqft_above  sqft_basement  \\\n",
       "count     19221.0  21534.0    21597.0  21597.0     21597.0        21597.0   \n",
       "mean          0.0      0.2        3.4      7.7      1788.6          285.7   \n",
       "std           0.1      0.8        0.7      1.2       827.8          439.8   \n",
       "min           0.0      0.0        1.0      3.0       370.0            0.0   \n",
       "25%           0.0      0.0        3.0      7.0      1190.0            0.0   \n",
       "50%           0.0      0.0        3.0      7.0      1560.0            0.0   \n",
       "75%           0.0      0.0        4.0      8.0      2210.0          550.0   \n",
       "max           1.0      4.0        5.0     13.0      9410.0         4820.0   \n",
       "\n",
       "       yr_built  yr_renovated  zipcode      lat     long  sqft_living15  \\\n",
       "count   21597.0       17755.0  21597.0  21597.0  21597.0        21597.0   \n",
       "mean     1971.0          83.6  98078.0     47.6   -122.2         1986.6   \n",
       "std        29.4         399.9     53.5      0.1      0.1          685.2   \n",
       "min      1900.0           0.0  98001.0     47.2   -122.5          399.0   \n",
       "25%      1951.0           0.0  98033.0     47.5   -122.3         1490.0   \n",
       "50%      1975.0           0.0  98065.0     47.6   -122.2         1840.0   \n",
       "75%      1997.0           0.0  98118.0     47.7   -122.1         2360.0   \n",
       "max      2015.0        2015.0  98199.0     47.8   -121.3         6210.0   \n",
       "\n",
       "       sqft_lot15  sale_month  \n",
       "count     21597.0     21597.0  \n",
       "mean      12758.3         6.6  \n",
       "std       27274.4         3.1  \n",
       "min         651.0         1.0  \n",
       "25%        5100.0         4.0  \n",
       "50%        7620.0         6.0  \n",
       "75%       10083.0         9.0  \n",
       "max      871200.0        12.0  "
      ]
     },
     "execution_count": 117,
     "metadata": {},
     "output_type": "execute_result"
    }
   ],
   "source": [
    "df.describe().round(1)"
   ]
  },
  {
   "cell_type": "markdown",
   "metadata": {},
   "source": [
    "Most houses were build around 1975; sold for $450K; had square footage of living spaces around 1910. You can also note, that distributions of price and variables such as sqft_lot are skewed to the upper tail."
   ]
  },
  {
   "cell_type": "markdown",
   "metadata": {},
   "source": [
    "## Detecting and Dealing With Null Values"
   ]
  },
  {
   "cell_type": "code",
   "execution_count": 118,
   "metadata": {
    "ExecuteTime": {
     "end_time": "2020-04-28T22:00:09.346239Z",
     "start_time": "2020-04-28T22:00:09.340096Z"
    },
    "scrolled": true
   },
   "outputs": [
    {
     "name": "stdout",
     "output_type": "stream",
     "text": [
      "price               0\n",
      "bedrooms            0\n",
      "bathrooms           0\n",
      "sqft_living         0\n",
      "sqft_lot            0\n",
      "floors              0\n",
      "waterfront       2376\n",
      "view               63\n",
      "condition           0\n",
      "grade               0\n",
      "sqft_above          0\n",
      "sqft_basement       0\n",
      "yr_built            0\n",
      "yr_renovated     3842\n",
      "zipcode             0\n",
      "lat                 0\n",
      "long                0\n",
      "sqft_living15       0\n",
      "sqft_lot15          0\n",
      "sale_month          0\n",
      "dtype: int64\n"
     ]
    }
   ],
   "source": [
    "print(df.isna().sum())"
   ]
  },
  {
   "cell_type": "markdown",
   "metadata": {},
   "source": [
    "We need to deal with missing values in waterfront, view and year_renovated columns."
   ]
  },
  {
   "cell_type": "markdown",
   "metadata": {},
   "source": [
    "#### Waterfront and view columns"
   ]
  },
  {
   "cell_type": "code",
   "execution_count": 119,
   "metadata": {
    "ExecuteTime": {
     "end_time": "2020-04-28T22:00:09.356000Z",
     "start_time": "2020-04-28T22:00:09.348809Z"
    },
    "scrolled": true
   },
   "outputs": [
    {
     "data": {
      "text/plain": [
       "0.0    19422\n",
       "2.0      957\n",
       "3.0      508\n",
       "1.0      330\n",
       "4.0      317\n",
       "Name: view, dtype: int64"
      ]
     },
     "execution_count": 119,
     "metadata": {},
     "output_type": "execute_result"
    }
   ],
   "source": [
    "df['view'].value_counts()"
   ]
  },
  {
   "cell_type": "markdown",
   "metadata": {},
   "source": [
    "Most of the houses don't have view. Houses in Seattle might have both ocean, lake and mountain views."
   ]
  },
  {
   "cell_type": "code",
   "execution_count": 120,
   "metadata": {
    "ExecuteTime": {
     "end_time": "2020-04-28T22:00:09.375310Z",
     "start_time": "2020-04-28T22:00:09.358033Z"
    },
    "scrolled": true
   },
   "outputs": [
    {
     "data": {
      "text/plain": [
       "123"
      ]
     },
     "execution_count": 120,
     "metadata": {},
     "output_type": "execute_result"
    }
   ],
   "source": [
    "len(df[(df.view==4)&(df.waterfront>0)])"
   ]
  },
  {
   "cell_type": "markdown",
   "metadata": {},
   "source": [
    "Almost %38 of the houses with good views are waterfront homes. The others must have Mount Rainier view or downtown view.\n",
    "\n",
    "We are trying to decide what to do with missing values in waterfront column."
   ]
  },
  {
   "cell_type": "code",
   "execution_count": 121,
   "metadata": {
    "ExecuteTime": {
     "end_time": "2020-04-28T22:00:09.388557Z",
     "start_time": "2020-04-28T22:00:09.377533Z"
    }
   },
   "outputs": [
    {
     "data": {
      "text/plain": [
       "63"
      ]
     },
     "execution_count": 121,
     "metadata": {},
     "output_type": "execute_result"
    }
   ],
   "source": [
    "df['view'].isna().sum()"
   ]
  },
  {
   "cell_type": "code",
   "execution_count": 122,
   "metadata": {
    "ExecuteTime": {
     "end_time": "2020-04-28T22:00:09.411665Z",
     "start_time": "2020-04-28T22:00:09.391067Z"
    }
   },
   "outputs": [
    {
     "data": {
      "text/html": [
       "<div>\n",
       "<style scoped>\n",
       "    .dataframe tbody tr th:only-of-type {\n",
       "        vertical-align: middle;\n",
       "    }\n",
       "\n",
       "    .dataframe tbody tr th {\n",
       "        vertical-align: top;\n",
       "    }\n",
       "\n",
       "    .dataframe thead th {\n",
       "        text-align: right;\n",
       "    }\n",
       "</style>\n",
       "<table border=\"1\" class=\"dataframe\">\n",
       "  <thead>\n",
       "    <tr style=\"text-align: right;\">\n",
       "      <th></th>\n",
       "      <th>view</th>\n",
       "      <th>waterfront</th>\n",
       "    </tr>\n",
       "  </thead>\n",
       "  <tbody>\n",
       "    <tr>\n",
       "      <td>view</td>\n",
       "      <td>1.000000</td>\n",
       "      <td>0.406654</td>\n",
       "    </tr>\n",
       "    <tr>\n",
       "      <td>waterfront</td>\n",
       "      <td>0.406654</td>\n",
       "      <td>1.000000</td>\n",
       "    </tr>\n",
       "  </tbody>\n",
       "</table>\n",
       "</div>"
      ],
      "text/plain": [
       "                view  waterfront\n",
       "view        1.000000    0.406654\n",
       "waterfront  0.406654    1.000000"
      ]
     },
     "execution_count": 122,
     "metadata": {},
     "output_type": "execute_result"
    }
   ],
   "source": [
    "feats = ['view', 'waterfront']\n",
    "df[feats].corr()"
   ]
  },
  {
   "cell_type": "code",
   "execution_count": 123,
   "metadata": {
    "ExecuteTime": {
     "end_time": "2020-04-28T22:00:09.430796Z",
     "start_time": "2020-04-28T22:00:09.417183Z"
    }
   },
   "outputs": [
    {
     "name": "stdout",
     "output_type": "stream",
     "text": [
      "Number missing both: 6\n"
     ]
    }
   ],
   "source": [
    "print('Number missing both:',\n",
    "      len(df[(df.view.isnull())\n",
    "      & (df.waterfront.isnull())]))"
   ]
  },
  {
   "cell_type": "code",
   "execution_count": 124,
   "metadata": {
    "ExecuteTime": {
     "end_time": "2020-04-28T22:00:09.440208Z",
     "start_time": "2020-04-28T22:00:09.433328Z"
    }
   },
   "outputs": [
    {
     "data": {
      "text/plain": [
       "0"
      ]
     },
     "execution_count": 124,
     "metadata": {},
     "output_type": "execute_result"
    }
   ],
   "source": [
    "len(df[(df.view==0)&(df.waterfront>0)])"
   ]
  },
  {
   "cell_type": "code",
   "execution_count": 125,
   "metadata": {
    "ExecuteTime": {
     "end_time": "2020-04-28T22:00:09.450443Z",
     "start_time": "2020-04-28T22:00:09.441727Z"
    }
   },
   "outputs": [
    {
     "data": {
      "text/plain": [
       "121"
      ]
     },
     "execution_count": 125,
     "metadata": {},
     "output_type": "execute_result"
    }
   ],
   "source": [
    "len(df[(df.view==2)&(df.waterfront.isna())])"
   ]
  },
  {
   "cell_type": "code",
   "execution_count": 126,
   "metadata": {
    "ExecuteTime": {
     "end_time": "2020-04-28T22:00:09.460206Z",
     "start_time": "2020-04-28T22:00:09.453100Z"
    }
   },
   "outputs": [
    {
     "data": {
      "text/plain": [
       "14"
      ]
     },
     "execution_count": 126,
     "metadata": {},
     "output_type": "execute_result"
    }
   ],
   "source": [
    "len(df[(df.view==3)&(df.waterfront>0)])"
   ]
  },
  {
   "cell_type": "markdown",
   "metadata": {},
   "source": [
    "Waterfront and view columns are corrolated. If there was a view or waterfront is would going to be written. We can say missinf values in waterfront column can be filled with '0'."
   ]
  },
  {
   "cell_type": "code",
   "execution_count": 127,
   "metadata": {
    "ExecuteTime": {
     "end_time": "2020-04-28T22:00:09.466300Z",
     "start_time": "2020-04-28T22:00:09.462004Z"
    }
   },
   "outputs": [],
   "source": [
    "df['view'].fillna(0,inplace=True)"
   ]
  },
  {
   "cell_type": "code",
   "execution_count": 128,
   "metadata": {
    "ExecuteTime": {
     "end_time": "2020-04-28T22:00:09.475635Z",
     "start_time": "2020-04-28T22:00:09.468590Z"
    }
   },
   "outputs": [
    {
     "data": {
      "text/plain": [
       "0.0    19075\n",
       "1.0      146\n",
       "Name: waterfront, dtype: int64"
      ]
     },
     "execution_count": 128,
     "metadata": {},
     "output_type": "execute_result"
    }
   ],
   "source": [
    "df['waterfront'].value_counts()"
   ]
  },
  {
   "cell_type": "code",
   "execution_count": 129,
   "metadata": {
    "ExecuteTime": {
     "end_time": "2020-04-28T22:00:09.483795Z",
     "start_time": "2020-04-28T22:00:09.477223Z"
    }
   },
   "outputs": [
    {
     "data": {
      "text/plain": [
       "2"
      ]
     },
     "execution_count": 129,
     "metadata": {},
     "output_type": "execute_result"
    }
   ],
   "source": [
    "df['waterfront'].nunique()"
   ]
  },
  {
   "cell_type": "code",
   "execution_count": 130,
   "metadata": {
    "ExecuteTime": {
     "end_time": "2020-04-28T22:00:09.490595Z",
     "start_time": "2020-04-28T22:00:09.485993Z"
    },
    "scrolled": true
   },
   "outputs": [
    {
     "data": {
      "text/plain": [
       "2376"
      ]
     },
     "execution_count": 130,
     "metadata": {},
     "output_type": "execute_result"
    }
   ],
   "source": [
    "df['waterfront'].isna().sum()"
   ]
  },
  {
   "cell_type": "code",
   "execution_count": 131,
   "metadata": {
    "ExecuteTime": {
     "end_time": "2020-04-28T22:00:09.495038Z",
     "start_time": "2020-04-28T22:00:09.492114Z"
    }
   },
   "outputs": [],
   "source": [
    "df['waterfront'].fillna(0,inplace=True)"
   ]
  },
  {
   "cell_type": "code",
   "execution_count": 132,
   "metadata": {
    "ExecuteTime": {
     "end_time": "2020-04-28T22:00:09.508643Z",
     "start_time": "2020-04-28T22:00:09.497944Z"
    },
    "scrolled": true
   },
   "outputs": [
    {
     "data": {
      "text/html": [
       "<div>\n",
       "<style scoped>\n",
       "    .dataframe tbody tr th:only-of-type {\n",
       "        vertical-align: middle;\n",
       "    }\n",
       "\n",
       "    .dataframe tbody tr th {\n",
       "        vertical-align: top;\n",
       "    }\n",
       "\n",
       "    .dataframe thead th {\n",
       "        text-align: right;\n",
       "    }\n",
       "</style>\n",
       "<table border=\"1\" class=\"dataframe\">\n",
       "  <thead>\n",
       "    <tr style=\"text-align: right;\">\n",
       "      <th></th>\n",
       "      <th>view</th>\n",
       "      <th>waterfront</th>\n",
       "    </tr>\n",
       "  </thead>\n",
       "  <tbody>\n",
       "    <tr>\n",
       "      <td>view</td>\n",
       "      <td>1.000000</td>\n",
       "      <td>0.380543</td>\n",
       "    </tr>\n",
       "    <tr>\n",
       "      <td>waterfront</td>\n",
       "      <td>0.380543</td>\n",
       "      <td>1.000000</td>\n",
       "    </tr>\n",
       "  </tbody>\n",
       "</table>\n",
       "</div>"
      ],
      "text/plain": [
       "                view  waterfront\n",
       "view        1.000000    0.380543\n",
       "waterfront  0.380543    1.000000"
      ]
     },
     "execution_count": 132,
     "metadata": {},
     "output_type": "execute_result"
    }
   ],
   "source": [
    "feats = ['view', 'waterfront']\n",
    "df[feats].corr()"
   ]
  },
  {
   "cell_type": "markdown",
   "metadata": {},
   "source": [
    "#### Year_renovated column"
   ]
  },
  {
   "cell_type": "code",
   "execution_count": 133,
   "metadata": {
    "ExecuteTime": {
     "end_time": "2020-04-28T22:00:09.513061Z",
     "start_time": "2020-04-28T22:00:09.510084Z"
    }
   },
   "outputs": [],
   "source": [
    "df.yr_renovated.fillna(0, inplace=True)"
   ]
  },
  {
   "cell_type": "markdown",
   "metadata": {},
   "source": [
    "## Check the distributions\n",
    "\n",
    " Let's check if the distributions of continous variables are normal. We can check if there is a high skewness or/and kurtosis."
   ]
  },
  {
   "cell_type": "code",
   "execution_count": 134,
   "metadata": {
    "ExecuteTime": {
     "end_time": "2020-04-28T22:00:10.375443Z",
     "start_time": "2020-04-28T22:00:09.516465Z"
    }
   },
   "outputs": [],
   "source": [
    "df.hist(figsize=(20,15));\n"
   ]
  },
  {
   "cell_type": "markdown",
   "metadata": {},
   "source": [
    "## Outliers\n",
    "\n",
    "We have to be very careful about outliers. Waterfront houses are very expensive and they are detected as outliers. The real outlier in this data was 33 bedroom house. We have changed it to a 3 bedroom house. The others are real houses but some of them are very expensive because of some properties we don't have information. These expensive houses can have a pool or a special garden.They can be at walking distance to Grade A schools or a walking trail or playground. So we will get rid of %0.1 both from the bottom and from the top."
   ]
  },
  {
   "cell_type": "code",
   "execution_count": 135,
   "metadata": {
    "ExecuteTime": {
     "end_time": "2020-04-28T22:00:10.431664Z",
     "start_time": "2020-04-28T22:00:10.377359Z"
    }
   },
   "outputs": [],
   "source": [
    "Q1 = df.quantile(0.001)\n",
    "Q3 = df.quantile(0.999)\n",
    "IQR = Q3 - Q1\n",
    "\n",
    "df = df[~((df < (Q1 - 1.5 * IQR)) |(df > (Q3 + 1.5 * IQR))).any(axis=1)]"
   ]
  },
  {
   "cell_type": "markdown",
   "metadata": {},
   "source": [
    "## Log transformation of data\n",
    "\n",
    "Log transformation is needed to make the distributions much normal. Let's transform the continous variables by using logarithym of 'e'. \n",
    "\n"
   ]
  },
  {
   "cell_type": "code",
   "execution_count": 136,
   "metadata": {
    "ExecuteTime": {
     "end_time": "2020-04-28T22:00:10.792805Z",
     "start_time": "2020-04-28T22:00:10.433607Z"
    }
   },
   "outputs": [],
   "source": [
    "non_normal = ['price','sqft_living', 'sqft_lot','sqft_above','sqft_basement',\n",
    "              'yr_built', 'yr_renovated','sqft_living15', 'sqft_lot15']\n",
    "for feat in non_normal:\n",
    "    df[feat] = df[feat].map(lambda x: np.log1p(x))\n"
   ]
  },
  {
   "cell_type": "markdown",
   "metadata": {
    "scrolled": true
   },
   "source": [
    "## Normalizing the data"
   ]
  },
  {
   "cell_type": "code",
   "execution_count": 137,
   "metadata": {
    "ExecuteTime": {
     "end_time": "2020-04-28T22:00:10.808541Z",
     "start_time": "2020-04-28T22:00:10.794431Z"
    }
   },
   "outputs": [],
   "source": [
    "def norm_feat(series):\n",
    "    return (series - series.mean())/series.std()\n",
    "for feat in ['bathrooms', 'sqft_living', 'sqft_lot','sqft_above', 'sqft_basement', 'yr_built','yr_renovated','sqft_living15', 'sqft_lot15']:\n",
    "    df[feat] = norm_feat(df[feat])\n"
   ]
  },
  {
   "cell_type": "code",
   "execution_count": 138,
   "metadata": {
    "ExecuteTime": {
     "end_time": "2020-04-28T22:00:10.890210Z",
     "start_time": "2020-04-28T22:00:10.810107Z"
    }
   },
   "outputs": [
    {
     "data": {
      "text/html": [
       "<div>\n",
       "<style scoped>\n",
       "    .dataframe tbody tr th:only-of-type {\n",
       "        vertical-align: middle;\n",
       "    }\n",
       "\n",
       "    .dataframe tbody tr th {\n",
       "        vertical-align: top;\n",
       "    }\n",
       "\n",
       "    .dataframe thead th {\n",
       "        text-align: right;\n",
       "    }\n",
       "</style>\n",
       "<table border=\"1\" class=\"dataframe\">\n",
       "  <thead>\n",
       "    <tr style=\"text-align: right;\">\n",
       "      <th></th>\n",
       "      <th>price</th>\n",
       "      <th>bedrooms</th>\n",
       "      <th>bathrooms</th>\n",
       "      <th>sqft_living</th>\n",
       "      <th>sqft_lot</th>\n",
       "      <th>floors</th>\n",
       "      <th>waterfront</th>\n",
       "      <th>view</th>\n",
       "      <th>condition</th>\n",
       "      <th>grade</th>\n",
       "      <th>sqft_above</th>\n",
       "      <th>sqft_basement</th>\n",
       "      <th>yr_built</th>\n",
       "      <th>yr_renovated</th>\n",
       "      <th>zipcode</th>\n",
       "      <th>lat</th>\n",
       "      <th>long</th>\n",
       "      <th>sqft_living15</th>\n",
       "      <th>sqft_lot15</th>\n",
       "      <th>sale_month</th>\n",
       "    </tr>\n",
       "  </thead>\n",
       "  <tbody>\n",
       "    <tr>\n",
       "      <td>count</td>\n",
       "      <td>21594.00</td>\n",
       "      <td>21594.00</td>\n",
       "      <td>21594.00</td>\n",
       "      <td>21594.00</td>\n",
       "      <td>21594.00</td>\n",
       "      <td>21594.00</td>\n",
       "      <td>21594.00</td>\n",
       "      <td>21594.00</td>\n",
       "      <td>21594.00</td>\n",
       "      <td>21594.00</td>\n",
       "      <td>21594.00</td>\n",
       "      <td>21594.00</td>\n",
       "      <td>21594.00</td>\n",
       "      <td>21594.00</td>\n",
       "      <td>21594.00</td>\n",
       "      <td>21594.00</td>\n",
       "      <td>21594.00</td>\n",
       "      <td>21594.00</td>\n",
       "      <td>21594.00</td>\n",
       "      <td>21594.00</td>\n",
       "    </tr>\n",
       "    <tr>\n",
       "      <td>mean</td>\n",
       "      <td>13.05</td>\n",
       "      <td>3.37</td>\n",
       "      <td>-0.00</td>\n",
       "      <td>0.00</td>\n",
       "      <td>-0.00</td>\n",
       "      <td>1.49</td>\n",
       "      <td>0.01</td>\n",
       "      <td>0.23</td>\n",
       "      <td>3.41</td>\n",
       "      <td>7.66</td>\n",
       "      <td>0.00</td>\n",
       "      <td>-0.00</td>\n",
       "      <td>0.00</td>\n",
       "      <td>0.00</td>\n",
       "      <td>98077.96</td>\n",
       "      <td>47.56</td>\n",
       "      <td>-122.21</td>\n",
       "      <td>0.00</td>\n",
       "      <td>-0.00</td>\n",
       "      <td>6.57</td>\n",
       "    </tr>\n",
       "    <tr>\n",
       "      <td>std</td>\n",
       "      <td>0.53</td>\n",
       "      <td>0.90</td>\n",
       "      <td>1.00</td>\n",
       "      <td>1.00</td>\n",
       "      <td>1.00</td>\n",
       "      <td>0.54</td>\n",
       "      <td>0.08</td>\n",
       "      <td>0.76</td>\n",
       "      <td>0.65</td>\n",
       "      <td>1.17</td>\n",
       "      <td>1.00</td>\n",
       "      <td>1.00</td>\n",
       "      <td>1.00</td>\n",
       "      <td>1.00</td>\n",
       "      <td>53.51</td>\n",
       "      <td>0.14</td>\n",
       "      <td>0.14</td>\n",
       "      <td>1.00</td>\n",
       "      <td>1.00</td>\n",
       "      <td>3.11</td>\n",
       "    </tr>\n",
       "    <tr>\n",
       "      <td>min</td>\n",
       "      <td>11.26</td>\n",
       "      <td>1.00</td>\n",
       "      <td>-2.10</td>\n",
       "      <td>-3.86</td>\n",
       "      <td>-3.04</td>\n",
       "      <td>1.00</td>\n",
       "      <td>0.00</td>\n",
       "      <td>0.00</td>\n",
       "      <td>1.00</td>\n",
       "      <td>3.00</td>\n",
       "      <td>-3.47</td>\n",
       "      <td>-0.79</td>\n",
       "      <td>-2.45</td>\n",
       "      <td>-0.19</td>\n",
       "      <td>98001.00</td>\n",
       "      <td>47.16</td>\n",
       "      <td>-122.52</td>\n",
       "      <td>-4.73</td>\n",
       "      <td>-3.06</td>\n",
       "      <td>1.00</td>\n",
       "    </tr>\n",
       "    <tr>\n",
       "      <td>25%</td>\n",
       "      <td>12.68</td>\n",
       "      <td>3.00</td>\n",
       "      <td>-0.48</td>\n",
       "      <td>-0.67</td>\n",
       "      <td>-0.52</td>\n",
       "      <td>1.00</td>\n",
       "      <td>0.00</td>\n",
       "      <td>0.00</td>\n",
       "      <td>3.00</td>\n",
       "      <td>7.00</td>\n",
       "      <td>-0.73</td>\n",
       "      <td>-0.79</td>\n",
       "      <td>-0.67</td>\n",
       "      <td>-0.19</td>\n",
       "      <td>98033.00</td>\n",
       "      <td>47.47</td>\n",
       "      <td>-122.33</td>\n",
       "      <td>-0.71</td>\n",
       "      <td>-0.52</td>\n",
       "      <td>4.00</td>\n",
       "    </tr>\n",
       "    <tr>\n",
       "      <td>50%</td>\n",
       "      <td>13.02</td>\n",
       "      <td>3.00</td>\n",
       "      <td>0.17</td>\n",
       "      <td>0.01</td>\n",
       "      <td>-0.06</td>\n",
       "      <td>1.50</td>\n",
       "      <td>0.00</td>\n",
       "      <td>0.00</td>\n",
       "      <td>3.00</td>\n",
       "      <td>7.00</td>\n",
       "      <td>-0.10</td>\n",
       "      <td>-0.79</td>\n",
       "      <td>0.14</td>\n",
       "      <td>-0.19</td>\n",
       "      <td>98065.00</td>\n",
       "      <td>47.57</td>\n",
       "      <td>-122.23</td>\n",
       "      <td>-0.07</td>\n",
       "      <td>-0.03</td>\n",
       "      <td>6.00</td>\n",
       "    </tr>\n",
       "    <tr>\n",
       "      <td>75%</td>\n",
       "      <td>13.38</td>\n",
       "      <td>4.00</td>\n",
       "      <td>0.50</td>\n",
       "      <td>0.69</td>\n",
       "      <td>0.32</td>\n",
       "      <td>2.00</td>\n",
       "      <td>0.00</td>\n",
       "      <td>0.00</td>\n",
       "      <td>4.00</td>\n",
       "      <td>8.00</td>\n",
       "      <td>0.72</td>\n",
       "      <td>1.21</td>\n",
       "      <td>0.88</td>\n",
       "      <td>-0.19</td>\n",
       "      <td>98118.00</td>\n",
       "      <td>47.68</td>\n",
       "      <td>-122.12</td>\n",
       "      <td>0.69</td>\n",
       "      <td>0.32</td>\n",
       "      <td>9.00</td>\n",
       "    </tr>\n",
       "    <tr>\n",
       "      <td>max</td>\n",
       "      <td>15.86</td>\n",
       "      <td>11.00</td>\n",
       "      <td>7.66</td>\n",
       "      <td>4.63</td>\n",
       "      <td>5.53</td>\n",
       "      <td>3.50</td>\n",
       "      <td>1.00</td>\n",
       "      <td>4.00</td>\n",
       "      <td>5.00</td>\n",
       "      <td>13.00</td>\n",
       "      <td>4.11</td>\n",
       "      <td>1.90</td>\n",
       "      <td>1.48</td>\n",
       "      <td>5.30</td>\n",
       "      <td>98199.00</td>\n",
       "      <td>47.78</td>\n",
       "      <td>-121.32</td>\n",
       "      <td>3.65</td>\n",
       "      <td>5.27</td>\n",
       "      <td>12.00</td>\n",
       "    </tr>\n",
       "  </tbody>\n",
       "</table>\n",
       "</div>"
      ],
      "text/plain": [
       "          price  bedrooms  bathrooms  sqft_living  sqft_lot    floors  \\\n",
       "count  21594.00  21594.00   21594.00     21594.00  21594.00  21594.00   \n",
       "mean      13.05      3.37      -0.00         0.00     -0.00      1.49   \n",
       "std        0.53      0.90       1.00         1.00      1.00      0.54   \n",
       "min       11.26      1.00      -2.10        -3.86     -3.04      1.00   \n",
       "25%       12.68      3.00      -0.48        -0.67     -0.52      1.00   \n",
       "50%       13.02      3.00       0.17         0.01     -0.06      1.50   \n",
       "75%       13.38      4.00       0.50         0.69      0.32      2.00   \n",
       "max       15.86     11.00       7.66         4.63      5.53      3.50   \n",
       "\n",
       "       waterfront      view  condition     grade  sqft_above  sqft_basement  \\\n",
       "count    21594.00  21594.00   21594.00  21594.00    21594.00       21594.00   \n",
       "mean         0.01      0.23       3.41      7.66        0.00          -0.00   \n",
       "std          0.08      0.76       0.65      1.17        1.00           1.00   \n",
       "min          0.00      0.00       1.00      3.00       -3.47          -0.79   \n",
       "25%          0.00      0.00       3.00      7.00       -0.73          -0.79   \n",
       "50%          0.00      0.00       3.00      7.00       -0.10          -0.79   \n",
       "75%          0.00      0.00       4.00      8.00        0.72           1.21   \n",
       "max          1.00      4.00       5.00     13.00        4.11           1.90   \n",
       "\n",
       "       yr_built  yr_renovated   zipcode       lat      long  sqft_living15  \\\n",
       "count  21594.00      21594.00  21594.00  21594.00  21594.00       21594.00   \n",
       "mean       0.00          0.00  98077.96     47.56   -122.21           0.00   \n",
       "std        1.00          1.00     53.51      0.14      0.14           1.00   \n",
       "min       -2.45         -0.19  98001.00     47.16   -122.52          -4.73   \n",
       "25%       -0.67         -0.19  98033.00     47.47   -122.33          -0.71   \n",
       "50%        0.14         -0.19  98065.00     47.57   -122.23          -0.07   \n",
       "75%        0.88         -0.19  98118.00     47.68   -122.12           0.69   \n",
       "max        1.48          5.30  98199.00     47.78   -121.32           3.65   \n",
       "\n",
       "       sqft_lot15  sale_month  \n",
       "count    21594.00    21594.00  \n",
       "mean        -0.00        6.57  \n",
       "std          1.00        3.11  \n",
       "min         -3.06        1.00  \n",
       "25%         -0.52        4.00  \n",
       "50%         -0.03        6.00  \n",
       "75%          0.32        9.00  \n",
       "max          5.27       12.00  "
      ]
     },
     "execution_count": 138,
     "metadata": {},
     "output_type": "execute_result"
    }
   ],
   "source": [
    "df.describe().round(2)"
   ]
  },
  {
   "cell_type": "code",
   "execution_count": 139,
   "metadata": {
    "ExecuteTime": {
     "end_time": "2020-04-28T22:00:11.508789Z",
     "start_time": "2020-04-28T22:00:10.891639Z"
    }
   },
   "outputs": [],
   "source": [
    "df.to_csv(\"king_county_dataset_cleaned.csv\", index=False)\n"
   ]
  },
  {
   "cell_type": "markdown",
   "metadata": {},
   "source": [
    "## Check the distributions again!"
   ]
  },
  {
   "cell_type": "code",
   "execution_count": 140,
   "metadata": {
    "ExecuteTime": {
     "end_time": "2020-04-28T22:00:12.360218Z",
     "start_time": "2020-04-28T22:00:11.510706Z"
    },
    "scrolled": true
   },
   "outputs": [],
   "source": [
    "df.hist(figsize=(20,15));\n"
   ]
  },
  {
   "cell_type": "markdown",
   "metadata": {},
   "source": [
    "We optained normal distributions in 'price', 'sqft_living','sqft_above', 'sqft_lot', 'yr_built', 'yr_renovated', 'sqft_living15' columns which is very good to apply linear regression."
   ]
  },
  {
   "cell_type": "markdown",
   "metadata": {},
   "source": [
    "## One-Hot Encoding Categorical Columns"
   ]
  },
  {
   "cell_type": "markdown",
   "metadata": {},
   "source": [
    "\n",
    "#### Identifying Categorical Variables\n",
    "\n",
    "These columns can be thought as categorical values. Bedrooms, floors, waterfront, wiev, grade and zipcode. We change their type to 'category' and make new columns by using pandas get_dummies() function.\n"
   ]
  },
  {
   "cell_type": "code",
   "execution_count": 141,
   "metadata": {
    "ExecuteTime": {
     "end_time": "2020-04-28T22:00:12.384261Z",
     "start_time": "2020-04-28T22:00:12.361933Z"
    }
   },
   "outputs": [],
   "source": [
    "df['bedrooms'] = df['bedrooms'].astype('category')\n",
    "df['floors'] = df['floors'].astype('category')\n",
    "df['waterfront'] = df['waterfront'].astype('category')\n",
    "df['view'] = df['view'].astype('category')\n",
    "df['condition'] = df['condition'].astype('category')\n",
    "df['grade'] = df['grade'].astype('category')\n",
    "df['zipcode'] = df['zipcode'].astype('category')"
   ]
  },
  {
   "cell_type": "code",
   "execution_count": 142,
   "metadata": {
    "ExecuteTime": {
     "end_time": "2020-04-28T22:00:12.429681Z",
     "start_time": "2020-04-28T22:00:12.392528Z"
    }
   },
   "outputs": [],
   "source": [
    "feats = ['price', 'bedrooms', 'bathrooms', 'sqft_living', 'sqft_lot', 'floors',\n",
    "       'waterfront', 'view', 'condition', 'grade', 'sqft_above',\n",
    "       'sqft_basement', 'yr_built', 'yr_renovated', 'zipcode',\n",
    "       'sqft_living15', 'sqft_lot15']\n",
    "df_feats = df[feats]\n",
    "df_feats_zipcode=df_feats.copy()\n",
    "df_feats = pd.get_dummies(df_feats, drop_first=True)"
   ]
  },
  {
   "cell_type": "markdown",
   "metadata": {},
   "source": [
    "# Exploring the data"
   ]
  },
  {
   "cell_type": "code",
   "execution_count": 143,
   "metadata": {
    "ExecuteTime": {
     "end_time": "2020-04-28T22:00:12.465630Z",
     "start_time": "2020-04-28T22:00:12.436426Z"
    }
   },
   "outputs": [
    {
     "data": {
      "text/html": [
       "<div>\n",
       "<style scoped>\n",
       "    .dataframe tbody tr th:only-of-type {\n",
       "        vertical-align: middle;\n",
       "    }\n",
       "\n",
       "    .dataframe tbody tr th {\n",
       "        vertical-align: top;\n",
       "    }\n",
       "\n",
       "    .dataframe thead th {\n",
       "        text-align: right;\n",
       "    }\n",
       "</style>\n",
       "<table border=\"1\" class=\"dataframe\">\n",
       "  <thead>\n",
       "    <tr style=\"text-align: right;\">\n",
       "      <th></th>\n",
       "      <th>price</th>\n",
       "      <th>bedrooms</th>\n",
       "      <th>bathrooms</th>\n",
       "      <th>sqft_living</th>\n",
       "      <th>sqft_lot</th>\n",
       "      <th>floors</th>\n",
       "      <th>waterfront</th>\n",
       "      <th>view</th>\n",
       "      <th>condition</th>\n",
       "      <th>grade</th>\n",
       "      <th>sqft_above</th>\n",
       "      <th>sqft_basement</th>\n",
       "      <th>yr_built</th>\n",
       "      <th>yr_renovated</th>\n",
       "      <th>zipcode</th>\n",
       "      <th>lat</th>\n",
       "      <th>long</th>\n",
       "      <th>sqft_living15</th>\n",
       "      <th>sqft_lot15</th>\n",
       "      <th>sale_month</th>\n",
       "    </tr>\n",
       "  </thead>\n",
       "  <tbody>\n",
       "    <tr>\n",
       "      <td>0</td>\n",
       "      <td>12.309987</td>\n",
       "      <td>3</td>\n",
       "      <td>-1.451612</td>\n",
       "      <td>-1.125683</td>\n",
       "      <td>-0.388509</td>\n",
       "      <td>1.0</td>\n",
       "      <td>0.0</td>\n",
       "      <td>0.0</td>\n",
       "      <td>3</td>\n",
       "      <td>7</td>\n",
       "      <td>-0.753610</td>\n",
       "      <td>-0.785202</td>\n",
       "      <td>-0.537420</td>\n",
       "      <td>-0.188896</td>\n",
       "      <td>98178</td>\n",
       "      <td>47.5112</td>\n",
       "      <td>-122.257</td>\n",
       "      <td>-1.035409</td>\n",
       "      <td>-0.395548</td>\n",
       "      <td>10</td>\n",
       "    </tr>\n",
       "    <tr>\n",
       "      <td>1</td>\n",
       "      <td>13.195616</td>\n",
       "      <td>3</td>\n",
       "      <td>0.174831</td>\n",
       "      <td>0.709834</td>\n",
       "      <td>-0.112772</td>\n",
       "      <td>2.0</td>\n",
       "      <td>0.0</td>\n",
       "      <td>0.0</td>\n",
       "      <td>3</td>\n",
       "      <td>7</td>\n",
       "      <td>0.673014</td>\n",
       "      <td>1.112346</td>\n",
       "      <td>-0.674345</td>\n",
       "      <td>5.291902</td>\n",
       "      <td>98125</td>\n",
       "      <td>47.7210</td>\n",
       "      <td>-122.319</td>\n",
       "      <td>-0.326807</td>\n",
       "      <td>-0.023625</td>\n",
       "      <td>12</td>\n",
       "    </tr>\n",
       "    <tr>\n",
       "      <td>2</td>\n",
       "      <td>12.100718</td>\n",
       "      <td>2</td>\n",
       "      <td>-1.451612</td>\n",
       "      <td>-2.131831</td>\n",
       "      <td>0.245671</td>\n",
       "      <td>1.0</td>\n",
       "      <td>0.0</td>\n",
       "      <td>0.0</td>\n",
       "      <td>3</td>\n",
       "      <td>6</td>\n",
       "      <td>-1.752832</td>\n",
       "      <td>-0.785202</td>\n",
       "      <td>-1.294001</td>\n",
       "      <td>-0.188896</td>\n",
       "      <td>98028</td>\n",
       "      <td>47.7379</td>\n",
       "      <td>-122.233</td>\n",
       "      <td>1.126666</td>\n",
       "      <td>0.042836</td>\n",
       "      <td>2</td>\n",
       "    </tr>\n",
       "    <tr>\n",
       "      <td>3</td>\n",
       "      <td>13.311331</td>\n",
       "      <td>4</td>\n",
       "      <td>1.150697</td>\n",
       "      <td>0.070792</td>\n",
       "      <td>-0.524259</td>\n",
       "      <td>1.0</td>\n",
       "      <td>0.0</td>\n",
       "      <td>0.0</td>\n",
       "      <td>5</td>\n",
       "      <td>7</td>\n",
       "      <td>-1.026876</td>\n",
       "      <td>1.372122</td>\n",
       "      <td>-0.196328</td>\n",
       "      <td>-0.188896</td>\n",
       "      <td>98136</td>\n",
       "      <td>47.5208</td>\n",
       "      <td>-122.393</td>\n",
       "      <td>-0.990173</td>\n",
       "      <td>-0.546252</td>\n",
       "      <td>12</td>\n",
       "    </tr>\n",
       "    <tr>\n",
       "      <td>4</td>\n",
       "      <td>13.142168</td>\n",
       "      <td>3</td>\n",
       "      <td>-0.150458</td>\n",
       "      <td>-0.292723</td>\n",
       "      <td>0.008853</td>\n",
       "      <td>1.0</td>\n",
       "      <td>0.0</td>\n",
       "      <td>0.0</td>\n",
       "      <td>3</td>\n",
       "      <td>8</td>\n",
       "      <td>0.073617</td>\n",
       "      <td>-0.785202</td>\n",
       "      <td>0.548008</td>\n",
       "      <td>-0.188896</td>\n",
       "      <td>98074</td>\n",
       "      <td>47.6168</td>\n",
       "      <td>-122.045</td>\n",
       "      <td>-0.134239</td>\n",
       "      <td>-0.045777</td>\n",
       "      <td>2</td>\n",
       "    </tr>\n",
       "  </tbody>\n",
       "</table>\n",
       "</div>"
      ],
      "text/plain": [
       "       price bedrooms  bathrooms  sqft_living  sqft_lot floors waterfront  \\\n",
       "0  12.309987        3  -1.451612    -1.125683 -0.388509    1.0        0.0   \n",
       "1  13.195616        3   0.174831     0.709834 -0.112772    2.0        0.0   \n",
       "2  12.100718        2  -1.451612    -2.131831  0.245671    1.0        0.0   \n",
       "3  13.311331        4   1.150697     0.070792 -0.524259    1.0        0.0   \n",
       "4  13.142168        3  -0.150458    -0.292723  0.008853    1.0        0.0   \n",
       "\n",
       "  view condition grade  sqft_above  sqft_basement  yr_built  yr_renovated  \\\n",
       "0  0.0         3     7   -0.753610      -0.785202 -0.537420     -0.188896   \n",
       "1  0.0         3     7    0.673014       1.112346 -0.674345      5.291902   \n",
       "2  0.0         3     6   -1.752832      -0.785202 -1.294001     -0.188896   \n",
       "3  0.0         5     7   -1.026876       1.372122 -0.196328     -0.188896   \n",
       "4  0.0         3     8    0.073617      -0.785202  0.548008     -0.188896   \n",
       "\n",
       "  zipcode      lat     long  sqft_living15  sqft_lot15  sale_month  \n",
       "0   98178  47.5112 -122.257      -1.035409   -0.395548          10  \n",
       "1   98125  47.7210 -122.319      -0.326807   -0.023625          12  \n",
       "2   98028  47.7379 -122.233       1.126666    0.042836           2  \n",
       "3   98136  47.5208 -122.393      -0.990173   -0.546252          12  \n",
       "4   98074  47.6168 -122.045      -0.134239   -0.045777           2  "
      ]
     },
     "execution_count": 143,
     "metadata": {},
     "output_type": "execute_result"
    }
   ],
   "source": [
    "df.head()"
   ]
  },
  {
   "cell_type": "code",
   "execution_count": 144,
   "metadata": {
    "ExecuteTime": {
     "end_time": "2020-04-28T22:00:12.489768Z",
     "start_time": "2020-04-28T22:00:12.467779Z"
    },
    "scrolled": true
   },
   "outputs": [
    {
     "data": {
      "text/html": [
       "<div>\n",
       "<style scoped>\n",
       "    .dataframe tbody tr th:only-of-type {\n",
       "        vertical-align: middle;\n",
       "    }\n",
       "\n",
       "    .dataframe tbody tr th {\n",
       "        vertical-align: top;\n",
       "    }\n",
       "\n",
       "    .dataframe thead th {\n",
       "        text-align: right;\n",
       "    }\n",
       "</style>\n",
       "<table border=\"1\" class=\"dataframe\">\n",
       "  <thead>\n",
       "    <tr style=\"text-align: right;\">\n",
       "      <th></th>\n",
       "      <th>price</th>\n",
       "      <th>bathrooms</th>\n",
       "      <th>sqft_living</th>\n",
       "      <th>sqft_lot</th>\n",
       "      <th>sqft_above</th>\n",
       "      <th>sqft_basement</th>\n",
       "      <th>yr_built</th>\n",
       "      <th>yr_renovated</th>\n",
       "      <th>sqft_living15</th>\n",
       "      <th>sqft_lot15</th>\n",
       "      <th>...</th>\n",
       "      <th>zipcode_98146</th>\n",
       "      <th>zipcode_98148</th>\n",
       "      <th>zipcode_98155</th>\n",
       "      <th>zipcode_98166</th>\n",
       "      <th>zipcode_98168</th>\n",
       "      <th>zipcode_98177</th>\n",
       "      <th>zipcode_98178</th>\n",
       "      <th>zipcode_98188</th>\n",
       "      <th>zipcode_98198</th>\n",
       "      <th>zipcode_98199</th>\n",
       "    </tr>\n",
       "  </thead>\n",
       "  <tbody>\n",
       "    <tr>\n",
       "      <td>0</td>\n",
       "      <td>12.309987</td>\n",
       "      <td>-1.451612</td>\n",
       "      <td>-1.125683</td>\n",
       "      <td>-0.388509</td>\n",
       "      <td>-0.753610</td>\n",
       "      <td>-0.785202</td>\n",
       "      <td>-0.537420</td>\n",
       "      <td>-0.188896</td>\n",
       "      <td>-1.035409</td>\n",
       "      <td>-0.395548</td>\n",
       "      <td>...</td>\n",
       "      <td>0</td>\n",
       "      <td>0</td>\n",
       "      <td>0</td>\n",
       "      <td>0</td>\n",
       "      <td>0</td>\n",
       "      <td>0</td>\n",
       "      <td>1</td>\n",
       "      <td>0</td>\n",
       "      <td>0</td>\n",
       "      <td>0</td>\n",
       "    </tr>\n",
       "    <tr>\n",
       "      <td>1</td>\n",
       "      <td>13.195616</td>\n",
       "      <td>0.174831</td>\n",
       "      <td>0.709834</td>\n",
       "      <td>-0.112772</td>\n",
       "      <td>0.673014</td>\n",
       "      <td>1.112346</td>\n",
       "      <td>-0.674345</td>\n",
       "      <td>5.291902</td>\n",
       "      <td>-0.326807</td>\n",
       "      <td>-0.023625</td>\n",
       "      <td>...</td>\n",
       "      <td>0</td>\n",
       "      <td>0</td>\n",
       "      <td>0</td>\n",
       "      <td>0</td>\n",
       "      <td>0</td>\n",
       "      <td>0</td>\n",
       "      <td>0</td>\n",
       "      <td>0</td>\n",
       "      <td>0</td>\n",
       "      <td>0</td>\n",
       "    </tr>\n",
       "    <tr>\n",
       "      <td>2</td>\n",
       "      <td>12.100718</td>\n",
       "      <td>-1.451612</td>\n",
       "      <td>-2.131831</td>\n",
       "      <td>0.245671</td>\n",
       "      <td>-1.752832</td>\n",
       "      <td>-0.785202</td>\n",
       "      <td>-1.294001</td>\n",
       "      <td>-0.188896</td>\n",
       "      <td>1.126666</td>\n",
       "      <td>0.042836</td>\n",
       "      <td>...</td>\n",
       "      <td>0</td>\n",
       "      <td>0</td>\n",
       "      <td>0</td>\n",
       "      <td>0</td>\n",
       "      <td>0</td>\n",
       "      <td>0</td>\n",
       "      <td>0</td>\n",
       "      <td>0</td>\n",
       "      <td>0</td>\n",
       "      <td>0</td>\n",
       "    </tr>\n",
       "    <tr>\n",
       "      <td>3</td>\n",
       "      <td>13.311331</td>\n",
       "      <td>1.150697</td>\n",
       "      <td>0.070792</td>\n",
       "      <td>-0.524259</td>\n",
       "      <td>-1.026876</td>\n",
       "      <td>1.372122</td>\n",
       "      <td>-0.196328</td>\n",
       "      <td>-0.188896</td>\n",
       "      <td>-0.990173</td>\n",
       "      <td>-0.546252</td>\n",
       "      <td>...</td>\n",
       "      <td>0</td>\n",
       "      <td>0</td>\n",
       "      <td>0</td>\n",
       "      <td>0</td>\n",
       "      <td>0</td>\n",
       "      <td>0</td>\n",
       "      <td>0</td>\n",
       "      <td>0</td>\n",
       "      <td>0</td>\n",
       "      <td>0</td>\n",
       "    </tr>\n",
       "    <tr>\n",
       "      <td>4</td>\n",
       "      <td>13.142168</td>\n",
       "      <td>-0.150458</td>\n",
       "      <td>-0.292723</td>\n",
       "      <td>0.008853</td>\n",
       "      <td>0.073617</td>\n",
       "      <td>-0.785202</td>\n",
       "      <td>0.548008</td>\n",
       "      <td>-0.188896</td>\n",
       "      <td>-0.134239</td>\n",
       "      <td>-0.045777</td>\n",
       "      <td>...</td>\n",
       "      <td>0</td>\n",
       "      <td>0</td>\n",
       "      <td>0</td>\n",
       "      <td>0</td>\n",
       "      <td>0</td>\n",
       "      <td>0</td>\n",
       "      <td>0</td>\n",
       "      <td>0</td>\n",
       "      <td>0</td>\n",
       "      <td>0</td>\n",
       "    </tr>\n",
       "  </tbody>\n",
       "</table>\n",
       "<p>5 rows × 113 columns</p>\n",
       "</div>"
      ],
      "text/plain": [
       "       price  bathrooms  sqft_living  sqft_lot  sqft_above  sqft_basement  \\\n",
       "0  12.309987  -1.451612    -1.125683 -0.388509   -0.753610      -0.785202   \n",
       "1  13.195616   0.174831     0.709834 -0.112772    0.673014       1.112346   \n",
       "2  12.100718  -1.451612    -2.131831  0.245671   -1.752832      -0.785202   \n",
       "3  13.311331   1.150697     0.070792 -0.524259   -1.026876       1.372122   \n",
       "4  13.142168  -0.150458    -0.292723  0.008853    0.073617      -0.785202   \n",
       "\n",
       "   yr_built  yr_renovated  sqft_living15  sqft_lot15  ...  zipcode_98146  \\\n",
       "0 -0.537420     -0.188896      -1.035409   -0.395548  ...              0   \n",
       "1 -0.674345      5.291902      -0.326807   -0.023625  ...              0   \n",
       "2 -1.294001     -0.188896       1.126666    0.042836  ...              0   \n",
       "3 -0.196328     -0.188896      -0.990173   -0.546252  ...              0   \n",
       "4  0.548008     -0.188896      -0.134239   -0.045777  ...              0   \n",
       "\n",
       "   zipcode_98148  zipcode_98155  zipcode_98166  zipcode_98168  zipcode_98177  \\\n",
       "0              0              0              0              0              0   \n",
       "1              0              0              0              0              0   \n",
       "2              0              0              0              0              0   \n",
       "3              0              0              0              0              0   \n",
       "4              0              0              0              0              0   \n",
       "\n",
       "   zipcode_98178  zipcode_98188  zipcode_98198  zipcode_98199  \n",
       "0              1              0              0              0  \n",
       "1              0              0              0              0  \n",
       "2              0              0              0              0  \n",
       "3              0              0              0              0  \n",
       "4              0              0              0              0  \n",
       "\n",
       "[5 rows x 113 columns]"
      ]
     },
     "execution_count": 144,
     "metadata": {},
     "output_type": "execute_result"
    }
   ],
   "source": [
    "df_feats.head()"
   ]
  },
  {
   "cell_type": "code",
   "execution_count": 145,
   "metadata": {
    "ExecuteTime": {
     "end_time": "2020-04-28T22:00:12.499510Z",
     "start_time": "2020-04-28T22:00:12.492066Z"
    }
   },
   "outputs": [],
   "source": [
    "df_plot=df[['price', 'bedrooms','bathrooms','sqft_living', 'sqft_lot', 'sqft_above', 'sqft_basement', 'yr_built', 'lat','long','sqft_living15','sqft_lot15']].copy()"
   ]
  },
  {
   "cell_type": "code",
   "execution_count": 146,
   "metadata": {
    "ExecuteTime": {
     "end_time": "2020-04-28T22:00:31.399683Z",
     "start_time": "2020-04-28T22:00:12.502072Z"
    },
    "scrolled": true
   },
   "outputs": [],
   "source": [
    "sns.pairplot(df_plot);"
   ]
  },
  {
   "cell_type": "markdown",
   "metadata": {},
   "source": [
    "## Check for Linearity"
   ]
  },
  {
   "cell_type": "markdown",
   "metadata": {},
   "source": [
    "jointplots"
   ]
  },
  {
   "cell_type": "code",
   "execution_count": null,
   "metadata": {},
   "outputs": [],
   "source": []
  },
  {
   "cell_type": "markdown",
   "metadata": {},
   "source": [
    "## Check for Multicollinearity"
   ]
  },
  {
   "cell_type": "code",
   "execution_count": null,
   "metadata": {},
   "outputs": [],
   "source": []
  },
  {
   "cell_type": "code",
   "execution_count": 147,
   "metadata": {
    "ExecuteTime": {
     "end_time": "2020-04-28T22:00:31.950304Z",
     "start_time": "2020-04-28T22:00:31.401591Z"
    }
   },
   "outputs": [
    {
     "data": {
      "text/plain": [
       "<Figure size 2880x4000 with 0 Axes>"
      ]
     },
     "execution_count": 147,
     "metadata": {},
     "output_type": "execute_result"
    },
    {
     "data": {
      "text/plain": [
       "(10.0, 0.0)"
      ]
     },
     "execution_count": 147,
     "metadata": {},
     "output_type": "execute_result"
    }
   ],
   "source": [
    "# df_target = df_no_outliers.loc['price']\n",
    "df_heatmap=df.drop(['price','zipcode', 'lat', 'long'],axis=1)\n",
    "plt.figure(figsize=(20,20))\n",
    "ax=sns.heatmap(df_heatmap.corr(), center=0, linewidths=.5,annot=True);\n",
    "bottom, top = ax.get_ylim()\n",
    "ax.set_ylim(bottom + 0.5, top - 0.5)\n",
    "plt.show()"
   ]
  },
  {
   "cell_type": "code",
   "execution_count": 148,
   "metadata": {
    "ExecuteTime": {
     "end_time": "2020-04-28T22:00:31.974035Z",
     "start_time": "2020-04-28T22:00:31.951963Z"
    }
   },
   "outputs": [
    {
     "data": {
      "text/html": [
       "<div>\n",
       "<style scoped>\n",
       "    .dataframe tbody tr th:only-of-type {\n",
       "        vertical-align: middle;\n",
       "    }\n",
       "\n",
       "    .dataframe tbody tr th {\n",
       "        vertical-align: top;\n",
       "    }\n",
       "\n",
       "    .dataframe thead th {\n",
       "        text-align: right;\n",
       "    }\n",
       "</style>\n",
       "<table border=\"1\" class=\"dataframe\">\n",
       "  <thead>\n",
       "    <tr style=\"text-align: right;\">\n",
       "      <th></th>\n",
       "      <th>bathrooms</th>\n",
       "      <th>sqft_living</th>\n",
       "      <th>sqft_lot</th>\n",
       "      <th>sqft_above</th>\n",
       "      <th>sqft_basement</th>\n",
       "      <th>yr_built</th>\n",
       "      <th>yr_renovated</th>\n",
       "      <th>sqft_living15</th>\n",
       "      <th>sqft_lot15</th>\n",
       "      <th>sale_month</th>\n",
       "    </tr>\n",
       "  </thead>\n",
       "  <tbody>\n",
       "    <tr>\n",
       "      <td>bathrooms</td>\n",
       "      <td>True</td>\n",
       "      <td>True</td>\n",
       "      <td>False</td>\n",
       "      <td>False</td>\n",
       "      <td>False</td>\n",
       "      <td>False</td>\n",
       "      <td>False</td>\n",
       "      <td>False</td>\n",
       "      <td>False</td>\n",
       "      <td>False</td>\n",
       "    </tr>\n",
       "    <tr>\n",
       "      <td>sqft_living</td>\n",
       "      <td>True</td>\n",
       "      <td>True</td>\n",
       "      <td>False</td>\n",
       "      <td>True</td>\n",
       "      <td>False</td>\n",
       "      <td>False</td>\n",
       "      <td>False</td>\n",
       "      <td>False</td>\n",
       "      <td>False</td>\n",
       "      <td>False</td>\n",
       "    </tr>\n",
       "    <tr>\n",
       "      <td>sqft_lot</td>\n",
       "      <td>False</td>\n",
       "      <td>False</td>\n",
       "      <td>True</td>\n",
       "      <td>False</td>\n",
       "      <td>False</td>\n",
       "      <td>False</td>\n",
       "      <td>False</td>\n",
       "      <td>False</td>\n",
       "      <td>True</td>\n",
       "      <td>False</td>\n",
       "    </tr>\n",
       "    <tr>\n",
       "      <td>sqft_above</td>\n",
       "      <td>False</td>\n",
       "      <td>True</td>\n",
       "      <td>False</td>\n",
       "      <td>True</td>\n",
       "      <td>False</td>\n",
       "      <td>False</td>\n",
       "      <td>False</td>\n",
       "      <td>False</td>\n",
       "      <td>False</td>\n",
       "      <td>False</td>\n",
       "    </tr>\n",
       "    <tr>\n",
       "      <td>sqft_basement</td>\n",
       "      <td>False</td>\n",
       "      <td>False</td>\n",
       "      <td>False</td>\n",
       "      <td>False</td>\n",
       "      <td>True</td>\n",
       "      <td>False</td>\n",
       "      <td>False</td>\n",
       "      <td>False</td>\n",
       "      <td>False</td>\n",
       "      <td>False</td>\n",
       "    </tr>\n",
       "    <tr>\n",
       "      <td>yr_built</td>\n",
       "      <td>False</td>\n",
       "      <td>False</td>\n",
       "      <td>False</td>\n",
       "      <td>False</td>\n",
       "      <td>False</td>\n",
       "      <td>True</td>\n",
       "      <td>False</td>\n",
       "      <td>False</td>\n",
       "      <td>False</td>\n",
       "      <td>False</td>\n",
       "    </tr>\n",
       "    <tr>\n",
       "      <td>yr_renovated</td>\n",
       "      <td>False</td>\n",
       "      <td>False</td>\n",
       "      <td>False</td>\n",
       "      <td>False</td>\n",
       "      <td>False</td>\n",
       "      <td>False</td>\n",
       "      <td>True</td>\n",
       "      <td>False</td>\n",
       "      <td>False</td>\n",
       "      <td>False</td>\n",
       "    </tr>\n",
       "    <tr>\n",
       "      <td>sqft_living15</td>\n",
       "      <td>False</td>\n",
       "      <td>False</td>\n",
       "      <td>False</td>\n",
       "      <td>False</td>\n",
       "      <td>False</td>\n",
       "      <td>False</td>\n",
       "      <td>False</td>\n",
       "      <td>True</td>\n",
       "      <td>False</td>\n",
       "      <td>False</td>\n",
       "    </tr>\n",
       "    <tr>\n",
       "      <td>sqft_lot15</td>\n",
       "      <td>False</td>\n",
       "      <td>False</td>\n",
       "      <td>True</td>\n",
       "      <td>False</td>\n",
       "      <td>False</td>\n",
       "      <td>False</td>\n",
       "      <td>False</td>\n",
       "      <td>False</td>\n",
       "      <td>True</td>\n",
       "      <td>False</td>\n",
       "    </tr>\n",
       "    <tr>\n",
       "      <td>sale_month</td>\n",
       "      <td>False</td>\n",
       "      <td>False</td>\n",
       "      <td>False</td>\n",
       "      <td>False</td>\n",
       "      <td>False</td>\n",
       "      <td>False</td>\n",
       "      <td>False</td>\n",
       "      <td>False</td>\n",
       "      <td>False</td>\n",
       "      <td>True</td>\n",
       "    </tr>\n",
       "  </tbody>\n",
       "</table>\n",
       "</div>"
      ],
      "text/plain": [
       "               bathrooms  sqft_living  sqft_lot  sqft_above  sqft_basement  \\\n",
       "bathrooms           True         True     False       False          False   \n",
       "sqft_living         True         True     False        True          False   \n",
       "sqft_lot           False        False      True       False          False   \n",
       "sqft_above         False         True     False        True          False   \n",
       "sqft_basement      False        False     False       False           True   \n",
       "yr_built           False        False     False       False          False   \n",
       "yr_renovated       False        False     False       False          False   \n",
       "sqft_living15      False        False     False       False          False   \n",
       "sqft_lot15         False        False      True       False          False   \n",
       "sale_month         False        False     False       False          False   \n",
       "\n",
       "               yr_built  yr_renovated  sqft_living15  sqft_lot15  sale_month  \n",
       "bathrooms         False         False          False       False       False  \n",
       "sqft_living       False         False          False       False       False  \n",
       "sqft_lot          False         False          False        True       False  \n",
       "sqft_above        False         False          False       False       False  \n",
       "sqft_basement     False         False          False       False       False  \n",
       "yr_built           True         False          False       False       False  \n",
       "yr_renovated      False          True          False       False       False  \n",
       "sqft_living15     False         False           True       False       False  \n",
       "sqft_lot15        False         False          False        True       False  \n",
       "sale_month        False         False          False       False        True  "
      ]
     },
     "execution_count": 148,
     "metadata": {},
     "output_type": "execute_result"
    }
   ],
   "source": [
    "df_heatmap.corr() > 0.75\n"
   ]
  },
  {
   "cell_type": "markdown",
   "metadata": {},
   "source": [
    "# Modeling the data"
   ]
  },
  {
   "cell_type": "markdown",
   "metadata": {},
   "source": [
    "## Baseline Model "
   ]
  },
  {
   "cell_type": "code",
   "execution_count": 149,
   "metadata": {
    "ExecuteTime": {
     "end_time": "2020-04-28T22:00:31.985317Z",
     "start_time": "2020-04-28T22:00:31.976179Z"
    }
   },
   "outputs": [],
   "source": [
    "outcome = 'price'\n",
    "x_cols = [ 'bathrooms', 'sqft_living', 'sqft_lot', 'sqft_above',\n",
    "       'sqft_basement', 'yr_built', 'yr_renovated', 'sqft_living15',\n",
    "       'sqft_lot15', 'bedrooms_2', 'bedrooms_3', 'bedrooms_4', 'bedrooms_5',\n",
    "       'bedrooms_6', 'bedrooms_7', 'bedrooms_8', 'bedrooms_9', 'bedrooms_10',\n",
    "       'bedrooms_11', 'floors_1_5', 'floors_2_0', 'floors_2_5', 'floors_3_0',\n",
    "       'floors_3_5', 'waterfront_1_0', 'view_1_0', 'view_2_0', 'view_3_0',\n",
    "       'view_4_0', 'condition_2', 'condition_3', 'condition_4', 'condition_5',\n",
    "       'grade_4', 'grade_5', 'grade_6', 'grade_7', 'grade_8', 'grade_9',\n",
    "       'grade_10', 'grade_11', 'grade_12', 'grade_13', 'zipcode_98002',\n",
    "       'zipcode_98003', 'zipcode_98004', 'zipcode_98005', 'zipcode_98006',\n",
    "       'zipcode_98007', 'zipcode_98008', 'zipcode_98010', 'zipcode_98011', \n",
    "       'zipcode_98019', 'zipcode_98022', 'zipcode_98023', 'zipcode_98024',\n",
    "       'zipcode_98027', 'zipcode_98028', 'zipcode_98029', 'zipcode_98030',\n",
    "       'zipcode_98031', 'zipcode_98032', 'zipcode_98033', 'zipcode_98034',\n",
    "       'zipcode_98038', 'zipcode_98039', 'zipcode_98040', 'zipcode_98042',\n",
    "       'zipcode_98045', 'zipcode_98052', 'zipcode_98053', 'zipcode_98055',\n",
    "       'zipcode_98056', 'zipcode_98058', 'zipcode_98059', 'zipcode_98065',\n",
    "       'zipcode_98070', 'zipcode_98072', 'zipcode_98074', 'zipcode_98075',\n",
    "       'zipcode_98077', 'zipcode_98092', 'zipcode_98102', 'zipcode_98103',\n",
    "       'zipcode_98105', 'zipcode_98106', 'zipcode_98107', 'zipcode_98108',\n",
    "       'zipcode_98109', 'zipcode_98112', 'zipcode_98115', 'zipcode_98116',\n",
    "       'zipcode_98117', 'zipcode_98118', 'zipcode_98119', 'zipcode_98122',\n",
    "       'zipcode_98125', 'zipcode_98126', 'zipcode_98133', 'zipcode_98136',\n",
    "       'zipcode_98144', 'zipcode_98146', 'zipcode_98148', 'zipcode_98155',\n",
    "       'zipcode_98166', 'zipcode_98168', 'zipcode_98177', 'zipcode_98178',\n",
    "       'zipcode_98188', 'zipcode_98198', 'zipcode_98199','zipcode_98014']\n"
   ]
  },
  {
   "cell_type": "code",
   "execution_count": null,
   "metadata": {},
   "outputs": [],
   "source": []
  },
  {
   "cell_type": "code",
   "execution_count": 150,
   "metadata": {
    "ExecuteTime": {
     "end_time": "2020-04-28T22:00:31.991708Z",
     "start_time": "2020-04-28T22:00:31.987178Z"
    }
   },
   "outputs": [],
   "source": [
    "# df_feats.columns = [col.replace('.', '_', inplace=True) for col in df_feats.columns]\n",
    "# df_feats.columns = [col.replace(' ', '_', inplace=True) for col in df_feats.columns]\n",
    "df_feats.columns = df_feats.columns.str.replace(r\"[.]\", \"_\")"
   ]
  },
  {
   "cell_type": "code",
   "execution_count": 151,
   "metadata": {
    "ExecuteTime": {
     "end_time": "2020-04-28T22:00:31.997471Z",
     "start_time": "2020-04-28T22:00:31.993300Z"
    },
    "scrolled": true
   },
   "outputs": [
    {
     "data": {
      "text/plain": [
       "Index(['price', 'bathrooms', 'sqft_living', 'sqft_lot', 'sqft_above',\n",
       "       'sqft_basement', 'yr_built', 'yr_renovated', 'sqft_living15',\n",
       "       'sqft_lot15', 'bedrooms_2', 'bedrooms_3', 'bedrooms_4', 'bedrooms_5',\n",
       "       'bedrooms_6', 'bedrooms_7', 'bedrooms_8', 'bedrooms_9', 'bedrooms_10',\n",
       "       'bedrooms_11', 'floors_1_5', 'floors_2_0', 'floors_2_5', 'floors_3_0',\n",
       "       'floors_3_5', 'waterfront_1_0', 'view_1_0', 'view_2_0', 'view_3_0',\n",
       "       'view_4_0', 'condition_2', 'condition_3', 'condition_4', 'condition_5',\n",
       "       'grade_4', 'grade_5', 'grade_6', 'grade_7', 'grade_8', 'grade_9',\n",
       "       'grade_10', 'grade_11', 'grade_12', 'grade_13', 'zipcode_98002',\n",
       "       'zipcode_98003', 'zipcode_98004', 'zipcode_98005', 'zipcode_98006',\n",
       "       'zipcode_98007'],\n",
       "      dtype='object')"
      ]
     },
     "execution_count": 151,
     "metadata": {},
     "output_type": "execute_result"
    }
   ],
   "source": [
    "df_feats.columns[:50]"
   ]
  },
  {
   "cell_type": "code",
   "execution_count": 152,
   "metadata": {
    "ExecuteTime": {
     "end_time": "2020-04-28T22:00:32.006292Z",
     "start_time": "2020-04-28T22:00:32.000062Z"
    }
   },
   "outputs": [
    {
     "data": {
      "text/plain": [
       "Index(['zipcode_98008', 'zipcode_98010', 'zipcode_98011', 'zipcode_98014',\n",
       "       'zipcode_98019', 'zipcode_98022', 'zipcode_98023', 'zipcode_98024',\n",
       "       'zipcode_98027', 'zipcode_98028', 'zipcode_98029', 'zipcode_98030',\n",
       "       'zipcode_98031', 'zipcode_98032', 'zipcode_98033', 'zipcode_98034',\n",
       "       'zipcode_98038', 'zipcode_98039', 'zipcode_98040', 'zipcode_98042',\n",
       "       'zipcode_98045', 'zipcode_98052', 'zipcode_98053', 'zipcode_98055',\n",
       "       'zipcode_98056', 'zipcode_98058', 'zipcode_98059', 'zipcode_98065',\n",
       "       'zipcode_98070', 'zipcode_98072', 'zipcode_98074', 'zipcode_98075',\n",
       "       'zipcode_98077', 'zipcode_98092', 'zipcode_98102', 'zipcode_98103',\n",
       "       'zipcode_98105', 'zipcode_98106', 'zipcode_98107', 'zipcode_98108',\n",
       "       'zipcode_98109', 'zipcode_98112', 'zipcode_98115', 'zipcode_98116',\n",
       "       'zipcode_98117', 'zipcode_98118', 'zipcode_98119', 'zipcode_98122',\n",
       "       'zipcode_98125', 'zipcode_98126', 'zipcode_98133', 'zipcode_98136',\n",
       "       'zipcode_98144', 'zipcode_98146', 'zipcode_98148', 'zipcode_98155',\n",
       "       'zipcode_98166', 'zipcode_98168', 'zipcode_98177', 'zipcode_98178',\n",
       "       'zipcode_98188', 'zipcode_98198', 'zipcode_98199'],\n",
       "      dtype='object')"
      ]
     },
     "execution_count": 152,
     "metadata": {},
     "output_type": "execute_result"
    }
   ],
   "source": [
    "df_feats.columns[50:]"
   ]
  },
  {
   "cell_type": "code",
   "execution_count": 153,
   "metadata": {
    "ExecuteTime": {
     "end_time": "2020-04-28T22:00:32.977322Z",
     "start_time": "2020-04-28T22:00:32.008218Z"
    }
   },
   "outputs": [
    {
     "data": {
      "text/html": [
       "<table class=\"simpletable\">\n",
       "<caption>OLS Regression Results</caption>\n",
       "<tr>\n",
       "  <th>Dep. Variable:</th>          <td>price</td>      <th>  R-squared:         </th>  <td>   0.885</td> \n",
       "</tr>\n",
       "<tr>\n",
       "  <th>Model:</th>                   <td>OLS</td>       <th>  Adj. R-squared:    </th>  <td>   0.885</td> \n",
       "</tr>\n",
       "<tr>\n",
       "  <th>Method:</th>             <td>Least Squares</td>  <th>  F-statistic:       </th>  <td>   1481.</td> \n",
       "</tr>\n",
       "<tr>\n",
       "  <th>Date:</th>             <td>Tue, 28 Apr 2020</td> <th>  Prob (F-statistic):</th>   <td>  0.00</td>  \n",
       "</tr>\n",
       "<tr>\n",
       "  <th>Time:</th>                 <td>17:00:32</td>     <th>  Log-Likelihood:    </th>  <td>  6599.3</td> \n",
       "</tr>\n",
       "<tr>\n",
       "  <th>No. Observations:</th>      <td> 21594</td>      <th>  AIC:               </th> <td>-1.297e+04</td>\n",
       "</tr>\n",
       "<tr>\n",
       "  <th>Df Residuals:</th>          <td> 21481</td>      <th>  BIC:               </th> <td>-1.207e+04</td>\n",
       "</tr>\n",
       "<tr>\n",
       "  <th>Df Model:</th>              <td>   112</td>      <th>                     </th>      <td> </td>    \n",
       "</tr>\n",
       "<tr>\n",
       "  <th>Covariance Type:</th>      <td>nonrobust</td>    <th>                     </th>      <td> </td>    \n",
       "</tr>\n",
       "</table>\n",
       "<table class=\"simpletable\">\n",
       "<tr>\n",
       "         <td></td>           <th>coef</th>     <th>std err</th>      <th>t</th>      <th>P>|t|</th>  <th>[0.025</th>    <th>0.975]</th>  \n",
       "</tr>\n",
       "<tr>\n",
       "  <th>Intercept</th>      <td>   12.6470</td> <td>    0.183</td> <td>   69.203</td> <td> 0.000</td> <td>   12.289</td> <td>   13.005</td>\n",
       "</tr>\n",
       "<tr>\n",
       "  <th>bathrooms</th>      <td>    0.0293</td> <td>    0.002</td> <td>   12.809</td> <td> 0.000</td> <td>    0.025</td> <td>    0.034</td>\n",
       "</tr>\n",
       "<tr>\n",
       "  <th>sqft_living</th>    <td>    0.0994</td> <td>    0.006</td> <td>   16.597</td> <td> 0.000</td> <td>    0.088</td> <td>    0.111</td>\n",
       "</tr>\n",
       "<tr>\n",
       "  <th>sqft_lot</th>       <td>    0.0642</td> <td>    0.003</td> <td>   19.750</td> <td> 0.000</td> <td>    0.058</td> <td>    0.071</td>\n",
       "</tr>\n",
       "<tr>\n",
       "  <th>sqft_above</th>     <td>    0.0817</td> <td>    0.006</td> <td>   13.783</td> <td> 0.000</td> <td>    0.070</td> <td>    0.093</td>\n",
       "</tr>\n",
       "<tr>\n",
       "  <th>sqft_basement</th>  <td>    0.0134</td> <td>    0.003</td> <td>    4.596</td> <td> 0.000</td> <td>    0.008</td> <td>    0.019</td>\n",
       "</tr>\n",
       "<tr>\n",
       "  <th>yr_built</th>       <td>   -0.0031</td> <td>    0.002</td> <td>   -1.319</td> <td> 0.187</td> <td>   -0.008</td> <td>    0.001</td>\n",
       "</tr>\n",
       "<tr>\n",
       "  <th>yr_renovated</th>   <td>    0.0125</td> <td>    0.001</td> <td>    9.550</td> <td> 0.000</td> <td>    0.010</td> <td>    0.015</td>\n",
       "</tr>\n",
       "<tr>\n",
       "  <th>sqft_living15</th>  <td>    0.0485</td> <td>    0.002</td> <td>   22.091</td> <td> 0.000</td> <td>    0.044</td> <td>    0.053</td>\n",
       "</tr>\n",
       "<tr>\n",
       "  <th>sqft_lot15</th>     <td>   -0.0171</td> <td>    0.003</td> <td>   -5.309</td> <td> 0.000</td> <td>   -0.023</td> <td>   -0.011</td>\n",
       "</tr>\n",
       "<tr>\n",
       "  <th>bedrooms_2</th>     <td>   -0.0162</td> <td>    0.014</td> <td>   -1.188</td> <td> 0.235</td> <td>   -0.043</td> <td>    0.011</td>\n",
       "</tr>\n",
       "<tr>\n",
       "  <th>bedrooms_3</th>     <td>   -0.0400</td> <td>    0.014</td> <td>   -2.903</td> <td> 0.004</td> <td>   -0.067</td> <td>   -0.013</td>\n",
       "</tr>\n",
       "<tr>\n",
       "  <th>bedrooms_4</th>     <td>   -0.0425</td> <td>    0.014</td> <td>   -3.002</td> <td> 0.003</td> <td>   -0.070</td> <td>   -0.015</td>\n",
       "</tr>\n",
       "<tr>\n",
       "  <th>bedrooms_5</th>     <td>   -0.0609</td> <td>    0.015</td> <td>   -4.070</td> <td> 0.000</td> <td>   -0.090</td> <td>   -0.032</td>\n",
       "</tr>\n",
       "<tr>\n",
       "  <th>bedrooms_6</th>     <td>   -0.0933</td> <td>    0.018</td> <td>   -5.143</td> <td> 0.000</td> <td>   -0.129</td> <td>   -0.058</td>\n",
       "</tr>\n",
       "<tr>\n",
       "  <th>bedrooms_7</th>     <td>   -0.2045</td> <td>    0.033</td> <td>   -6.249</td> <td> 0.000</td> <td>   -0.269</td> <td>   -0.140</td>\n",
       "</tr>\n",
       "<tr>\n",
       "  <th>bedrooms_8</th>     <td>   -0.1224</td> <td>    0.052</td> <td>   -2.343</td> <td> 0.019</td> <td>   -0.225</td> <td>   -0.020</td>\n",
       "</tr>\n",
       "<tr>\n",
       "  <th>bedrooms_9</th>     <td>   -0.2578</td> <td>    0.075</td> <td>   -3.430</td> <td> 0.001</td> <td>   -0.405</td> <td>   -0.111</td>\n",
       "</tr>\n",
       "<tr>\n",
       "  <th>bedrooms_10</th>    <td>   -0.2774</td> <td>    0.105</td> <td>   -2.655</td> <td> 0.008</td> <td>   -0.482</td> <td>   -0.073</td>\n",
       "</tr>\n",
       "<tr>\n",
       "  <th>bedrooms_11</th>    <td>    0.0432</td> <td>    0.180</td> <td>    0.240</td> <td> 0.810</td> <td>   -0.309</td> <td>    0.396</td>\n",
       "</tr>\n",
       "<tr>\n",
       "  <th>floors_1_5</th>     <td>    0.0036</td> <td>    0.005</td> <td>    0.709</td> <td> 0.478</td> <td>   -0.006</td> <td>    0.014</td>\n",
       "</tr>\n",
       "<tr>\n",
       "  <th>floors_2_0</th>     <td>   -0.0144</td> <td>    0.004</td> <td>   -3.329</td> <td> 0.001</td> <td>   -0.023</td> <td>   -0.006</td>\n",
       "</tr>\n",
       "<tr>\n",
       "  <th>floors_2_5</th>     <td>    0.0048</td> <td>    0.015</td> <td>    0.320</td> <td> 0.749</td> <td>   -0.025</td> <td>    0.034</td>\n",
       "</tr>\n",
       "<tr>\n",
       "  <th>floors_3_0</th>     <td>   -0.0824</td> <td>    0.010</td> <td>   -8.670</td> <td> 0.000</td> <td>   -0.101</td> <td>   -0.064</td>\n",
       "</tr>\n",
       "<tr>\n",
       "  <th>floors_3_5</th>     <td>   -0.0605</td> <td>    0.068</td> <td>   -0.885</td> <td> 0.376</td> <td>   -0.194</td> <td>    0.074</td>\n",
       "</tr>\n",
       "<tr>\n",
       "  <th>waterfront_1_0</th> <td>    0.4416</td> <td>    0.018</td> <td>   23.938</td> <td> 0.000</td> <td>    0.405</td> <td>    0.478</td>\n",
       "</tr>\n",
       "<tr>\n",
       "  <th>view_1_0</th>       <td>    0.1114</td> <td>    0.010</td> <td>   10.940</td> <td> 0.000</td> <td>    0.091</td> <td>    0.131</td>\n",
       "</tr>\n",
       "<tr>\n",
       "  <th>view_2_0</th>       <td>    0.1021</td> <td>    0.006</td> <td>   16.409</td> <td> 0.000</td> <td>    0.090</td> <td>    0.114</td>\n",
       "</tr>\n",
       "<tr>\n",
       "  <th>view_3_0</th>       <td>    0.1733</td> <td>    0.008</td> <td>   20.476</td> <td> 0.000</td> <td>    0.157</td> <td>    0.190</td>\n",
       "</tr>\n",
       "<tr>\n",
       "  <th>view_4_0</th>       <td>    0.2911</td> <td>    0.013</td> <td>   22.742</td> <td> 0.000</td> <td>    0.266</td> <td>    0.316</td>\n",
       "</tr>\n",
       "<tr>\n",
       "  <th>condition_2</th>    <td>    0.1550</td> <td>    0.036</td> <td>    4.288</td> <td> 0.000</td> <td>    0.084</td> <td>    0.226</td>\n",
       "</tr>\n",
       "<tr>\n",
       "  <th>condition_3</th>    <td>    0.2881</td> <td>    0.034</td> <td>    8.561</td> <td> 0.000</td> <td>    0.222</td> <td>    0.354</td>\n",
       "</tr>\n",
       "<tr>\n",
       "  <th>condition_4</th>    <td>    0.3283</td> <td>    0.034</td> <td>    9.750</td> <td> 0.000</td> <td>    0.262</td> <td>    0.394</td>\n",
       "</tr>\n",
       "<tr>\n",
       "  <th>condition_5</th>    <td>    0.3945</td> <td>    0.034</td> <td>   11.642</td> <td> 0.000</td> <td>    0.328</td> <td>    0.461</td>\n",
       "</tr>\n",
       "<tr>\n",
       "  <th>grade_4</th>        <td>   -0.5442</td> <td>    0.183</td> <td>   -2.980</td> <td> 0.003</td> <td>   -0.902</td> <td>   -0.186</td>\n",
       "</tr>\n",
       "<tr>\n",
       "  <th>grade_5</th>        <td>   -0.5651</td> <td>    0.180</td> <td>   -3.141</td> <td> 0.002</td> <td>   -0.918</td> <td>   -0.212</td>\n",
       "</tr>\n",
       "<tr>\n",
       "  <th>grade_6</th>        <td>   -0.4962</td> <td>    0.180</td> <td>   -2.761</td> <td> 0.006</td> <td>   -0.848</td> <td>   -0.144</td>\n",
       "</tr>\n",
       "<tr>\n",
       "  <th>grade_7</th>        <td>   -0.4267</td> <td>    0.180</td> <td>   -2.374</td> <td> 0.018</td> <td>   -0.779</td> <td>   -0.074</td>\n",
       "</tr>\n",
       "<tr>\n",
       "  <th>grade_8</th>        <td>   -0.3452</td> <td>    0.180</td> <td>   -1.920</td> <td> 0.055</td> <td>   -0.698</td> <td>    0.007</td>\n",
       "</tr>\n",
       "<tr>\n",
       "  <th>grade_9</th>        <td>   -0.2303</td> <td>    0.180</td> <td>   -1.280</td> <td> 0.201</td> <td>   -0.583</td> <td>    0.122</td>\n",
       "</tr>\n",
       "<tr>\n",
       "  <th>grade_10</th>       <td>   -0.1411</td> <td>    0.180</td> <td>   -0.784</td> <td> 0.433</td> <td>   -0.494</td> <td>    0.212</td>\n",
       "</tr>\n",
       "<tr>\n",
       "  <th>grade_11</th>       <td>   -0.0272</td> <td>    0.180</td> <td>   -0.151</td> <td> 0.880</td> <td>   -0.380</td> <td>    0.326</td>\n",
       "</tr>\n",
       "<tr>\n",
       "  <th>grade_12</th>       <td>    0.0981</td> <td>    0.181</td> <td>    0.542</td> <td> 0.588</td> <td>   -0.257</td> <td>    0.453</td>\n",
       "</tr>\n",
       "<tr>\n",
       "  <th>grade_13</th>       <td>    0.3468</td> <td>    0.187</td> <td>    1.854</td> <td> 0.064</td> <td>   -0.020</td> <td>    0.713</td>\n",
       "</tr>\n",
       "<tr>\n",
       "  <th>zipcode_98002</th>  <td>   -0.0013</td> <td>    0.016</td> <td>   -0.081</td> <td> 0.936</td> <td>   -0.032</td> <td>    0.030</td>\n",
       "</tr>\n",
       "<tr>\n",
       "  <th>zipcode_98003</th>  <td>    0.0221</td> <td>    0.014</td> <td>    1.549</td> <td> 0.121</td> <td>   -0.006</td> <td>    0.050</td>\n",
       "</tr>\n",
       "<tr>\n",
       "  <th>zipcode_98004</th>  <td>    1.1273</td> <td>    0.014</td> <td>   80.193</td> <td> 0.000</td> <td>    1.100</td> <td>    1.155</td>\n",
       "</tr>\n",
       "<tr>\n",
       "  <th>zipcode_98005</th>  <td>    0.7286</td> <td>    0.017</td> <td>   43.076</td> <td> 0.000</td> <td>    0.695</td> <td>    0.762</td>\n",
       "</tr>\n",
       "<tr>\n",
       "  <th>zipcode_98006</th>  <td>    0.6436</td> <td>    0.013</td> <td>   50.843</td> <td> 0.000</td> <td>    0.619</td> <td>    0.668</td>\n",
       "</tr>\n",
       "<tr>\n",
       "  <th>zipcode_98007</th>  <td>    0.6602</td> <td>    0.018</td> <td>   36.937</td> <td> 0.000</td> <td>    0.625</td> <td>    0.695</td>\n",
       "</tr>\n",
       "<tr>\n",
       "  <th>zipcode_98008</th>  <td>    0.6611</td> <td>    0.014</td> <td>   46.136</td> <td> 0.000</td> <td>    0.633</td> <td>    0.689</td>\n",
       "</tr>\n",
       "<tr>\n",
       "  <th>zipcode_98010</th>  <td>    0.2333</td> <td>    0.020</td> <td>   11.473</td> <td> 0.000</td> <td>    0.193</td> <td>    0.273</td>\n",
       "</tr>\n",
       "<tr>\n",
       "  <th>zipcode_98011</th>  <td>    0.4467</td> <td>    0.016</td> <td>   28.004</td> <td> 0.000</td> <td>    0.415</td> <td>    0.478</td>\n",
       "</tr>\n",
       "<tr>\n",
       "  <th>zipcode_98019</th>  <td>    0.3166</td> <td>    0.016</td> <td>   19.657</td> <td> 0.000</td> <td>    0.285</td> <td>    0.348</td>\n",
       "</tr>\n",
       "<tr>\n",
       "  <th>zipcode_98022</th>  <td>    0.0414</td> <td>    0.015</td> <td>    2.722</td> <td> 0.006</td> <td>    0.012</td> <td>    0.071</td>\n",
       "</tr>\n",
       "<tr>\n",
       "  <th>zipcode_98023</th>  <td>   -0.0211</td> <td>    0.012</td> <td>   -1.700</td> <td> 0.089</td> <td>   -0.045</td> <td>    0.003</td>\n",
       "</tr>\n",
       "<tr>\n",
       "  <th>zipcode_98024</th>  <td>    0.4258</td> <td>    0.022</td> <td>   19.071</td> <td> 0.000</td> <td>    0.382</td> <td>    0.470</td>\n",
       "</tr>\n",
       "<tr>\n",
       "  <th>zipcode_98027</th>  <td>    0.5121</td> <td>    0.013</td> <td>   39.370</td> <td> 0.000</td> <td>    0.487</td> <td>    0.538</td>\n",
       "</tr>\n",
       "<tr>\n",
       "  <th>zipcode_98028</th>  <td>    0.4177</td> <td>    0.014</td> <td>   29.338</td> <td> 0.000</td> <td>    0.390</td> <td>    0.446</td>\n",
       "</tr>\n",
       "<tr>\n",
       "  <th>zipcode_98029</th>  <td>    0.6052</td> <td>    0.014</td> <td>   43.448</td> <td> 0.000</td> <td>    0.578</td> <td>    0.632</td>\n",
       "</tr>\n",
       "<tr>\n",
       "  <th>zipcode_98030</th>  <td>    0.0510</td> <td>    0.015</td> <td>    3.487</td> <td> 0.000</td> <td>    0.022</td> <td>    0.080</td>\n",
       "</tr>\n",
       "<tr>\n",
       "  <th>zipcode_98031</th>  <td>    0.0737</td> <td>    0.014</td> <td>    5.131</td> <td> 0.000</td> <td>    0.046</td> <td>    0.102</td>\n",
       "</tr>\n",
       "<tr>\n",
       "  <th>zipcode_98032</th>  <td>   -0.0126</td> <td>    0.019</td> <td>   -0.676</td> <td> 0.499</td> <td>   -0.049</td> <td>    0.024</td>\n",
       "</tr>\n",
       "<tr>\n",
       "  <th>zipcode_98033</th>  <td>    0.7901</td> <td>    0.013</td> <td>   61.486</td> <td> 0.000</td> <td>    0.765</td> <td>    0.815</td>\n",
       "</tr>\n",
       "<tr>\n",
       "  <th>zipcode_98034</th>  <td>    0.5488</td> <td>    0.012</td> <td>   45.030</td> <td> 0.000</td> <td>    0.525</td> <td>    0.573</td>\n",
       "</tr>\n",
       "<tr>\n",
       "  <th>zipcode_98038</th>  <td>    0.1673</td> <td>    0.012</td> <td>   13.924</td> <td> 0.000</td> <td>    0.144</td> <td>    0.191</td>\n",
       "</tr>\n",
       "<tr>\n",
       "  <th>zipcode_98039</th>  <td>    1.2890</td> <td>    0.027</td> <td>   47.089</td> <td> 0.000</td> <td>    1.235</td> <td>    1.343</td>\n",
       "</tr>\n",
       "<tr>\n",
       "  <th>zipcode_98040</th>  <td>    0.8793</td> <td>    0.015</td> <td>   60.223</td> <td> 0.000</td> <td>    0.851</td> <td>    0.908</td>\n",
       "</tr>\n",
       "<tr>\n",
       "  <th>zipcode_98042</th>  <td>    0.0650</td> <td>    0.012</td> <td>    5.355</td> <td> 0.000</td> <td>    0.041</td> <td>    0.089</td>\n",
       "</tr>\n",
       "<tr>\n",
       "  <th>zipcode_98045</th>  <td>    0.3204</td> <td>    0.015</td> <td>   20.830</td> <td> 0.000</td> <td>    0.290</td> <td>    0.351</td>\n",
       "</tr>\n",
       "<tr>\n",
       "  <th>zipcode_98052</th>  <td>    0.6379</td> <td>    0.012</td> <td>   52.594</td> <td> 0.000</td> <td>    0.614</td> <td>    0.662</td>\n",
       "</tr>\n",
       "<tr>\n",
       "  <th>zipcode_98053</th>  <td>    0.5811</td> <td>    0.013</td> <td>   44.254</td> <td> 0.000</td> <td>    0.555</td> <td>    0.607</td>\n",
       "</tr>\n",
       "<tr>\n",
       "  <th>zipcode_98055</th>  <td>    0.1534</td> <td>    0.014</td> <td>   10.597</td> <td> 0.000</td> <td>    0.125</td> <td>    0.182</td>\n",
       "</tr>\n",
       "<tr>\n",
       "  <th>zipcode_98056</th>  <td>    0.3286</td> <td>    0.013</td> <td>   25.256</td> <td> 0.000</td> <td>    0.303</td> <td>    0.354</td>\n",
       "</tr>\n",
       "<tr>\n",
       "  <th>zipcode_98058</th>  <td>    0.1658</td> <td>    0.013</td> <td>   13.127</td> <td> 0.000</td> <td>    0.141</td> <td>    0.191</td>\n",
       "</tr>\n",
       "<tr>\n",
       "  <th>zipcode_98059</th>  <td>    0.3399</td> <td>    0.013</td> <td>   26.966</td> <td> 0.000</td> <td>    0.315</td> <td>    0.365</td>\n",
       "</tr>\n",
       "<tr>\n",
       "  <th>zipcode_98065</th>  <td>    0.4069</td> <td>    0.014</td> <td>   29.012</td> <td> 0.000</td> <td>    0.379</td> <td>    0.434</td>\n",
       "</tr>\n",
       "<tr>\n",
       "  <th>zipcode_98070</th>  <td>    0.3064</td> <td>    0.020</td> <td>   15.627</td> <td> 0.000</td> <td>    0.268</td> <td>    0.345</td>\n",
       "</tr>\n",
       "<tr>\n",
       "  <th>zipcode_98072</th>  <td>    0.4731</td> <td>    0.014</td> <td>   32.773</td> <td> 0.000</td> <td>    0.445</td> <td>    0.501</td>\n",
       "</tr>\n",
       "<tr>\n",
       "  <th>zipcode_98074</th>  <td>    0.5504</td> <td>    0.013</td> <td>   42.769</td> <td> 0.000</td> <td>    0.525</td> <td>    0.576</td>\n",
       "</tr>\n",
       "<tr>\n",
       "  <th>zipcode_98075</th>  <td>    0.5563</td> <td>    0.014</td> <td>   40.830</td> <td> 0.000</td> <td>    0.530</td> <td>    0.583</td>\n",
       "</tr>\n",
       "<tr>\n",
       "  <th>zipcode_98077</th>  <td>    0.4284</td> <td>    0.016</td> <td>   26.562</td> <td> 0.000</td> <td>    0.397</td> <td>    0.460</td>\n",
       "</tr>\n",
       "<tr>\n",
       "  <th>zipcode_98092</th>  <td>    0.0191</td> <td>    0.013</td> <td>    1.419</td> <td> 0.156</td> <td>   -0.007</td> <td>    0.045</td>\n",
       "</tr>\n",
       "<tr>\n",
       "  <th>zipcode_98102</th>  <td>    1.0091</td> <td>    0.021</td> <td>   48.851</td> <td> 0.000</td> <td>    0.969</td> <td>    1.050</td>\n",
       "</tr>\n",
       "<tr>\n",
       "  <th>zipcode_98103</th>  <td>    0.8824</td> <td>    0.013</td> <td>   69.000</td> <td> 0.000</td> <td>    0.857</td> <td>    0.907</td>\n",
       "</tr>\n",
       "<tr>\n",
       "  <th>zipcode_98105</th>  <td>    0.9828</td> <td>    0.016</td> <td>   62.151</td> <td> 0.000</td> <td>    0.952</td> <td>    1.014</td>\n",
       "</tr>\n",
       "<tr>\n",
       "  <th>zipcode_98106</th>  <td>    0.3876</td> <td>    0.014</td> <td>   27.945</td> <td> 0.000</td> <td>    0.360</td> <td>    0.415</td>\n",
       "</tr>\n",
       "<tr>\n",
       "  <th>zipcode_98107</th>  <td>    0.9070</td> <td>    0.015</td> <td>   59.909</td> <td> 0.000</td> <td>    0.877</td> <td>    0.937</td>\n",
       "</tr>\n",
       "<tr>\n",
       "  <th>zipcode_98108</th>  <td>    0.3960</td> <td>    0.016</td> <td>   24.163</td> <td> 0.000</td> <td>    0.364</td> <td>    0.428</td>\n",
       "</tr>\n",
       "<tr>\n",
       "  <th>zipcode_98109</th>  <td>    1.0384</td> <td>    0.020</td> <td>   51.431</td> <td> 0.000</td> <td>    0.999</td> <td>    1.078</td>\n",
       "</tr>\n",
       "<tr>\n",
       "  <th>zipcode_98112</th>  <td>    1.0822</td> <td>    0.015</td> <td>   70.843</td> <td> 0.000</td> <td>    1.052</td> <td>    1.112</td>\n",
       "</tr>\n",
       "<tr>\n",
       "  <th>zipcode_98115</th>  <td>    0.8538</td> <td>    0.012</td> <td>   68.474</td> <td> 0.000</td> <td>    0.829</td> <td>    0.878</td>\n",
       "</tr>\n",
       "<tr>\n",
       "  <th>zipcode_98116</th>  <td>    0.7980</td> <td>    0.014</td> <td>   56.498</td> <td> 0.000</td> <td>    0.770</td> <td>    0.826</td>\n",
       "</tr>\n",
       "<tr>\n",
       "  <th>zipcode_98117</th>  <td>    0.8590</td> <td>    0.013</td> <td>   67.804</td> <td> 0.000</td> <td>    0.834</td> <td>    0.884</td>\n",
       "</tr>\n",
       "<tr>\n",
       "  <th>zipcode_98118</th>  <td>    0.4987</td> <td>    0.013</td> <td>   39.279</td> <td> 0.000</td> <td>    0.474</td> <td>    0.524</td>\n",
       "</tr>\n",
       "<tr>\n",
       "  <th>zipcode_98119</th>  <td>    1.0216</td> <td>    0.017</td> <td>   60.199</td> <td> 0.000</td> <td>    0.988</td> <td>    1.055</td>\n",
       "</tr>\n",
       "<tr>\n",
       "  <th>zipcode_98122</th>  <td>    0.8554</td> <td>    0.015</td> <td>   57.635</td> <td> 0.000</td> <td>    0.826</td> <td>    0.885</td>\n",
       "</tr>\n",
       "<tr>\n",
       "  <th>zipcode_98125</th>  <td>    0.5949</td> <td>    0.013</td> <td>   45.345</td> <td> 0.000</td> <td>    0.569</td> <td>    0.621</td>\n",
       "</tr>\n",
       "<tr>\n",
       "  <th>zipcode_98126</th>  <td>    0.5947</td> <td>    0.014</td> <td>   43.128</td> <td> 0.000</td> <td>    0.568</td> <td>    0.622</td>\n",
       "</tr>\n",
       "<tr>\n",
       "  <th>zipcode_98133</th>  <td>    0.4907</td> <td>    0.013</td> <td>   39.021</td> <td> 0.000</td> <td>    0.466</td> <td>    0.515</td>\n",
       "</tr>\n",
       "<tr>\n",
       "  <th>zipcode_98136</th>  <td>    0.7175</td> <td>    0.015</td> <td>   48.170</td> <td> 0.000</td> <td>    0.688</td> <td>    0.747</td>\n",
       "</tr>\n",
       "<tr>\n",
       "  <th>zipcode_98144</th>  <td>    0.7177</td> <td>    0.014</td> <td>   51.108</td> <td> 0.000</td> <td>    0.690</td> <td>    0.745</td>\n",
       "</tr>\n",
       "<tr>\n",
       "  <th>zipcode_98146</th>  <td>    0.3003</td> <td>    0.014</td> <td>   21.010</td> <td> 0.000</td> <td>    0.272</td> <td>    0.328</td>\n",
       "</tr>\n",
       "<tr>\n",
       "  <th>zipcode_98148</th>  <td>    0.1781</td> <td>    0.026</td> <td>    6.971</td> <td> 0.000</td> <td>    0.128</td> <td>    0.228</td>\n",
       "</tr>\n",
       "<tr>\n",
       "  <th>zipcode_98155</th>  <td>    0.4444</td> <td>    0.013</td> <td>   34.842</td> <td> 0.000</td> <td>    0.419</td> <td>    0.469</td>\n",
       "</tr>\n",
       "<tr>\n",
       "  <th>zipcode_98166</th>  <td>    0.3168</td> <td>    0.015</td> <td>   21.427</td> <td> 0.000</td> <td>    0.288</td> <td>    0.346</td>\n",
       "</tr>\n",
       "<tr>\n",
       "  <th>zipcode_98168</th>  <td>    0.0914</td> <td>    0.015</td> <td>    6.263</td> <td> 0.000</td> <td>    0.063</td> <td>    0.120</td>\n",
       "</tr>\n",
       "<tr>\n",
       "  <th>zipcode_98177</th>  <td>    0.5991</td> <td>    0.015</td> <td>   40.299</td> <td> 0.000</td> <td>    0.570</td> <td>    0.628</td>\n",
       "</tr>\n",
       "<tr>\n",
       "  <th>zipcode_98178</th>  <td>    0.1696</td> <td>    0.015</td> <td>   11.535</td> <td> 0.000</td> <td>    0.141</td> <td>    0.198</td>\n",
       "</tr>\n",
       "<tr>\n",
       "  <th>zipcode_98188</th>  <td>    0.1104</td> <td>    0.018</td> <td>    6.121</td> <td> 0.000</td> <td>    0.075</td> <td>    0.146</td>\n",
       "</tr>\n",
       "<tr>\n",
       "  <th>zipcode_98198</th>  <td>    0.0718</td> <td>    0.014</td> <td>    5.015</td> <td> 0.000</td> <td>    0.044</td> <td>    0.100</td>\n",
       "</tr>\n",
       "<tr>\n",
       "  <th>zipcode_98199</th>  <td>    0.8882</td> <td>    0.014</td> <td>   62.217</td> <td> 0.000</td> <td>    0.860</td> <td>    0.916</td>\n",
       "</tr>\n",
       "<tr>\n",
       "  <th>zipcode_98014</th>  <td>    0.2999</td> <td>    0.019</td> <td>   15.806</td> <td> 0.000</td> <td>    0.263</td> <td>    0.337</td>\n",
       "</tr>\n",
       "</table>\n",
       "<table class=\"simpletable\">\n",
       "<tr>\n",
       "  <th>Omnibus:</th>       <td>1572.942</td> <th>  Durbin-Watson:     </th> <td>   2.003</td>\n",
       "</tr>\n",
       "<tr>\n",
       "  <th>Prob(Omnibus):</th>  <td> 0.000</td>  <th>  Jarque-Bera (JB):  </th> <td>6970.265</td>\n",
       "</tr>\n",
       "<tr>\n",
       "  <th>Skew:</th>           <td>-0.222</td>  <th>  Prob(JB):          </th> <td>    0.00</td>\n",
       "</tr>\n",
       "<tr>\n",
       "  <th>Kurtosis:</th>       <td> 5.748</td>  <th>  Cond. No.          </th> <td>    979.</td>\n",
       "</tr>\n",
       "</table><br/><br/>Warnings:<br/>[1] Standard Errors assume that the covariance matrix of the errors is correctly specified."
      ],
      "text/plain": [
       "<class 'statsmodels.iolib.summary.Summary'>\n",
       "\"\"\"\n",
       "                            OLS Regression Results                            \n",
       "==============================================================================\n",
       "Dep. Variable:                  price   R-squared:                       0.885\n",
       "Model:                            OLS   Adj. R-squared:                  0.885\n",
       "Method:                 Least Squares   F-statistic:                     1481.\n",
       "Date:                Tue, 28 Apr 2020   Prob (F-statistic):               0.00\n",
       "Time:                        17:00:32   Log-Likelihood:                 6599.3\n",
       "No. Observations:               21594   AIC:                        -1.297e+04\n",
       "Df Residuals:                   21481   BIC:                        -1.207e+04\n",
       "Df Model:                         112                                         \n",
       "Covariance Type:            nonrobust                                         \n",
       "==================================================================================\n",
       "                     coef    std err          t      P>|t|      [0.025      0.975]\n",
       "----------------------------------------------------------------------------------\n",
       "Intercept         12.6470      0.183     69.203      0.000      12.289      13.005\n",
       "bathrooms          0.0293      0.002     12.809      0.000       0.025       0.034\n",
       "sqft_living        0.0994      0.006     16.597      0.000       0.088       0.111\n",
       "sqft_lot           0.0642      0.003     19.750      0.000       0.058       0.071\n",
       "sqft_above         0.0817      0.006     13.783      0.000       0.070       0.093\n",
       "sqft_basement      0.0134      0.003      4.596      0.000       0.008       0.019\n",
       "yr_built          -0.0031      0.002     -1.319      0.187      -0.008       0.001\n",
       "yr_renovated       0.0125      0.001      9.550      0.000       0.010       0.015\n",
       "sqft_living15      0.0485      0.002     22.091      0.000       0.044       0.053\n",
       "sqft_lot15        -0.0171      0.003     -5.309      0.000      -0.023      -0.011\n",
       "bedrooms_2        -0.0162      0.014     -1.188      0.235      -0.043       0.011\n",
       "bedrooms_3        -0.0400      0.014     -2.903      0.004      -0.067      -0.013\n",
       "bedrooms_4        -0.0425      0.014     -3.002      0.003      -0.070      -0.015\n",
       "bedrooms_5        -0.0609      0.015     -4.070      0.000      -0.090      -0.032\n",
       "bedrooms_6        -0.0933      0.018     -5.143      0.000      -0.129      -0.058\n",
       "bedrooms_7        -0.2045      0.033     -6.249      0.000      -0.269      -0.140\n",
       "bedrooms_8        -0.1224      0.052     -2.343      0.019      -0.225      -0.020\n",
       "bedrooms_9        -0.2578      0.075     -3.430      0.001      -0.405      -0.111\n",
       "bedrooms_10       -0.2774      0.105     -2.655      0.008      -0.482      -0.073\n",
       "bedrooms_11        0.0432      0.180      0.240      0.810      -0.309       0.396\n",
       "floors_1_5         0.0036      0.005      0.709      0.478      -0.006       0.014\n",
       "floors_2_0        -0.0144      0.004     -3.329      0.001      -0.023      -0.006\n",
       "floors_2_5         0.0048      0.015      0.320      0.749      -0.025       0.034\n",
       "floors_3_0        -0.0824      0.010     -8.670      0.000      -0.101      -0.064\n",
       "floors_3_5        -0.0605      0.068     -0.885      0.376      -0.194       0.074\n",
       "waterfront_1_0     0.4416      0.018     23.938      0.000       0.405       0.478\n",
       "view_1_0           0.1114      0.010     10.940      0.000       0.091       0.131\n",
       "view_2_0           0.1021      0.006     16.409      0.000       0.090       0.114\n",
       "view_3_0           0.1733      0.008     20.476      0.000       0.157       0.190\n",
       "view_4_0           0.2911      0.013     22.742      0.000       0.266       0.316\n",
       "condition_2        0.1550      0.036      4.288      0.000       0.084       0.226\n",
       "condition_3        0.2881      0.034      8.561      0.000       0.222       0.354\n",
       "condition_4        0.3283      0.034      9.750      0.000       0.262       0.394\n",
       "condition_5        0.3945      0.034     11.642      0.000       0.328       0.461\n",
       "grade_4           -0.5442      0.183     -2.980      0.003      -0.902      -0.186\n",
       "grade_5           -0.5651      0.180     -3.141      0.002      -0.918      -0.212\n",
       "grade_6           -0.4962      0.180     -2.761      0.006      -0.848      -0.144\n",
       "grade_7           -0.4267      0.180     -2.374      0.018      -0.779      -0.074\n",
       "grade_8           -0.3452      0.180     -1.920      0.055      -0.698       0.007\n",
       "grade_9           -0.2303      0.180     -1.280      0.201      -0.583       0.122\n",
       "grade_10          -0.1411      0.180     -0.784      0.433      -0.494       0.212\n",
       "grade_11          -0.0272      0.180     -0.151      0.880      -0.380       0.326\n",
       "grade_12           0.0981      0.181      0.542      0.588      -0.257       0.453\n",
       "grade_13           0.3468      0.187      1.854      0.064      -0.020       0.713\n",
       "zipcode_98002     -0.0013      0.016     -0.081      0.936      -0.032       0.030\n",
       "zipcode_98003      0.0221      0.014      1.549      0.121      -0.006       0.050\n",
       "zipcode_98004      1.1273      0.014     80.193      0.000       1.100       1.155\n",
       "zipcode_98005      0.7286      0.017     43.076      0.000       0.695       0.762\n",
       "zipcode_98006      0.6436      0.013     50.843      0.000       0.619       0.668\n",
       "zipcode_98007      0.6602      0.018     36.937      0.000       0.625       0.695\n",
       "zipcode_98008      0.6611      0.014     46.136      0.000       0.633       0.689\n",
       "zipcode_98010      0.2333      0.020     11.473      0.000       0.193       0.273\n",
       "zipcode_98011      0.4467      0.016     28.004      0.000       0.415       0.478\n",
       "zipcode_98019      0.3166      0.016     19.657      0.000       0.285       0.348\n",
       "zipcode_98022      0.0414      0.015      2.722      0.006       0.012       0.071\n",
       "zipcode_98023     -0.0211      0.012     -1.700      0.089      -0.045       0.003\n",
       "zipcode_98024      0.4258      0.022     19.071      0.000       0.382       0.470\n",
       "zipcode_98027      0.5121      0.013     39.370      0.000       0.487       0.538\n",
       "zipcode_98028      0.4177      0.014     29.338      0.000       0.390       0.446\n",
       "zipcode_98029      0.6052      0.014     43.448      0.000       0.578       0.632\n",
       "zipcode_98030      0.0510      0.015      3.487      0.000       0.022       0.080\n",
       "zipcode_98031      0.0737      0.014      5.131      0.000       0.046       0.102\n",
       "zipcode_98032     -0.0126      0.019     -0.676      0.499      -0.049       0.024\n",
       "zipcode_98033      0.7901      0.013     61.486      0.000       0.765       0.815\n",
       "zipcode_98034      0.5488      0.012     45.030      0.000       0.525       0.573\n",
       "zipcode_98038      0.1673      0.012     13.924      0.000       0.144       0.191\n",
       "zipcode_98039      1.2890      0.027     47.089      0.000       1.235       1.343\n",
       "zipcode_98040      0.8793      0.015     60.223      0.000       0.851       0.908\n",
       "zipcode_98042      0.0650      0.012      5.355      0.000       0.041       0.089\n",
       "zipcode_98045      0.3204      0.015     20.830      0.000       0.290       0.351\n",
       "zipcode_98052      0.6379      0.012     52.594      0.000       0.614       0.662\n",
       "zipcode_98053      0.5811      0.013     44.254      0.000       0.555       0.607\n",
       "zipcode_98055      0.1534      0.014     10.597      0.000       0.125       0.182\n",
       "zipcode_98056      0.3286      0.013     25.256      0.000       0.303       0.354\n",
       "zipcode_98058      0.1658      0.013     13.127      0.000       0.141       0.191\n",
       "zipcode_98059      0.3399      0.013     26.966      0.000       0.315       0.365\n",
       "zipcode_98065      0.4069      0.014     29.012      0.000       0.379       0.434\n",
       "zipcode_98070      0.3064      0.020     15.627      0.000       0.268       0.345\n",
       "zipcode_98072      0.4731      0.014     32.773      0.000       0.445       0.501\n",
       "zipcode_98074      0.5504      0.013     42.769      0.000       0.525       0.576\n",
       "zipcode_98075      0.5563      0.014     40.830      0.000       0.530       0.583\n",
       "zipcode_98077      0.4284      0.016     26.562      0.000       0.397       0.460\n",
       "zipcode_98092      0.0191      0.013      1.419      0.156      -0.007       0.045\n",
       "zipcode_98102      1.0091      0.021     48.851      0.000       0.969       1.050\n",
       "zipcode_98103      0.8824      0.013     69.000      0.000       0.857       0.907\n",
       "zipcode_98105      0.9828      0.016     62.151      0.000       0.952       1.014\n",
       "zipcode_98106      0.3876      0.014     27.945      0.000       0.360       0.415\n",
       "zipcode_98107      0.9070      0.015     59.909      0.000       0.877       0.937\n",
       "zipcode_98108      0.3960      0.016     24.163      0.000       0.364       0.428\n",
       "zipcode_98109      1.0384      0.020     51.431      0.000       0.999       1.078\n",
       "zipcode_98112      1.0822      0.015     70.843      0.000       1.052       1.112\n",
       "zipcode_98115      0.8538      0.012     68.474      0.000       0.829       0.878\n",
       "zipcode_98116      0.7980      0.014     56.498      0.000       0.770       0.826\n",
       "zipcode_98117      0.8590      0.013     67.804      0.000       0.834       0.884\n",
       "zipcode_98118      0.4987      0.013     39.279      0.000       0.474       0.524\n",
       "zipcode_98119      1.0216      0.017     60.199      0.000       0.988       1.055\n",
       "zipcode_98122      0.8554      0.015     57.635      0.000       0.826       0.885\n",
       "zipcode_98125      0.5949      0.013     45.345      0.000       0.569       0.621\n",
       "zipcode_98126      0.5947      0.014     43.128      0.000       0.568       0.622\n",
       "zipcode_98133      0.4907      0.013     39.021      0.000       0.466       0.515\n",
       "zipcode_98136      0.7175      0.015     48.170      0.000       0.688       0.747\n",
       "zipcode_98144      0.7177      0.014     51.108      0.000       0.690       0.745\n",
       "zipcode_98146      0.3003      0.014     21.010      0.000       0.272       0.328\n",
       "zipcode_98148      0.1781      0.026      6.971      0.000       0.128       0.228\n",
       "zipcode_98155      0.4444      0.013     34.842      0.000       0.419       0.469\n",
       "zipcode_98166      0.3168      0.015     21.427      0.000       0.288       0.346\n",
       "zipcode_98168      0.0914      0.015      6.263      0.000       0.063       0.120\n",
       "zipcode_98177      0.5991      0.015     40.299      0.000       0.570       0.628\n",
       "zipcode_98178      0.1696      0.015     11.535      0.000       0.141       0.198\n",
       "zipcode_98188      0.1104      0.018      6.121      0.000       0.075       0.146\n",
       "zipcode_98198      0.0718      0.014      5.015      0.000       0.044       0.100\n",
       "zipcode_98199      0.8882      0.014     62.217      0.000       0.860       0.916\n",
       "zipcode_98014      0.2999      0.019     15.806      0.000       0.263       0.337\n",
       "==============================================================================\n",
       "Omnibus:                     1572.942   Durbin-Watson:                   2.003\n",
       "Prob(Omnibus):                  0.000   Jarque-Bera (JB):             6970.265\n",
       "Skew:                          -0.222   Prob(JB):                         0.00\n",
       "Kurtosis:                       5.748   Cond. No.                         979.\n",
       "==============================================================================\n",
       "\n",
       "Warnings:\n",
       "[1] Standard Errors assume that the covariance matrix of the errors is correctly specified.\n",
       "\"\"\""
      ]
     },
     "execution_count": 153,
     "metadata": {},
     "output_type": "execute_result"
    }
   ],
   "source": [
    "# Fitting the actual model\n",
    "predictors = '+'.join(x_cols)\n",
    "formula = outcome + '~' + predictors\n",
    "model = ols(formula=formula, data=df_feats).fit()\n",
    "model.summary()"
   ]
  },
  {
   "cell_type": "code",
   "execution_count": 154,
   "metadata": {
    "ExecuteTime": {
     "end_time": "2020-04-28T22:00:33.071958Z",
     "start_time": "2020-04-28T22:00:32.979476Z"
    },
    "scrolled": true
   },
   "outputs": [],
   "source": [
    "fig = sm.graphics.qqplot(model.resid, dist=stats.norm, line='45', fit=True)"
   ]
  },
  {
   "cell_type": "code",
   "execution_count": 155,
   "metadata": {
    "ExecuteTime": {
     "end_time": "2020-04-28T22:00:33.861141Z",
     "start_time": "2020-04-28T22:00:33.074175Z"
    }
   },
   "outputs": [
    {
     "data": {
      "text/plain": [
       "<matplotlib.collections.PathCollection at 0x1c21a2d2d0>"
      ]
     },
     "execution_count": 155,
     "metadata": {},
     "output_type": "execute_result"
    },
    {
     "data": {
      "text/plain": [
       "[<matplotlib.lines.Line2D at 0x1c22801d90>]"
      ]
     },
     "execution_count": 155,
     "metadata": {},
     "output_type": "execute_result"
    }
   ],
   "source": [
    "plt.scatter(model.predict(df_feats[x_cols]), model.resid)\n",
    "plt.plot(model.predict(df_feats[x_cols]), [0 for i in range(len(df_feats))])\n",
    "plt.show()"
   ]
  },
  {
   "cell_type": "code",
   "execution_count": 156,
   "metadata": {
    "ExecuteTime": {
     "end_time": "2020-04-28T22:00:33.869084Z",
     "start_time": "2020-04-28T22:00:33.863051Z"
    }
   },
   "outputs": [],
   "source": [
    "X = df_feats[x_cols]"
   ]
  },
  {
   "cell_type": "code",
   "execution_count": null,
   "metadata": {},
   "outputs": [],
   "source": []
  },
  {
   "cell_type": "code",
   "execution_count": 157,
   "metadata": {
    "ExecuteTime": {
     "end_time": "2020-04-28T22:00:55.411998Z",
     "start_time": "2020-04-28T22:00:33.870909Z"
    }
   },
   "outputs": [
    {
     "data": {
      "text/plain": [
       "[('bathrooms', 3.530401994851968),\n",
       " ('sqft_living', 24.222067447269048),\n",
       " ('sqft_lot', 7.15187700835907),\n",
       " ('sqft_above', 23.759504798232825),\n",
       " ('sqft_basement', 5.759001916723862),\n",
       " ('yr_built', 3.669062352261675),\n",
       " ('yr_renovated', 1.156633366476584),\n",
       " ('sqft_living15', 3.2570041356625135),\n",
       " ('sqft_lot15', 7.010293489551642),\n",
       " ('bedrooms_2', 16.112985759119614),\n",
       " ('bedrooms_3', 58.32857026250645),\n",
       " ('bedrooms_4', 43.242884397407956),\n",
       " ('bedrooms_5', 11.207511327710838),\n",
       " ('bedrooms_6', 2.802938675485087),\n",
       " ('bedrooms_7', 1.2742432701163189),\n",
       " ('bedrooms_8', 1.1101049331222081),\n",
       " ('bedrooms_9', 1.0613189606687237),\n",
       " ('bedrooms_10', 1.0256945357111498),\n",
       " ('bedrooms_11', 1.0119550156020927),\n",
       " ('floors_1_5', 1.5410952155622177),\n",
       " ('floors_2_0', 4.799164455602561),\n",
       " ('floors_2_5', 1.1360435914970166),\n",
       " ('floors_3_0', 1.7287549653028464),\n",
       " ('floors_3_5', 1.0242600394851575),\n",
       " ('waterfront_1_0', 1.5553823568383076),\n",
       " ('view_1_0', 1.0721670412106308),\n",
       " ('view_2_0', 1.1580940140641796),\n",
       " ('view_3_0', 1.1374523141848736),\n",
       " ('view_4_0', 1.625540432395056),\n",
       " ('condition_2', 6.752721606528652),\n",
       " ('condition_3', 480.2445122596021),\n",
       " ('condition_4', 194.7366619236183),\n",
       " ('condition_5', 59.05589956085775),\n",
       " ('grade_4', 2.028715557595756),\n",
       " ('grade_5', 10.478024787157011),\n",
       " ('grade_6', 86.65165896774477),\n",
       " ('grade_7', 380.6631011082338),\n",
       " ('grade_8', 258.21938677947134),\n",
       " ('grade_9', 112.56448485444437),\n",
       " ('grade_10', 49.715889014701546),\n",
       " ('grade_11', 18.209720196401154),\n",
       " ('grade_12', 4.929630095688753),\n",
       " ('grade_13', 1.5968613010452872),\n",
       " ('zipcode_98002', 1.5709791670644118),\n",
       " ('zipcode_98003', 1.7842224938973348),\n",
       " ('zipcode_98004', 1.9586799411896698),\n",
       " ('zipcode_98005', 1.5034828652401353),\n",
       " ('zipcode_98006', 2.494703532528723),\n",
       " ('zipcode_98007', 1.4094330188170063),\n",
       " ('zipcode_98008', 1.8169652907619647),\n",
       " ('zipcode_98010', 1.2939581725711422),\n",
       " ('zipcode_98011', 1.5516838625090843),\n",
       " ('zipcode_98019', 1.5411730414347453),\n",
       " ('zipcode_98022', 1.6690497819662267),\n",
       " ('zipcode_98023', 2.3982586859828454),\n",
       " ('zipcode_98024', 1.2478842378421369),\n",
       " ('zipcode_98027', 2.179077333123911),\n",
       " ('zipcode_98028', 1.7937896658832828),\n",
       " ('zipcode_98029', 1.947366457335521),\n",
       " ('zipcode_98030', 1.7109588453793843),\n",
       " ('zipcode_98031', 1.761412114336089),\n",
       " ('zipcode_98032', 1.353918504802189),\n",
       " ('zipcode_98033', 2.2297391571222827),\n",
       " ('zipcode_98034', 2.530783870622974),\n",
       " ('zipcode_98038', 2.6569259881652907),\n",
       " ('zipcode_98039', 1.1725217895116762),\n",
       " ('zipcode_98040', 1.8802234158364048),\n",
       " ('zipcode_98042', 2.522202537438508),\n",
       " ('zipcode_98045', 1.627724650467914),\n",
       " ('zipcode_98052', 2.638870126790858),\n",
       " ('zipcode_98053', 2.172190325374149),\n",
       " ('zipcode_98055', 1.7560154298713642),\n",
       " ('zipcode_98056', 2.1487470698804256),\n",
       " ('zipcode_98058', 2.2683029888634145),\n",
       " ('zipcode_98059', 2.3239580440569982),\n",
       " ('zipcode_98065', 1.8944303660436295),\n",
       " ('zipcode_98070', 1.4074437588610251),\n",
       " ('zipcode_98072', 1.7791474892469359),\n",
       " ('zipcode_98074', 2.283751806472824),\n",
       " ('zipcode_98075', 2.08357667099213),\n",
       " ('zipcode_98077', 1.6106511005668114),\n",
       " ('zipcode_98092', 1.984590786917262),\n",
       " ('zipcode_98102', 1.388841795432295),\n",
       " ('zipcode_98103', 3.0784271717407568),\n",
       " ('zipcode_98105', 1.791663393837865),\n",
       " ('zipcode_98106', 2.0158358158584693),\n",
       " ('zipcode_98107', 1.907327645100395),\n",
       " ('zipcode_98108', 1.5624789228082772),\n",
       " ('zipcode_98109', 1.3904745803324583),\n",
       " ('zipcode_98112', 1.9634953471798866),\n",
       " ('zipcode_98115', 2.83425666725448),\n",
       " ('zipcode_98116', 2.0587083745677344),\n",
       " ('zipcode_98117', 2.775549079841651),\n",
       " ('zipcode_98118', 2.5557616871708553),\n",
       " ('zipcode_98119', 1.6578581564577353),\n",
       " ('zipcode_98122', 1.9980700184933426),\n",
       " ('zipcode_98125', 2.201451730698492),\n",
       " ('zipcode_98126', 2.1046615053013342),\n",
       " ('zipcode_98133', 2.4379679225345923),\n",
       " ('zipcode_98136', 1.8252867969423363),\n",
       " ('zipcode_98144', 2.1158285330998474),\n",
       " ('zipcode_98146', 1.8400709466774687),\n",
       " ('zipcode_98148', 1.1646538950608019),\n",
       " ('zipcode_98155', 2.268051994278131),\n",
       " ('zipcode_98166', 1.736366566436209),\n",
       " ('zipcode_98168', 1.7894176030335456),\n",
       " ('zipcode_98177', 1.7625066892403984),\n",
       " ('zipcode_98178', 1.7724366266188074),\n",
       " ('zipcode_98188', 1.3846035362164206),\n",
       " ('zipcode_98198', 1.795074742731248),\n",
       " ('zipcode_98199', 2.020418133285668),\n",
       " ('zipcode_98014', 1.3745411895991333)]"
      ]
     },
     "execution_count": 157,
     "metadata": {},
     "output_type": "execute_result"
    }
   ],
   "source": [
    "vif = [variance_inflation_factor(X.values, i) for i in range(X.shape[1])]\n",
    "list(zip(x_cols, vif))"
   ]
  },
  {
   "cell_type": "markdown",
   "metadata": {},
   "source": [
    "## K-fold Cross Validation for Model 1"
   ]
  },
  {
   "cell_type": "code",
   "execution_count": 158,
   "metadata": {
    "ExecuteTime": {
     "end_time": "2020-04-28T22:00:55.956448Z",
     "start_time": "2020-04-28T22:00:55.414076Z"
    }
   },
   "outputs": [
    {
     "name": "stdout",
     "output_type": "stream",
     "text": [
      "Mean cross validation score for 10 fold is -3.401270363261404e+20\n",
      "Standard deviation of the score is 1.0136709916109482e+21\n"
     ]
    }
   ],
   "source": [
    "X = df_feats[x_cols]\n",
    "y = df_feats['price']\n",
    "\n",
    "linreg = LinearRegression()\n",
    "cvs_10=cross_val_score(linreg, X, y, cv=10)\n",
    "cvs_10_res_mean = round(np.mean(cvs_10),5)\n",
    "cv_10_res_std = round(np.std(cvs_10),5)\n",
    "print(f'Mean cross validation score for 10 fold is {cvs_10_res_mean}')\n",
    "print(f'Standard deviation of the score is {cv_10_res_std}')\n"
   ]
  },
  {
   "cell_type": "code",
   "execution_count": null,
   "metadata": {},
   "outputs": [],
   "source": []
  },
  {
   "cell_type": "code",
   "execution_count": null,
   "metadata": {},
   "outputs": [],
   "source": []
  },
  {
   "cell_type": "code",
   "execution_count": null,
   "metadata": {},
   "outputs": [],
   "source": []
  },
  {
   "cell_type": "markdown",
   "metadata": {},
   "source": [
    "## Perform stepwise selection"
   ]
  },
  {
   "cell_type": "code",
   "execution_count": 159,
   "metadata": {
    "ExecuteTime": {
     "end_time": "2020-04-28T22:00:55.976285Z",
     "start_time": "2020-04-28T22:00:55.959752Z"
    }
   },
   "outputs": [],
   "source": [
    "import statsmodels.api as sm\n",
    "\n",
    "def stepwise_selection(X, y, \n",
    "                       initial_list=[], \n",
    "                       threshold_in=0.01, \n",
    "                       threshold_out = 0.05, \n",
    "                       verbose=True):\n",
    "    \"\"\" Perform a forward-backward feature selection \n",
    "    based on p-value from statsmodels.api.OLS\n",
    "    Arguments:\n",
    "        X - pandas.DataFrame with candidate features\n",
    "        y - list-like with the target\n",
    "        initial_list - list of features to start with (column names of X)\n",
    "        threshold_in - include a feature if its p-value < threshold_in\n",
    "        threshold_out - exclude a feature if its p-value > threshold_out\n",
    "        verbose - whether to print the sequence of inclusions and exclusions\n",
    "    Returns: list of selected features \n",
    "    Always set threshold_in < threshold_out to avoid infinite looping.\n",
    "    See https://en.wikipedia.org/wiki/Stepwise_regression for the details\n",
    "    \"\"\"\n",
    "    included = list(initial_list)\n",
    "    while True:\n",
    "        changed=False\n",
    "        # forward step\n",
    "        excluded = list(set(X.columns)-set(included))\n",
    "        new_pval = pd.Series(index=excluded)\n",
    "        for new_column in excluded:\n",
    "            model = sm.OLS(y, sm.add_constant(pd.DataFrame(X[included+[new_column]]))).fit()\n",
    "            new_pval[new_column] = model.pvalues[new_column]\n",
    "        best_pval = new_pval.min()\n",
    "        if best_pval < threshold_in:\n",
    "            best_feature = new_pval.idxmin()\n",
    "            included.append(best_feature)\n",
    "            changed=True\n",
    "            if verbose:\n",
    "                print('Add  {:30} with p-value {:.6}'.format(best_feature, best_pval))\n",
    "\n",
    "        # backward step\n",
    "        model = sm.OLS(y, sm.add_constant(pd.DataFrame(X[included]))).fit()\n",
    "        # use all coefs except intercept\n",
    "        pvalues = model.pvalues.iloc[1:]\n",
    "        worst_pval = pvalues.max() # null if pvalues is empty\n",
    "        if worst_pval > threshold_out:\n",
    "            changed=True\n",
    "            worst_feature = pvalues.argmax()\n",
    "            included.remove(worst_feature)\n",
    "            if verbose:\n",
    "                print('Drop {:30} with p-value {:.6}'.format(worst_feature, worst_pval))\n",
    "        if not changed:\n",
    "            break\n",
    "    return included"
   ]
  },
  {
   "cell_type": "code",
   "execution_count": 160,
   "metadata": {
    "ExecuteTime": {
     "end_time": "2020-04-28T22:07:04.109620Z",
     "start_time": "2020-04-28T22:00:55.978570Z"
    },
    "scrolled": true
   },
   "outputs": [
    {
     "name": "stdout",
     "output_type": "stream",
     "text": [
      "resulting features:\n",
      "['grade_9', 'grade_7', 'sqft_living15', 'sqft_living', 'grade_6', 'zipcode_98004', 'zipcode_98023', 'grade_8', 'grade_5', 'waterfront_1_0', 'zipcode_98003', 'zipcode_98092', 'zipcode_98038', 'zipcode_98002', 'zipcode_98032', 'zipcode_98039', 'bathrooms', 'zipcode_98033', 'zipcode_98040', 'zipcode_98112', 'zipcode_98115', 'zipcode_98117', 'zipcode_98103', 'zipcode_98199', 'zipcode_98105', 'zipcode_98119', 'zipcode_98107', 'zipcode_98116', 'zipcode_98109', 'zipcode_98122', 'zipcode_98102', 'view_4_0', 'zipcode_98006', 'zipcode_98052', 'zipcode_98136', 'zipcode_98144', 'sqft_lot', 'zipcode_98008', 'zipcode_98005', 'grade_4', 'zipcode_98053', 'view_3_0', 'zipcode_98029', 'zipcode_98126', 'zipcode_98125', 'zipcode_98034', 'zipcode_98177', 'zipcode_98007', 'condition_5', 'zipcode_98074', 'zipcode_98075', 'grade_10', 'zipcode_98027', 'view_2_0', 'sqft_above', 'zipcode_98133', 'zipcode_98118', 'zipcode_98072', 'zipcode_98155', 'condition_4', 'condition_3', 'view_1_0', 'zipcode_98011', 'zipcode_98065', 'zipcode_98028', 'zipcode_98077', 'zipcode_98106', 'yr_renovated', 'zipcode_98108', 'zipcode_98059', 'zipcode_98056', 'zipcode_98024', 'grade_11', 'floors_3_0', 'zipcode_98166', 'zipcode_98146', 'zipcode_98045', 'zipcode_98019', 'zipcode_98014', 'zipcode_98070', 'zipcode_98010', 'zipcode_98058', 'zipcode_98178', 'zipcode_98055', 'sqft_basement', 'sqft_lot15', 'bedrooms_7', 'zipcode_98148', 'grade_13', 'bedrooms_2', 'condition_2', 'floors_2_0', 'bedrooms_6', 'zipcode_98188', 'zipcode_98168', 'bedrooms_5', 'bedrooms_9']\n"
     ]
    }
   ],
   "source": [
    "X = df_feats[x_cols]\n",
    "# X = df_feats.drop('price', axis=1)\n",
    "y = df_feats['price']\n",
    "\n",
    "result = stepwise_selection(X, y, verbose = False)\n",
    "print('resulting features:')\n",
    "print(result)"
   ]
  },
  {
   "cell_type": "code",
   "execution_count": 161,
   "metadata": {
    "ExecuteTime": {
     "end_time": "2020-04-28T22:07:04.123332Z",
     "start_time": "2020-04-28T22:07:04.111819Z"
    }
   },
   "outputs": [],
   "source": [
    "a=['grade_6', 'sqft_living', 'grade_7', 'grade_8', 'grade_5', 'zipcode_98004', 'zipcode_98023', 'grade_9', 'waterfront_1_0', 'sqft_living15', 'zipcode_98003', 'zipcode_98092', 'zipcode_98038', 'zipcode_98002', 'zipcode_98032', 'zipcode_98039', 'bathrooms', 'zipcode_98033', 'zipcode_98040', 'zipcode_98112', 'zipcode_98115', 'zipcode_98117', 'zipcode_98103', 'zipcode_98199', 'zipcode_98105', 'zipcode_98119', 'zipcode_98107', 'zipcode_98116', 'zipcode_98109', 'zipcode_98122', 'zipcode_98102', 'view_4_0', 'zipcode_98006', 'zipcode_98052', 'zipcode_98136', 'zipcode_98144', 'sqft_lot', 'zipcode_98008', 'zipcode_98005', 'grade_4', 'zipcode_98053', 'view_3_0', 'zipcode_98029', 'zipcode_98126', 'zipcode_98125', 'zipcode_98034', 'zipcode_98177', 'zipcode_98007', 'condition_5', 'zipcode_98074', 'zipcode_98075', 'grade_10', 'zipcode_98027', 'view_2_0', 'sqft_above', 'zipcode_98133', 'zipcode_98118', 'zipcode_98072', 'zipcode_98155', 'condition_4', 'condition_3', 'view_1_0', 'zipcode_98011', 'zipcode_98065', 'zipcode_98028', 'zipcode_98077', 'zipcode_98106', 'yr_renovated', 'zipcode_98108', 'zipcode_98059', 'zipcode_98056', 'zipcode_98024', 'grade_11', 'floors_3_0', 'zipcode_98166', 'zipcode_98146', 'zipcode_98045', 'zipcode_98019', 'zipcode_98014', 'zipcode_98070', 'zipcode_98010', 'zipcode_98058', 'zipcode_98178', 'zipcode_98055', 'sqft_basement', 'sqft_lot15', 'bedrooms_7', 'zipcode_98148', 'grade_13', 'bedrooms_2', 'condition_2', 'floors_2_0', 'bedrooms_6', 'zipcode_98188', 'zipcode_98168', 'bedrooms_5', 'bedrooms_9']"
   ]
  },
  {
   "cell_type": "code",
   "execution_count": 162,
   "metadata": {
    "ExecuteTime": {
     "end_time": "2020-04-28T22:07:04.130589Z",
     "start_time": "2020-04-28T22:07:04.125577Z"
    }
   },
   "outputs": [
    {
     "data": {
      "text/plain": [
       "97"
      ]
     },
     "execution_count": 162,
     "metadata": {},
     "output_type": "execute_result"
    }
   ],
   "source": [
    "len(a)"
   ]
  },
  {
   "cell_type": "code",
   "execution_count": 163,
   "metadata": {
    "ExecuteTime": {
     "end_time": "2020-04-28T22:07:04.141408Z",
     "start_time": "2020-04-28T22:07:04.132867Z"
    }
   },
   "outputs": [],
   "source": [
    "b=['grade_7', 'sqft_living', 'zipcode_98004', 'waterfront_1_0', 'zipcode_98039', 'zipcode_98112', 'grade_13', 'grade_12', 'grade_11', 'grade_10', 'grade_6', 'zipcode_98040', 'grade_9', 'zipcode_98033', 'zipcode_98023', 'view_4_0', 'zipcode_98105', 'zipcode_98119', 'zipcode_98199', 'zipcode_98103', 'zipcode_98115', 'zipcode_98117', 'zipcode_98109', 'zipcode_98107', 'zipcode_98102', 'zipcode_98122', 'view_3_0', 'zipcode_98116', 'zipcode_98052', 'zipcode_98144', 'zipcode_98006', 'zipcode_98008', 'zipcode_98005', 'zipcode_98053', 'zipcode_98034', 'zipcode_98136', 'zipcode_98029', 'zipcode_98092', 'zipcode_98125', 'zipcode_98177', 'condition_5', 'zipcode_98007', 'zipcode_98126', 'zipcode_98074', 'zipcode_98075', 'zipcode_98027', 'zipcode_98133', 'zipcode_98118', 'view_2_0', 'zipcode_98072', 'zipcode_98155', 'sqft_above', 'view_1_0', 'yr_renovated', 'zipcode_98028', 'sqft_lot', 'zipcode_98106', 'zipcode_98011', 'condition_4', 'sqft_living15', 'bedrooms_3', 'zipcode_98108', 'floors_3_0', 'floors_2_0', 'bathrooms', 'zipcode_98146', 'zipcode_98056', 'zipcode_98077', 'zipcode_98024', 'zipcode_98065', 'zipcode_98059', 'zipcode_98045', 'zipcode_98019', 'bedrooms_2', 'zipcode_98014', 'zipcode_98166', 'bedrooms_7', 'zipcode_98168', 'floors_2_5', 'yr_built', 'bedrooms_9', 'zipcode_98038', 'zipcode_98055', 'zipcode_98058', 'bedrooms_10', 'zipcode_98010', 'zipcode_98148', 'sqft_lot15', 'zipcode_98178']"
   ]
  },
  {
   "cell_type": "code",
   "execution_count": 164,
   "metadata": {
    "ExecuteTime": {
     "end_time": "2020-04-28T22:07:04.148861Z",
     "start_time": "2020-04-28T22:07:04.143502Z"
    }
   },
   "outputs": [
    {
     "data": {
      "text/plain": [
       "89"
      ]
     },
     "execution_count": 164,
     "metadata": {},
     "output_type": "execute_result"
    }
   ],
   "source": [
    "len(b)"
   ]
  },
  {
   "cell_type": "code",
   "execution_count": 165,
   "metadata": {
    "ExecuteTime": {
     "end_time": "2020-04-28T22:07:04.155823Z",
     "start_time": "2020-04-28T22:07:04.151311Z"
    }
   },
   "outputs": [
    {
     "name": "stdout",
     "output_type": "stream",
     "text": [
      "['grade_6', 'sqft_living', 'grade_7', 'grade_8', 'grade_5', 'zipcode_98004', 'zipcode_98023', 'grade_9', 'waterfront_1_0', 'sqft_living15', 'zipcode_98003', 'zipcode_98092', 'zipcode_98038', 'zipcode_98002', 'zipcode_98032', 'zipcode_98039', 'bathrooms', 'zipcode_98033', 'zipcode_98040', 'zipcode_98112', 'zipcode_98115', 'zipcode_98117', 'zipcode_98103', 'zipcode_98199', 'zipcode_98105', 'zipcode_98119', 'zipcode_98107', 'zipcode_98116', 'zipcode_98109', 'zipcode_98122', 'zipcode_98102', 'view_4_0', 'zipcode_98006', 'zipcode_98052', 'zipcode_98136', 'zipcode_98144', 'sqft_lot', 'zipcode_98008', 'zipcode_98005', 'grade_4', 'zipcode_98053', 'view_3_0', 'zipcode_98029', 'zipcode_98126', 'zipcode_98125', 'zipcode_98034', 'zipcode_98177', 'zipcode_98007', 'condition_5', 'zipcode_98074', 'zipcode_98075', 'grade_10', 'zipcode_98027', 'view_2_0', 'sqft_above', 'zipcode_98133', 'zipcode_98118', 'zipcode_98072', 'zipcode_98155', 'condition_4', 'condition_3', 'view_1_0', 'zipcode_98011', 'zipcode_98065', 'zipcode_98028', 'zipcode_98077', 'zipcode_98106', 'yr_renovated', 'zipcode_98108', 'zipcode_98059', 'zipcode_98056', 'zipcode_98024', 'grade_11', 'floors_3_0', 'zipcode_98166', 'zipcode_98146', 'zipcode_98045', 'zipcode_98019', 'zipcode_98014', 'zipcode_98070', 'zipcode_98010', 'zipcode_98058', 'zipcode_98178', 'zipcode_98055', 'sqft_basement', 'sqft_lot15', 'bedrooms_7', 'zipcode_98148', 'grade_13', 'bedrooms_2', 'condition_2', 'floors_2_0', 'bedrooms_6', 'zipcode_98188', 'zipcode_98168', 'bedrooms_5', 'bedrooms_9']\n"
     ]
    }
   ],
   "source": [
    "print(a)"
   ]
  },
  {
   "cell_type": "code",
   "execution_count": 166,
   "metadata": {
    "ExecuteTime": {
     "end_time": "2020-04-28T22:07:04.163884Z",
     "start_time": "2020-04-28T22:07:04.158439Z"
    }
   },
   "outputs": [
    {
     "data": {
      "text/plain": [
       "112"
      ]
     },
     "execution_count": 166,
     "metadata": {},
     "output_type": "execute_result"
    }
   ],
   "source": [
    "len(x_cols)"
   ]
  },
  {
   "cell_type": "code",
   "execution_count": 167,
   "metadata": {
    "ExecuteTime": {
     "end_time": "2020-04-28T22:07:04.171820Z",
     "start_time": "2020-04-28T22:07:04.166239Z"
    }
   },
   "outputs": [
    {
     "data": {
      "text/plain": [
       "112"
      ]
     },
     "execution_count": 167,
     "metadata": {},
     "output_type": "execute_result"
    }
   ],
   "source": [
    "len(x_cols)"
   ]
  },
  {
   "cell_type": "code",
   "execution_count": null,
   "metadata": {},
   "outputs": [],
   "source": []
  },
  {
   "cell_type": "markdown",
   "metadata": {},
   "source": [
    "## Model Refinement I"
   ]
  },
  {
   "cell_type": "code",
   "execution_count": 168,
   "metadata": {
    "ExecuteTime": {
     "end_time": "2020-04-28T22:07:04.185992Z",
     "start_time": "2020-04-28T22:07:04.174355Z"
    }
   },
   "outputs": [],
   "source": [
    "outcome = 'price'\n",
    "x_cols = ['grade_7', 'sqft_living15', 'sqft_living', 'grade_6', 'zipcode_98023', 'zipcode_98004', 'grade_8', 'grade_5', 'grade_9', 'waterfront_1_0', 'zipcode_98003', 'zipcode_98092', 'zipcode_98038', 'zipcode_98002', 'zipcode_98032', 'zipcode_98039', 'bathrooms', 'zipcode_98033', 'zipcode_98040', 'zipcode_98112', 'zipcode_98115', 'zipcode_98117', 'zipcode_98103', 'zipcode_98199', 'zipcode_98105', 'zipcode_98119', 'zipcode_98107', 'zipcode_98116', 'zipcode_98109', 'zipcode_98122', 'zipcode_98102', 'view_4_0', 'zipcode_98006', 'zipcode_98052', 'zipcode_98136', 'zipcode_98144', 'sqft_lot', 'zipcode_98008', 'zipcode_98005', 'grade_4', 'zipcode_98053', 'view_3_0', 'zipcode_98029', 'zipcode_98126', 'zipcode_98125', 'zipcode_98034', 'zipcode_98177', 'zipcode_98007', 'condition_5', 'zipcode_98074', 'zipcode_98075', 'grade_10', 'zipcode_98027', 'view_2_0', 'sqft_above', 'zipcode_98133', 'zipcode_98118', 'zipcode_98072', 'zipcode_98155', 'condition_4', 'condition_3', 'view_1_0', 'zipcode_98011', 'zipcode_98065', 'zipcode_98028', 'zipcode_98077', 'zipcode_98106', 'yr_renovated', 'zipcode_98108', 'zipcode_98059', 'zipcode_98056', 'zipcode_98024', 'grade_11', 'floors_3_0', 'zipcode_98166', 'zipcode_98146', 'zipcode_98045', 'zipcode_98019', 'zipcode_98014', 'zipcode_98070', 'zipcode_98010', 'zipcode_98058', 'zipcode_98178', 'zipcode_98055', 'sqft_basement', 'sqft_lot15', 'bedrooms_7', 'zipcode_98148', 'grade_13', 'bedrooms_2', 'condition_2', 'floors_2_0', 'bedrooms_6', 'zipcode_98188', 'zipcode_98168', 'bedrooms_5', 'bedrooms_9']"
   ]
  },
  {
   "cell_type": "code",
   "execution_count": 169,
   "metadata": {
    "ExecuteTime": {
     "end_time": "2020-04-28T22:07:04.863532Z",
     "start_time": "2020-04-28T22:07:04.188803Z"
    }
   },
   "outputs": [
    {
     "data": {
      "text/html": [
       "<table class=\"simpletable\">\n",
       "<caption>OLS Regression Results</caption>\n",
       "<tr>\n",
       "  <th>Dep. Variable:</th>          <td>price</td>      <th>  R-squared:         </th>  <td>   0.885</td> \n",
       "</tr>\n",
       "<tr>\n",
       "  <th>Model:</th>                   <td>OLS</td>       <th>  Adj. R-squared:    </th>  <td>   0.885</td> \n",
       "</tr>\n",
       "<tr>\n",
       "  <th>Method:</th>             <td>Least Squares</td>  <th>  F-statistic:       </th>  <td>   1706.</td> \n",
       "</tr>\n",
       "<tr>\n",
       "  <th>Date:</th>             <td>Tue, 28 Apr 2020</td> <th>  Prob (F-statistic):</th>   <td>  0.00</td>  \n",
       "</tr>\n",
       "<tr>\n",
       "  <th>Time:</th>                 <td>17:07:04</td>     <th>  Log-Likelihood:    </th>  <td>  6568.0</td> \n",
       "</tr>\n",
       "<tr>\n",
       "  <th>No. Observations:</th>      <td> 21594</td>      <th>  AIC:               </th> <td>-1.294e+04</td>\n",
       "</tr>\n",
       "<tr>\n",
       "  <th>Df Residuals:</th>          <td> 21496</td>      <th>  BIC:               </th> <td>-1.216e+04</td>\n",
       "</tr>\n",
       "<tr>\n",
       "  <th>Df Model:</th>              <td>    97</td>      <th>                     </th>      <td> </td>    \n",
       "</tr>\n",
       "<tr>\n",
       "  <th>Covariance Type:</th>      <td>nonrobust</td>    <th>                     </th>      <td> </td>    \n",
       "</tr>\n",
       "</table>\n",
       "<table class=\"simpletable\">\n",
       "<tr>\n",
       "         <td></td>           <th>coef</th>     <th>std err</th>      <th>t</th>      <th>P>|t|</th>  <th>[0.025</th>    <th>0.975]</th>  \n",
       "</tr>\n",
       "<tr>\n",
       "  <th>Intercept</th>      <td>   12.7573</td> <td>    0.040</td> <td>  320.698</td> <td> 0.000</td> <td>   12.679</td> <td>   12.835</td>\n",
       "</tr>\n",
       "<tr>\n",
       "  <th>grade_7</th>        <td>   -0.5247</td> <td>    0.021</td> <td>  -25.489</td> <td> 0.000</td> <td>   -0.565</td> <td>   -0.484</td>\n",
       "</tr>\n",
       "<tr>\n",
       "  <th>sqft_living15</th>  <td>    0.0493</td> <td>    0.002</td> <td>   22.558</td> <td> 0.000</td> <td>    0.045</td> <td>    0.054</td>\n",
       "</tr>\n",
       "<tr>\n",
       "  <th>sqft_living</th>    <td>    0.0968</td> <td>    0.006</td> <td>   16.564</td> <td> 0.000</td> <td>    0.085</td> <td>    0.108</td>\n",
       "</tr>\n",
       "<tr>\n",
       "  <th>grade_6</th>        <td>   -0.5922</td> <td>    0.021</td> <td>  -27.602</td> <td> 0.000</td> <td>   -0.634</td> <td>   -0.550</td>\n",
       "</tr>\n",
       "<tr>\n",
       "  <th>zipcode_98023</th>  <td>   -0.0718</td> <td>    0.009</td> <td>   -7.951</td> <td> 0.000</td> <td>   -0.090</td> <td>   -0.054</td>\n",
       "</tr>\n",
       "<tr>\n",
       "  <th>zipcode_98004</th>  <td>    1.0765</td> <td>    0.011</td> <td>   96.810</td> <td> 0.000</td> <td>    1.055</td> <td>    1.098</td>\n",
       "</tr>\n",
       "<tr>\n",
       "  <th>grade_8</th>        <td>   -0.4433</td> <td>    0.020</td> <td>  -22.066</td> <td> 0.000</td> <td>   -0.483</td> <td>   -0.404</td>\n",
       "</tr>\n",
       "<tr>\n",
       "  <th>grade_5</th>        <td>   -0.6571</td> <td>    0.024</td> <td>  -26.938</td> <td> 0.000</td> <td>   -0.705</td> <td>   -0.609</td>\n",
       "</tr>\n",
       "<tr>\n",
       "  <th>grade_9</th>        <td>   -0.3286</td> <td>    0.020</td> <td>  -16.532</td> <td> 0.000</td> <td>   -0.368</td> <td>   -0.290</td>\n",
       "</tr>\n",
       "<tr>\n",
       "  <th>waterfront_1_0</th> <td>    0.4449</td> <td>    0.018</td> <td>   24.117</td> <td> 0.000</td> <td>    0.409</td> <td>    0.481</td>\n",
       "</tr>\n",
       "<tr>\n",
       "  <th>zipcode_98003</th>  <td>   -0.0279</td> <td>    0.011</td> <td>   -2.436</td> <td> 0.015</td> <td>   -0.050</td> <td>   -0.005</td>\n",
       "</tr>\n",
       "<tr>\n",
       "  <th>zipcode_98092</th>  <td>   -0.0315</td> <td>    0.010</td> <td>   -3.020</td> <td> 0.003</td> <td>   -0.052</td> <td>   -0.011</td>\n",
       "</tr>\n",
       "<tr>\n",
       "  <th>zipcode_98038</th>  <td>    0.1168</td> <td>    0.009</td> <td>   13.731</td> <td> 0.000</td> <td>    0.100</td> <td>    0.133</td>\n",
       "</tr>\n",
       "<tr>\n",
       "  <th>zipcode_98002</th>  <td>   -0.0513</td> <td>    0.013</td> <td>   -3.822</td> <td> 0.000</td> <td>   -0.078</td> <td>   -0.025</td>\n",
       "</tr>\n",
       "<tr>\n",
       "  <th>zipcode_98032</th>  <td>   -0.0630</td> <td>    0.017</td> <td>   -3.807</td> <td> 0.000</td> <td>   -0.095</td> <td>   -0.031</td>\n",
       "</tr>\n",
       "<tr>\n",
       "  <th>zipcode_98039</th>  <td>    1.2398</td> <td>    0.026</td> <td>   47.703</td> <td> 0.000</td> <td>    1.189</td> <td>    1.291</td>\n",
       "</tr>\n",
       "<tr>\n",
       "  <th>bathrooms</th>      <td>    0.0281</td> <td>    0.002</td> <td>   12.820</td> <td> 0.000</td> <td>    0.024</td> <td>    0.032</td>\n",
       "</tr>\n",
       "<tr>\n",
       "  <th>zipcode_98033</th>  <td>    0.7401</td> <td>    0.010</td> <td>   77.008</td> <td> 0.000</td> <td>    0.721</td> <td>    0.759</td>\n",
       "</tr>\n",
       "<tr>\n",
       "  <th>zipcode_98040</th>  <td>    0.8293</td> <td>    0.012</td> <td>   70.294</td> <td> 0.000</td> <td>    0.806</td> <td>    0.852</td>\n",
       "</tr>\n",
       "<tr>\n",
       "  <th>zipcode_98112</th>  <td>    1.0367</td> <td>    0.012</td> <td>   86.053</td> <td> 0.000</td> <td>    1.013</td> <td>    1.060</td>\n",
       "</tr>\n",
       "<tr>\n",
       "  <th>zipcode_98115</th>  <td>    0.8075</td> <td>    0.009</td> <td>   92.485</td> <td> 0.000</td> <td>    0.790</td> <td>    0.825</td>\n",
       "</tr>\n",
       "<tr>\n",
       "  <th>zipcode_98117</th>  <td>    0.8135</td> <td>    0.009</td> <td>   90.753</td> <td> 0.000</td> <td>    0.796</td> <td>    0.831</td>\n",
       "</tr>\n",
       "<tr>\n",
       "  <th>zipcode_98103</th>  <td>    0.8372</td> <td>    0.009</td> <td>   93.661</td> <td> 0.000</td> <td>    0.820</td> <td>    0.855</td>\n",
       "</tr>\n",
       "<tr>\n",
       "  <th>zipcode_98199</th>  <td>    0.8412</td> <td>    0.011</td> <td>   75.113</td> <td> 0.000</td> <td>    0.819</td> <td>    0.863</td>\n",
       "</tr>\n",
       "<tr>\n",
       "  <th>zipcode_98105</th>  <td>    0.9356</td> <td>    0.013</td> <td>   73.003</td> <td> 0.000</td> <td>    0.910</td> <td>    0.961</td>\n",
       "</tr>\n",
       "<tr>\n",
       "  <th>zipcode_98119</th>  <td>    0.9767</td> <td>    0.014</td> <td>   68.973</td> <td> 0.000</td> <td>    0.949</td> <td>    1.004</td>\n",
       "</tr>\n",
       "<tr>\n",
       "  <th>zipcode_98107</th>  <td>    0.8608</td> <td>    0.012</td> <td>   70.922</td> <td> 0.000</td> <td>    0.837</td> <td>    0.885</td>\n",
       "</tr>\n",
       "<tr>\n",
       "  <th>zipcode_98116</th>  <td>    0.7517</td> <td>    0.011</td> <td>   68.488</td> <td> 0.000</td> <td>    0.730</td> <td>    0.773</td>\n",
       "</tr>\n",
       "<tr>\n",
       "  <th>zipcode_98109</th>  <td>    0.9944</td> <td>    0.018</td> <td>   55.583</td> <td> 0.000</td> <td>    0.959</td> <td>    1.029</td>\n",
       "</tr>\n",
       "<tr>\n",
       "  <th>zipcode_98122</th>  <td>    0.8106</td> <td>    0.012</td> <td>   69.680</td> <td> 0.000</td> <td>    0.788</td> <td>    0.833</td>\n",
       "</tr>\n",
       "<tr>\n",
       "  <th>zipcode_98102</th>  <td>    0.9642</td> <td>    0.018</td> <td>   52.446</td> <td> 0.000</td> <td>    0.928</td> <td>    1.000</td>\n",
       "</tr>\n",
       "<tr>\n",
       "  <th>view_4_0</th>       <td>    0.2925</td> <td>    0.013</td> <td>   22.869</td> <td> 0.000</td> <td>    0.267</td> <td>    0.318</td>\n",
       "</tr>\n",
       "<tr>\n",
       "  <th>zipcode_98006</th>  <td>    0.5929</td> <td>    0.009</td> <td>   63.570</td> <td> 0.000</td> <td>    0.575</td> <td>    0.611</td>\n",
       "</tr>\n",
       "<tr>\n",
       "  <th>zipcode_98052</th>  <td>    0.5877</td> <td>    0.009</td> <td>   68.004</td> <td> 0.000</td> <td>    0.571</td> <td>    0.605</td>\n",
       "</tr>\n",
       "<tr>\n",
       "  <th>zipcode_98136</th>  <td>    0.6706</td> <td>    0.012</td> <td>   55.742</td> <td> 0.000</td> <td>    0.647</td> <td>    0.694</td>\n",
       "</tr>\n",
       "<tr>\n",
       "  <th>zipcode_98144</th>  <td>    0.6718</td> <td>    0.011</td> <td>   61.957</td> <td> 0.000</td> <td>    0.651</td> <td>    0.693</td>\n",
       "</tr>\n",
       "<tr>\n",
       "  <th>sqft_lot</th>       <td>    0.0646</td> <td>    0.003</td> <td>   20.035</td> <td> 0.000</td> <td>    0.058</td> <td>    0.071</td>\n",
       "</tr>\n",
       "<tr>\n",
       "  <th>zipcode_98008</th>  <td>    0.6107</td> <td>    0.011</td> <td>   53.175</td> <td> 0.000</td> <td>    0.588</td> <td>    0.633</td>\n",
       "</tr>\n",
       "<tr>\n",
       "  <th>zipcode_98005</th>  <td>    0.6788</td> <td>    0.015</td> <td>   46.523</td> <td> 0.000</td> <td>    0.650</td> <td>    0.707</td>\n",
       "</tr>\n",
       "<tr>\n",
       "  <th>grade_4</th>        <td>   -0.6218</td> <td>    0.041</td> <td>  -15.153</td> <td> 0.000</td> <td>   -0.702</td> <td>   -0.541</td>\n",
       "</tr>\n",
       "<tr>\n",
       "  <th>zipcode_98053</th>  <td>    0.5313</td> <td>    0.010</td> <td>   53.046</td> <td> 0.000</td> <td>    0.512</td> <td>    0.551</td>\n",
       "</tr>\n",
       "<tr>\n",
       "  <th>view_3_0</th>       <td>    0.1742</td> <td>    0.008</td> <td>   20.667</td> <td> 0.000</td> <td>    0.158</td> <td>    0.191</td>\n",
       "</tr>\n",
       "<tr>\n",
       "  <th>zipcode_98029</th>  <td>    0.5555</td> <td>    0.011</td> <td>   50.391</td> <td> 0.000</td> <td>    0.534</td> <td>    0.577</td>\n",
       "</tr>\n",
       "<tr>\n",
       "  <th>zipcode_98126</th>  <td>    0.5483</td> <td>    0.011</td> <td>   51.445</td> <td> 0.000</td> <td>    0.527</td> <td>    0.569</td>\n",
       "</tr>\n",
       "<tr>\n",
       "  <th>zipcode_98125</th>  <td>    0.5468</td> <td>    0.010</td> <td>   55.384</td> <td> 0.000</td> <td>    0.527</td> <td>    0.566</td>\n",
       "</tr>\n",
       "<tr>\n",
       "  <th>zipcode_98034</th>  <td>    0.4986</td> <td>    0.009</td> <td>   57.122</td> <td> 0.000</td> <td>    0.481</td> <td>    0.516</td>\n",
       "</tr>\n",
       "<tr>\n",
       "  <th>zipcode_98177</th>  <td>    0.5506</td> <td>    0.012</td> <td>   45.499</td> <td> 0.000</td> <td>    0.527</td> <td>    0.574</td>\n",
       "</tr>\n",
       "<tr>\n",
       "  <th>zipcode_98007</th>  <td>    0.6102</td> <td>    0.016</td> <td>   38.865</td> <td> 0.000</td> <td>    0.579</td> <td>    0.641</td>\n",
       "</tr>\n",
       "<tr>\n",
       "  <th>condition_5</th>    <td>    0.3933</td> <td>    0.034</td> <td>   11.600</td> <td> 0.000</td> <td>    0.327</td> <td>    0.460</td>\n",
       "</tr>\n",
       "<tr>\n",
       "  <th>zipcode_98074</th>  <td>    0.5006</td> <td>    0.010</td> <td>   51.782</td> <td> 0.000</td> <td>    0.482</td> <td>    0.520</td>\n",
       "</tr>\n",
       "<tr>\n",
       "  <th>zipcode_98075</th>  <td>    0.5059</td> <td>    0.011</td> <td>   47.513</td> <td> 0.000</td> <td>    0.485</td> <td>    0.527</td>\n",
       "</tr>\n",
       "<tr>\n",
       "  <th>grade_10</th>       <td>   -0.2384</td> <td>    0.020</td> <td>  -11.911</td> <td> 0.000</td> <td>   -0.278</td> <td>   -0.199</td>\n",
       "</tr>\n",
       "<tr>\n",
       "  <th>zipcode_98027</th>  <td>    0.4623</td> <td>    0.010</td> <td>   46.992</td> <td> 0.000</td> <td>    0.443</td> <td>    0.482</td>\n",
       "</tr>\n",
       "<tr>\n",
       "  <th>view_2_0</th>       <td>    0.1025</td> <td>    0.006</td> <td>   16.558</td> <td> 0.000</td> <td>    0.090</td> <td>    0.115</td>\n",
       "</tr>\n",
       "<tr>\n",
       "  <th>sqft_above</th>     <td>    0.0828</td> <td>    0.006</td> <td>   14.370</td> <td> 0.000</td> <td>    0.071</td> <td>    0.094</td>\n",
       "</tr>\n",
       "<tr>\n",
       "  <th>zipcode_98133</th>  <td>    0.4422</td> <td>    0.009</td> <td>   48.183</td> <td> 0.000</td> <td>    0.424</td> <td>    0.460</td>\n",
       "</tr>\n",
       "<tr>\n",
       "  <th>zipcode_98118</th>  <td>    0.4518</td> <td>    0.009</td> <td>   49.166</td> <td> 0.000</td> <td>    0.434</td> <td>    0.470</td>\n",
       "</tr>\n",
       "<tr>\n",
       "  <th>zipcode_98072</th>  <td>    0.4234</td> <td>    0.012</td> <td>   36.230</td> <td> 0.000</td> <td>    0.400</td> <td>    0.446</td>\n",
       "</tr>\n",
       "<tr>\n",
       "  <th>zipcode_98155</th>  <td>    0.3951</td> <td>    0.009</td> <td>   41.762</td> <td> 0.000</td> <td>    0.377</td> <td>    0.414</td>\n",
       "</tr>\n",
       "<tr>\n",
       "  <th>condition_4</th>    <td>    0.3264</td> <td>    0.034</td> <td>    9.684</td> <td> 0.000</td> <td>    0.260</td> <td>    0.392</td>\n",
       "</tr>\n",
       "<tr>\n",
       "  <th>condition_3</th>    <td>    0.2846</td> <td>    0.034</td> <td>    8.452</td> <td> 0.000</td> <td>    0.219</td> <td>    0.351</td>\n",
       "</tr>\n",
       "<tr>\n",
       "  <th>view_1_0</th>       <td>    0.1130</td> <td>    0.010</td> <td>   11.107</td> <td> 0.000</td> <td>    0.093</td> <td>    0.133</td>\n",
       "</tr>\n",
       "<tr>\n",
       "  <th>zipcode_98011</th>  <td>    0.3971</td> <td>    0.014</td> <td>   29.402</td> <td> 0.000</td> <td>    0.371</td> <td>    0.424</td>\n",
       "</tr>\n",
       "<tr>\n",
       "  <th>zipcode_98065</th>  <td>    0.3570</td> <td>    0.011</td> <td>   31.963</td> <td> 0.000</td> <td>    0.335</td> <td>    0.379</td>\n",
       "</tr>\n",
       "<tr>\n",
       "  <th>zipcode_98028</th>  <td>    0.3678</td> <td>    0.011</td> <td>   32.189</td> <td> 0.000</td> <td>    0.345</td> <td>    0.390</td>\n",
       "</tr>\n",
       "<tr>\n",
       "  <th>zipcode_98077</th>  <td>    0.3785</td> <td>    0.014</td> <td>   27.581</td> <td> 0.000</td> <td>    0.352</td> <td>    0.405</td>\n",
       "</tr>\n",
       "<tr>\n",
       "  <th>zipcode_98106</th>  <td>    0.3398</td> <td>    0.011</td> <td>   31.219</td> <td> 0.000</td> <td>    0.319</td> <td>    0.361</td>\n",
       "</tr>\n",
       "<tr>\n",
       "  <th>yr_renovated</th>   <td>    0.0132</td> <td>    0.001</td> <td>   10.593</td> <td> 0.000</td> <td>    0.011</td> <td>    0.016</td>\n",
       "</tr>\n",
       "<tr>\n",
       "  <th>zipcode_98108</th>  <td>    0.3489</td> <td>    0.014</td> <td>   25.116</td> <td> 0.000</td> <td>    0.322</td> <td>    0.376</td>\n",
       "</tr>\n",
       "<tr>\n",
       "  <th>zipcode_98059</th>  <td>    0.2887</td> <td>    0.009</td> <td>   31.014</td> <td> 0.000</td> <td>    0.270</td> <td>    0.307</td>\n",
       "</tr>\n",
       "<tr>\n",
       "  <th>zipcode_98056</th>  <td>    0.2776</td> <td>    0.010</td> <td>   28.179</td> <td> 0.000</td> <td>    0.258</td> <td>    0.297</td>\n",
       "</tr>\n",
       "<tr>\n",
       "  <th>zipcode_98024</th>  <td>    0.3764</td> <td>    0.021</td> <td>   18.217</td> <td> 0.000</td> <td>    0.336</td> <td>    0.417</td>\n",
       "</tr>\n",
       "<tr>\n",
       "  <th>grade_11</th>       <td>   -0.1237</td> <td>    0.021</td> <td>   -5.872</td> <td> 0.000</td> <td>   -0.165</td> <td>   -0.082</td>\n",
       "</tr>\n",
       "<tr>\n",
       "  <th>floors_3_0</th>     <td>   -0.0875</td> <td>    0.009</td> <td>   -9.876</td> <td> 0.000</td> <td>   -0.105</td> <td>   -0.070</td>\n",
       "</tr>\n",
       "<tr>\n",
       "  <th>zipcode_98166</th>  <td>    0.2677</td> <td>    0.012</td> <td>   22.219</td> <td> 0.000</td> <td>    0.244</td> <td>    0.291</td>\n",
       "</tr>\n",
       "<tr>\n",
       "  <th>zipcode_98146</th>  <td>    0.2516</td> <td>    0.011</td> <td>   21.973</td> <td> 0.000</td> <td>    0.229</td> <td>    0.274</td>\n",
       "</tr>\n",
       "<tr>\n",
       "  <th>zipcode_98045</th>  <td>    0.2703</td> <td>    0.013</td> <td>   21.052</td> <td> 0.000</td> <td>    0.245</td> <td>    0.296</td>\n",
       "</tr>\n",
       "<tr>\n",
       "  <th>zipcode_98019</th>  <td>    0.2676</td> <td>    0.014</td> <td>   19.540</td> <td> 0.000</td> <td>    0.241</td> <td>    0.294</td>\n",
       "</tr>\n",
       "<tr>\n",
       "  <th>zipcode_98014</th>  <td>    0.2520</td> <td>    0.017</td> <td>   14.856</td> <td> 0.000</td> <td>    0.219</td> <td>    0.285</td>\n",
       "</tr>\n",
       "<tr>\n",
       "  <th>zipcode_98070</th>  <td>    0.2575</td> <td>    0.018</td> <td>   14.605</td> <td> 0.000</td> <td>    0.223</td> <td>    0.292</td>\n",
       "</tr>\n",
       "<tr>\n",
       "  <th>zipcode_98010</th>  <td>    0.1827</td> <td>    0.018</td> <td>    9.891</td> <td> 0.000</td> <td>    0.147</td> <td>    0.219</td>\n",
       "</tr>\n",
       "<tr>\n",
       "  <th>zipcode_98058</th>  <td>    0.1153</td> <td>    0.009</td> <td>   12.333</td> <td> 0.000</td> <td>    0.097</td> <td>    0.134</td>\n",
       "</tr>\n",
       "<tr>\n",
       "  <th>zipcode_98178</th>  <td>    0.1208</td> <td>    0.012</td> <td>   10.114</td> <td> 0.000</td> <td>    0.097</td> <td>    0.144</td>\n",
       "</tr>\n",
       "<tr>\n",
       "  <th>zipcode_98055</th>  <td>    0.1042</td> <td>    0.012</td> <td>    8.904</td> <td> 0.000</td> <td>    0.081</td> <td>    0.127</td>\n",
       "</tr>\n",
       "<tr>\n",
       "  <th>sqft_basement</th>  <td>    0.0137</td> <td>    0.003</td> <td>    4.699</td> <td> 0.000</td> <td>    0.008</td> <td>    0.019</td>\n",
       "</tr>\n",
       "<tr>\n",
       "  <th>sqft_lot15</th>     <td>   -0.0174</td> <td>    0.003</td> <td>   -5.425</td> <td> 0.000</td> <td>   -0.024</td> <td>   -0.011</td>\n",
       "</tr>\n",
       "<tr>\n",
       "  <th>bedrooms_7</th>     <td>   -0.1589</td> <td>    0.029</td> <td>   -5.408</td> <td> 0.000</td> <td>   -0.216</td> <td>   -0.101</td>\n",
       "</tr>\n",
       "<tr>\n",
       "  <th>zipcode_98148</th>  <td>    0.1287</td> <td>    0.024</td> <td>    5.339</td> <td> 0.000</td> <td>    0.081</td> <td>    0.176</td>\n",
       "</tr>\n",
       "<tr>\n",
       "  <th>grade_13</th>       <td>    0.2541</td> <td>    0.053</td> <td>    4.750</td> <td> 0.000</td> <td>    0.149</td> <td>    0.359</td>\n",
       "</tr>\n",
       "<tr>\n",
       "  <th>bedrooms_2</th>     <td>    0.0213</td> <td>    0.004</td> <td>    4.979</td> <td> 0.000</td> <td>    0.013</td> <td>    0.030</td>\n",
       "</tr>\n",
       "<tr>\n",
       "  <th>condition_2</th>    <td>    0.1524</td> <td>    0.036</td> <td>    4.213</td> <td> 0.000</td> <td>    0.082</td> <td>    0.223</td>\n",
       "</tr>\n",
       "<tr>\n",
       "  <th>floors_2_0</th>     <td>   -0.0166</td> <td>    0.004</td> <td>   -4.254</td> <td> 0.000</td> <td>   -0.024</td> <td>   -0.009</td>\n",
       "</tr>\n",
       "<tr>\n",
       "  <th>bedrooms_6</th>     <td>   -0.0490</td> <td>    0.011</td> <td>   -4.352</td> <td> 0.000</td> <td>   -0.071</td> <td>   -0.027</td>\n",
       "</tr>\n",
       "<tr>\n",
       "  <th>zipcode_98188</th>  <td>    0.0608</td> <td>    0.016</td> <td>    3.821</td> <td> 0.000</td> <td>    0.030</td> <td>    0.092</td>\n",
       "</tr>\n",
       "<tr>\n",
       "  <th>zipcode_98168</th>  <td>    0.0429</td> <td>    0.012</td> <td>    3.625</td> <td> 0.000</td> <td>    0.020</td> <td>    0.066</td>\n",
       "</tr>\n",
       "<tr>\n",
       "  <th>bedrooms_5</th>     <td>   -0.0179</td> <td>    0.005</td> <td>   -3.599</td> <td> 0.000</td> <td>   -0.028</td> <td>   -0.008</td>\n",
       "</tr>\n",
       "<tr>\n",
       "  <th>bedrooms_9</th>     <td>   -0.2081</td> <td>    0.074</td> <td>   -2.825</td> <td> 0.005</td> <td>   -0.352</td> <td>   -0.064</td>\n",
       "</tr>\n",
       "</table>\n",
       "<table class=\"simpletable\">\n",
       "<tr>\n",
       "  <th>Omnibus:</th>       <td>1560.060</td> <th>  Durbin-Watson:     </th> <td>   2.003</td>\n",
       "</tr>\n",
       "<tr>\n",
       "  <th>Prob(Omnibus):</th>  <td> 0.000</td>  <th>  Jarque-Bera (JB):  </th> <td>6964.208</td>\n",
       "</tr>\n",
       "<tr>\n",
       "  <th>Skew:</th>           <td>-0.213</td>  <th>  Prob(JB):          </th> <td>    0.00</td>\n",
       "</tr>\n",
       "<tr>\n",
       "  <th>Kurtosis:</th>       <td> 5.749</td>  <th>  Cond. No.          </th> <td>    123.</td>\n",
       "</tr>\n",
       "</table><br/><br/>Warnings:<br/>[1] Standard Errors assume that the covariance matrix of the errors is correctly specified."
      ],
      "text/plain": [
       "<class 'statsmodels.iolib.summary.Summary'>\n",
       "\"\"\"\n",
       "                            OLS Regression Results                            \n",
       "==============================================================================\n",
       "Dep. Variable:                  price   R-squared:                       0.885\n",
       "Model:                            OLS   Adj. R-squared:                  0.885\n",
       "Method:                 Least Squares   F-statistic:                     1706.\n",
       "Date:                Tue, 28 Apr 2020   Prob (F-statistic):               0.00\n",
       "Time:                        17:07:04   Log-Likelihood:                 6568.0\n",
       "No. Observations:               21594   AIC:                        -1.294e+04\n",
       "Df Residuals:                   21496   BIC:                        -1.216e+04\n",
       "Df Model:                          97                                         \n",
       "Covariance Type:            nonrobust                                         \n",
       "==================================================================================\n",
       "                     coef    std err          t      P>|t|      [0.025      0.975]\n",
       "----------------------------------------------------------------------------------\n",
       "Intercept         12.7573      0.040    320.698      0.000      12.679      12.835\n",
       "grade_7           -0.5247      0.021    -25.489      0.000      -0.565      -0.484\n",
       "sqft_living15      0.0493      0.002     22.558      0.000       0.045       0.054\n",
       "sqft_living        0.0968      0.006     16.564      0.000       0.085       0.108\n",
       "grade_6           -0.5922      0.021    -27.602      0.000      -0.634      -0.550\n",
       "zipcode_98023     -0.0718      0.009     -7.951      0.000      -0.090      -0.054\n",
       "zipcode_98004      1.0765      0.011     96.810      0.000       1.055       1.098\n",
       "grade_8           -0.4433      0.020    -22.066      0.000      -0.483      -0.404\n",
       "grade_5           -0.6571      0.024    -26.938      0.000      -0.705      -0.609\n",
       "grade_9           -0.3286      0.020    -16.532      0.000      -0.368      -0.290\n",
       "waterfront_1_0     0.4449      0.018     24.117      0.000       0.409       0.481\n",
       "zipcode_98003     -0.0279      0.011     -2.436      0.015      -0.050      -0.005\n",
       "zipcode_98092     -0.0315      0.010     -3.020      0.003      -0.052      -0.011\n",
       "zipcode_98038      0.1168      0.009     13.731      0.000       0.100       0.133\n",
       "zipcode_98002     -0.0513      0.013     -3.822      0.000      -0.078      -0.025\n",
       "zipcode_98032     -0.0630      0.017     -3.807      0.000      -0.095      -0.031\n",
       "zipcode_98039      1.2398      0.026     47.703      0.000       1.189       1.291\n",
       "bathrooms          0.0281      0.002     12.820      0.000       0.024       0.032\n",
       "zipcode_98033      0.7401      0.010     77.008      0.000       0.721       0.759\n",
       "zipcode_98040      0.8293      0.012     70.294      0.000       0.806       0.852\n",
       "zipcode_98112      1.0367      0.012     86.053      0.000       1.013       1.060\n",
       "zipcode_98115      0.8075      0.009     92.485      0.000       0.790       0.825\n",
       "zipcode_98117      0.8135      0.009     90.753      0.000       0.796       0.831\n",
       "zipcode_98103      0.8372      0.009     93.661      0.000       0.820       0.855\n",
       "zipcode_98199      0.8412      0.011     75.113      0.000       0.819       0.863\n",
       "zipcode_98105      0.9356      0.013     73.003      0.000       0.910       0.961\n",
       "zipcode_98119      0.9767      0.014     68.973      0.000       0.949       1.004\n",
       "zipcode_98107      0.8608      0.012     70.922      0.000       0.837       0.885\n",
       "zipcode_98116      0.7517      0.011     68.488      0.000       0.730       0.773\n",
       "zipcode_98109      0.9944      0.018     55.583      0.000       0.959       1.029\n",
       "zipcode_98122      0.8106      0.012     69.680      0.000       0.788       0.833\n",
       "zipcode_98102      0.9642      0.018     52.446      0.000       0.928       1.000\n",
       "view_4_0           0.2925      0.013     22.869      0.000       0.267       0.318\n",
       "zipcode_98006      0.5929      0.009     63.570      0.000       0.575       0.611\n",
       "zipcode_98052      0.5877      0.009     68.004      0.000       0.571       0.605\n",
       "zipcode_98136      0.6706      0.012     55.742      0.000       0.647       0.694\n",
       "zipcode_98144      0.6718      0.011     61.957      0.000       0.651       0.693\n",
       "sqft_lot           0.0646      0.003     20.035      0.000       0.058       0.071\n",
       "zipcode_98008      0.6107      0.011     53.175      0.000       0.588       0.633\n",
       "zipcode_98005      0.6788      0.015     46.523      0.000       0.650       0.707\n",
       "grade_4           -0.6218      0.041    -15.153      0.000      -0.702      -0.541\n",
       "zipcode_98053      0.5313      0.010     53.046      0.000       0.512       0.551\n",
       "view_3_0           0.1742      0.008     20.667      0.000       0.158       0.191\n",
       "zipcode_98029      0.5555      0.011     50.391      0.000       0.534       0.577\n",
       "zipcode_98126      0.5483      0.011     51.445      0.000       0.527       0.569\n",
       "zipcode_98125      0.5468      0.010     55.384      0.000       0.527       0.566\n",
       "zipcode_98034      0.4986      0.009     57.122      0.000       0.481       0.516\n",
       "zipcode_98177      0.5506      0.012     45.499      0.000       0.527       0.574\n",
       "zipcode_98007      0.6102      0.016     38.865      0.000       0.579       0.641\n",
       "condition_5        0.3933      0.034     11.600      0.000       0.327       0.460\n",
       "zipcode_98074      0.5006      0.010     51.782      0.000       0.482       0.520\n",
       "zipcode_98075      0.5059      0.011     47.513      0.000       0.485       0.527\n",
       "grade_10          -0.2384      0.020    -11.911      0.000      -0.278      -0.199\n",
       "zipcode_98027      0.4623      0.010     46.992      0.000       0.443       0.482\n",
       "view_2_0           0.1025      0.006     16.558      0.000       0.090       0.115\n",
       "sqft_above         0.0828      0.006     14.370      0.000       0.071       0.094\n",
       "zipcode_98133      0.4422      0.009     48.183      0.000       0.424       0.460\n",
       "zipcode_98118      0.4518      0.009     49.166      0.000       0.434       0.470\n",
       "zipcode_98072      0.4234      0.012     36.230      0.000       0.400       0.446\n",
       "zipcode_98155      0.3951      0.009     41.762      0.000       0.377       0.414\n",
       "condition_4        0.3264      0.034      9.684      0.000       0.260       0.392\n",
       "condition_3        0.2846      0.034      8.452      0.000       0.219       0.351\n",
       "view_1_0           0.1130      0.010     11.107      0.000       0.093       0.133\n",
       "zipcode_98011      0.3971      0.014     29.402      0.000       0.371       0.424\n",
       "zipcode_98065      0.3570      0.011     31.963      0.000       0.335       0.379\n",
       "zipcode_98028      0.3678      0.011     32.189      0.000       0.345       0.390\n",
       "zipcode_98077      0.3785      0.014     27.581      0.000       0.352       0.405\n",
       "zipcode_98106      0.3398      0.011     31.219      0.000       0.319       0.361\n",
       "yr_renovated       0.0132      0.001     10.593      0.000       0.011       0.016\n",
       "zipcode_98108      0.3489      0.014     25.116      0.000       0.322       0.376\n",
       "zipcode_98059      0.2887      0.009     31.014      0.000       0.270       0.307\n",
       "zipcode_98056      0.2776      0.010     28.179      0.000       0.258       0.297\n",
       "zipcode_98024      0.3764      0.021     18.217      0.000       0.336       0.417\n",
       "grade_11          -0.1237      0.021     -5.872      0.000      -0.165      -0.082\n",
       "floors_3_0        -0.0875      0.009     -9.876      0.000      -0.105      -0.070\n",
       "zipcode_98166      0.2677      0.012     22.219      0.000       0.244       0.291\n",
       "zipcode_98146      0.2516      0.011     21.973      0.000       0.229       0.274\n",
       "zipcode_98045      0.2703      0.013     21.052      0.000       0.245       0.296\n",
       "zipcode_98019      0.2676      0.014     19.540      0.000       0.241       0.294\n",
       "zipcode_98014      0.2520      0.017     14.856      0.000       0.219       0.285\n",
       "zipcode_98070      0.2575      0.018     14.605      0.000       0.223       0.292\n",
       "zipcode_98010      0.1827      0.018      9.891      0.000       0.147       0.219\n",
       "zipcode_98058      0.1153      0.009     12.333      0.000       0.097       0.134\n",
       "zipcode_98178      0.1208      0.012     10.114      0.000       0.097       0.144\n",
       "zipcode_98055      0.1042      0.012      8.904      0.000       0.081       0.127\n",
       "sqft_basement      0.0137      0.003      4.699      0.000       0.008       0.019\n",
       "sqft_lot15        -0.0174      0.003     -5.425      0.000      -0.024      -0.011\n",
       "bedrooms_7        -0.1589      0.029     -5.408      0.000      -0.216      -0.101\n",
       "zipcode_98148      0.1287      0.024      5.339      0.000       0.081       0.176\n",
       "grade_13           0.2541      0.053      4.750      0.000       0.149       0.359\n",
       "bedrooms_2         0.0213      0.004      4.979      0.000       0.013       0.030\n",
       "condition_2        0.1524      0.036      4.213      0.000       0.082       0.223\n",
       "floors_2_0        -0.0166      0.004     -4.254      0.000      -0.024      -0.009\n",
       "bedrooms_6        -0.0490      0.011     -4.352      0.000      -0.071      -0.027\n",
       "zipcode_98188      0.0608      0.016      3.821      0.000       0.030       0.092\n",
       "zipcode_98168      0.0429      0.012      3.625      0.000       0.020       0.066\n",
       "bedrooms_5        -0.0179      0.005     -3.599      0.000      -0.028      -0.008\n",
       "bedrooms_9        -0.2081      0.074     -2.825      0.005      -0.352      -0.064\n",
       "==============================================================================\n",
       "Omnibus:                     1560.060   Durbin-Watson:                   2.003\n",
       "Prob(Omnibus):                  0.000   Jarque-Bera (JB):             6964.208\n",
       "Skew:                          -0.213   Prob(JB):                         0.00\n",
       "Kurtosis:                       5.749   Cond. No.                         123.\n",
       "==============================================================================\n",
       "\n",
       "Warnings:\n",
       "[1] Standard Errors assume that the covariance matrix of the errors is correctly specified.\n",
       "\"\"\""
      ]
     },
     "execution_count": 169,
     "metadata": {},
     "output_type": "execute_result"
    }
   ],
   "source": [
    "# Fitting the actual model\n",
    "predictors = '+'.join(x_cols)\n",
    "formula = outcome + '~' + predictors\n",
    "model = ols(formula=formula, data=df_feats).fit()\n",
    "model.summary()"
   ]
  },
  {
   "cell_type": "code",
   "execution_count": 170,
   "metadata": {
    "ExecuteTime": {
     "end_time": "2020-04-28T22:07:04.875181Z",
     "start_time": "2020-04-28T22:07:04.865848Z"
    }
   },
   "outputs": [],
   "source": [
    "X = df_feats[x_cols]"
   ]
  },
  {
   "cell_type": "code",
   "execution_count": 171,
   "metadata": {
    "ExecuteTime": {
     "end_time": "2020-04-28T22:07:04.904590Z",
     "start_time": "2020-04-28T22:07:04.877328Z"
    }
   },
   "outputs": [
    {
     "data": {
      "text/html": [
       "<div>\n",
       "<style scoped>\n",
       "    .dataframe tbody tr th:only-of-type {\n",
       "        vertical-align: middle;\n",
       "    }\n",
       "\n",
       "    .dataframe tbody tr th {\n",
       "        vertical-align: top;\n",
       "    }\n",
       "\n",
       "    .dataframe thead th {\n",
       "        text-align: right;\n",
       "    }\n",
       "</style>\n",
       "<table border=\"1\" class=\"dataframe\">\n",
       "  <thead>\n",
       "    <tr style=\"text-align: right;\">\n",
       "      <th></th>\n",
       "      <th>grade_7</th>\n",
       "      <th>sqft_living15</th>\n",
       "      <th>sqft_living</th>\n",
       "      <th>grade_6</th>\n",
       "      <th>zipcode_98023</th>\n",
       "      <th>zipcode_98004</th>\n",
       "      <th>grade_8</th>\n",
       "      <th>grade_5</th>\n",
       "      <th>grade_9</th>\n",
       "      <th>waterfront_1_0</th>\n",
       "      <th>...</th>\n",
       "      <th>zipcode_98148</th>\n",
       "      <th>grade_13</th>\n",
       "      <th>bedrooms_2</th>\n",
       "      <th>condition_2</th>\n",
       "      <th>floors_2_0</th>\n",
       "      <th>bedrooms_6</th>\n",
       "      <th>zipcode_98188</th>\n",
       "      <th>zipcode_98168</th>\n",
       "      <th>bedrooms_5</th>\n",
       "      <th>bedrooms_9</th>\n",
       "    </tr>\n",
       "  </thead>\n",
       "  <tbody>\n",
       "    <tr>\n",
       "      <td>0</td>\n",
       "      <td>1</td>\n",
       "      <td>-1.035409</td>\n",
       "      <td>-1.125683</td>\n",
       "      <td>0</td>\n",
       "      <td>0</td>\n",
       "      <td>0</td>\n",
       "      <td>0</td>\n",
       "      <td>0</td>\n",
       "      <td>0</td>\n",
       "      <td>0</td>\n",
       "      <td>...</td>\n",
       "      <td>0</td>\n",
       "      <td>0</td>\n",
       "      <td>0</td>\n",
       "      <td>0</td>\n",
       "      <td>0</td>\n",
       "      <td>0</td>\n",
       "      <td>0</td>\n",
       "      <td>0</td>\n",
       "      <td>0</td>\n",
       "      <td>0</td>\n",
       "    </tr>\n",
       "    <tr>\n",
       "      <td>1</td>\n",
       "      <td>1</td>\n",
       "      <td>-0.326807</td>\n",
       "      <td>0.709834</td>\n",
       "      <td>0</td>\n",
       "      <td>0</td>\n",
       "      <td>0</td>\n",
       "      <td>0</td>\n",
       "      <td>0</td>\n",
       "      <td>0</td>\n",
       "      <td>0</td>\n",
       "      <td>...</td>\n",
       "      <td>0</td>\n",
       "      <td>0</td>\n",
       "      <td>0</td>\n",
       "      <td>0</td>\n",
       "      <td>1</td>\n",
       "      <td>0</td>\n",
       "      <td>0</td>\n",
       "      <td>0</td>\n",
       "      <td>0</td>\n",
       "      <td>0</td>\n",
       "    </tr>\n",
       "    <tr>\n",
       "      <td>2</td>\n",
       "      <td>0</td>\n",
       "      <td>1.126666</td>\n",
       "      <td>-2.131831</td>\n",
       "      <td>1</td>\n",
       "      <td>0</td>\n",
       "      <td>0</td>\n",
       "      <td>0</td>\n",
       "      <td>0</td>\n",
       "      <td>0</td>\n",
       "      <td>0</td>\n",
       "      <td>...</td>\n",
       "      <td>0</td>\n",
       "      <td>0</td>\n",
       "      <td>1</td>\n",
       "      <td>0</td>\n",
       "      <td>0</td>\n",
       "      <td>0</td>\n",
       "      <td>0</td>\n",
       "      <td>0</td>\n",
       "      <td>0</td>\n",
       "      <td>0</td>\n",
       "    </tr>\n",
       "    <tr>\n",
       "      <td>3</td>\n",
       "      <td>1</td>\n",
       "      <td>-0.990173</td>\n",
       "      <td>0.070792</td>\n",
       "      <td>0</td>\n",
       "      <td>0</td>\n",
       "      <td>0</td>\n",
       "      <td>0</td>\n",
       "      <td>0</td>\n",
       "      <td>0</td>\n",
       "      <td>0</td>\n",
       "      <td>...</td>\n",
       "      <td>0</td>\n",
       "      <td>0</td>\n",
       "      <td>0</td>\n",
       "      <td>0</td>\n",
       "      <td>0</td>\n",
       "      <td>0</td>\n",
       "      <td>0</td>\n",
       "      <td>0</td>\n",
       "      <td>0</td>\n",
       "      <td>0</td>\n",
       "    </tr>\n",
       "    <tr>\n",
       "      <td>4</td>\n",
       "      <td>0</td>\n",
       "      <td>-0.134239</td>\n",
       "      <td>-0.292723</td>\n",
       "      <td>0</td>\n",
       "      <td>0</td>\n",
       "      <td>0</td>\n",
       "      <td>1</td>\n",
       "      <td>0</td>\n",
       "      <td>0</td>\n",
       "      <td>0</td>\n",
       "      <td>...</td>\n",
       "      <td>0</td>\n",
       "      <td>0</td>\n",
       "      <td>0</td>\n",
       "      <td>0</td>\n",
       "      <td>0</td>\n",
       "      <td>0</td>\n",
       "      <td>0</td>\n",
       "      <td>0</td>\n",
       "      <td>0</td>\n",
       "      <td>0</td>\n",
       "    </tr>\n",
       "  </tbody>\n",
       "</table>\n",
       "<p>5 rows × 97 columns</p>\n",
       "</div>"
      ],
      "text/plain": [
       "   grade_7  sqft_living15  sqft_living  grade_6  zipcode_98023  zipcode_98004  \\\n",
       "0        1      -1.035409    -1.125683        0              0              0   \n",
       "1        1      -0.326807     0.709834        0              0              0   \n",
       "2        0       1.126666    -2.131831        1              0              0   \n",
       "3        1      -0.990173     0.070792        0              0              0   \n",
       "4        0      -0.134239    -0.292723        0              0              0   \n",
       "\n",
       "   grade_8  grade_5  grade_9  waterfront_1_0  ...  zipcode_98148  grade_13  \\\n",
       "0        0        0        0               0  ...              0         0   \n",
       "1        0        0        0               0  ...              0         0   \n",
       "2        0        0        0               0  ...              0         0   \n",
       "3        0        0        0               0  ...              0         0   \n",
       "4        1        0        0               0  ...              0         0   \n",
       "\n",
       "   bedrooms_2  condition_2  floors_2_0  bedrooms_6  zipcode_98188  \\\n",
       "0           0            0           0           0              0   \n",
       "1           0            0           1           0              0   \n",
       "2           1            0           0           0              0   \n",
       "3           0            0           0           0              0   \n",
       "4           0            0           0           0              0   \n",
       "\n",
       "   zipcode_98168  bedrooms_5  bedrooms_9  \n",
       "0              0           0           0  \n",
       "1              0           0           0  \n",
       "2              0           0           0  \n",
       "3              0           0           0  \n",
       "4              0           0           0  \n",
       "\n",
       "[5 rows x 97 columns]"
      ]
     },
     "execution_count": 171,
     "metadata": {},
     "output_type": "execute_result"
    }
   ],
   "source": [
    "X.head()"
   ]
  },
  {
   "cell_type": "code",
   "execution_count": 172,
   "metadata": {
    "ExecuteTime": {
     "end_time": "2020-04-28T22:07:05.002280Z",
     "start_time": "2020-04-28T22:07:04.907328Z"
    }
   },
   "outputs": [],
   "source": [
    "fig = sm.graphics.qqplot(model.resid, dist=stats.norm, line='45', fit=True)"
   ]
  },
  {
   "cell_type": "code",
   "execution_count": 173,
   "metadata": {
    "ExecuteTime": {
     "end_time": "2020-04-28T22:07:05.697489Z",
     "start_time": "2020-04-28T22:07:05.004481Z"
    }
   },
   "outputs": [
    {
     "data": {
      "text/plain": [
       "<matplotlib.collections.PathCollection at 0x1c2b68fa50>"
      ]
     },
     "execution_count": 173,
     "metadata": {},
     "output_type": "execute_result"
    },
    {
     "data": {
      "text/plain": [
       "[<matplotlib.lines.Line2D at 0x1c1e1ee490>]"
      ]
     },
     "execution_count": 173,
     "metadata": {},
     "output_type": "execute_result"
    }
   ],
   "source": [
    "plt.scatter(model.predict(df_feats[x_cols]), model.resid)\n",
    "plt.plot(model.predict(df_feats[x_cols]), [0 for i in range(len(df_feats))])"
   ]
  },
  {
   "cell_type": "code",
   "execution_count": 174,
   "metadata": {
    "ExecuteTime": {
     "end_time": "2020-04-28T22:07:21.910079Z",
     "start_time": "2020-04-28T22:07:05.699605Z"
    },
    "scrolled": true
   },
   "outputs": [
    {
     "data": {
      "text/plain": [
       "[('grade_7', 86.78498522120823),\n",
       " ('sqft_living15', 3.210888488418228),\n",
       " ('sqft_living', 23.016517311781026),\n",
       " ('grade_6', 21.55868504532976),\n",
       " ('zipcode_98023', 1.2655115162110668),\n",
       " ('zipcode_98004', 1.216143216071013),\n",
       " ('grade_8', 56.23484952333962),\n",
       " ('grade_5', 3.4030894577343616),\n",
       " ('grade_9', 24.109533828675897),\n",
       " ('waterfront_1_0', 1.5518794091058816),\n",
       " ('zipcode_98003', 1.1474959183039652),\n",
       " ('zipcode_98092', 1.1916613047719953),\n",
       " ('zipcode_98038', 1.3290484346719755),\n",
       " ('zipcode_98002', 1.1196574947487616),\n",
       " ('zipcode_98032', 1.069170107530686),\n",
       " ('zipcode_98039', 1.052427518452627),\n",
       " ('bathrooms', 3.2238069068262343),\n",
       " ('zipcode_98033', 1.2400626901956693),\n",
       " ('zipcode_98040', 1.2213225543383506),\n",
       " ('zipcode_98112', 1.2118716678670949),\n",
       " ('zipcode_98115', 1.3798709031587486),\n",
       " ('zipcode_98117', 1.3781122996343032),\n",
       " ('zipcode_98103', 1.491839635137205),\n",
       " ('zipcode_98199', 1.2365972742914628),\n",
       " ('zipcode_98105', 1.171037158786296),\n",
       " ('zipcode_98119', 1.1490478943763824),\n",
       " ('zipcode_98107', 1.2196610016844058),\n",
       " ('zipcode_98116', 1.2327068046720753),\n",
       " ('zipcode_98109', 1.087680212065104),\n",
       " ('zipcode_98122', 1.2153717302488936),\n",
       " ('zipcode_98102', 1.0953248118405827),\n",
       " ('view_4_0', 1.6157097233121351),\n",
       " ('zipcode_98006', 1.33393983572464),\n",
       " ('zipcode_98052', 1.3326237681729023),\n",
       " ('zipcode_98136', 1.1846572916101221),\n",
       " ('zipcode_98144', 1.2546001332804682),\n",
       " ('sqft_lot', 6.990183027668154),\n",
       " ('zipcode_98008', 1.1633537090999615),\n",
       " ('zipcode_98005', 1.1134744794513858),\n",
       " ('grade_4', 1.2951658275291005),\n",
       " ('zipcode_98053', 1.2605912938537207),\n",
       " ('view_3_0', 1.1243395711762336),\n",
       " ('zipcode_98029', 1.214449588732566),\n",
       " ('zipcode_98126', 1.2502130564928755),\n",
       " ('zipcode_98125', 1.2416718603244983),\n",
       " ('zipcode_98034', 1.2918208048424982),\n",
       " ('zipcode_98177', 1.163013437596239),\n",
       " ('zipcode_98007', 1.0841962878008025),\n",
       " ('condition_5', 17.58425131261114),\n",
       " ('zipcode_98074', 1.282378629856607),\n",
       " ('zipcode_98075', 1.2685721654431725),\n",
       " ('grade_10', 10.859862959754649),\n",
       " ('zipcode_98027', 1.2415677684322686),\n",
       " ('view_2_0', 1.1448701895771256),\n",
       " ('sqft_above', 22.36608569815962),\n",
       " ('zipcode_98133', 1.2913384488461135),\n",
       " ('zipcode_98118', 1.3312086930360838),\n",
       " ('zipcode_98072', 1.162913999187738),\n",
       " ('zipcode_98155', 1.2419398142357236),\n",
       " ('condition_4', 55.94167817121906),\n",
       " ('condition_3', 135.8226351776887),\n",
       " ('view_1_0', 1.0670271246741618),\n",
       " ('zipcode_98011', 1.1090485234042242),\n",
       " ('zipcode_98065', 1.1990129632301045),\n",
       " ('zipcode_98028', 1.1514299241674328),\n",
       " ('zipcode_98077', 1.16310926513729),\n",
       " ('zipcode_98106', 1.2348944752094433),\n",
       " ('yr_renovated', 1.0522781988177887),\n",
       " ('zipcode_98108', 1.1194844281577878),\n",
       " ('zipcode_98059', 1.2642428531597758),\n",
       " ('zipcode_98056', 1.2283093084476124),\n",
       " ('zipcode_98024', 1.0668552984922783),\n",
       " ('grade_11', 4.414530088181633),\n",
       " ('floors_3_0', 1.4964982633033186),\n",
       " ('zipcode_98166', 1.1490820195064173),\n",
       " ('zipcode_98146', 1.1770181465339518),\n",
       " ('zipcode_98045', 1.1320778767337112),\n",
       " ('zipcode_98019', 1.1131230018477805),\n",
       " ('zipcode_98014', 1.0964043025931256),\n",
       " ('zipcode_98070', 1.1362740982071586),\n",
       " ('zipcode_98010', 1.0658569864160425),\n",
       " ('zipcode_98058', 1.2375232957753268),\n",
       " ('zipcode_98178', 1.1656426934464619),\n",
       " ('zipcode_98055', 1.144512772744304),\n",
       " ('sqft_basement', 5.717356572432143),\n",
       " ('sqft_lot15', 6.970978892925657),\n",
       " ('bedrooms_7', 1.024571831332657),\n",
       " ('zipcode_98148', 1.031076845288116),\n",
       " ('grade_13', 1.1308246430897348),\n",
       " ('bedrooms_2', 1.5790880519134147),\n",
       " ('condition_2', 2.655187897949987),\n",
       " ('floors_2_0', 3.903982542172565),\n",
       " ('bedrooms_6', 1.0774456474447205),\n",
       " ('zipcode_98188', 1.0755888055016647),\n",
       " ('zipcode_98168', 1.174265806142177),\n",
       " ('bedrooms_5', 1.2341145583408362),\n",
       " ('bedrooms_9', 1.0166701794074369)]"
      ]
     },
     "execution_count": 174,
     "metadata": {},
     "output_type": "execute_result"
    }
   ],
   "source": [
    "vif = [variance_inflation_factor(X.values, i) for i in range(X.shape[1])]\n",
    "list(zip(x_cols, vif))"
   ]
  },
  {
   "cell_type": "markdown",
   "metadata": {},
   "source": [
    "## Cross Validation"
   ]
  },
  {
   "cell_type": "code",
   "execution_count": 175,
   "metadata": {
    "ExecuteTime": {
     "end_time": "2020-04-28T22:07:22.726166Z",
     "start_time": "2020-04-28T22:07:21.912656Z"
    }
   },
   "outputs": [
    {
     "name": "stdout",
     "output_type": "stream",
     "text": [
      "Mean cross validation score for 10 fold is 0.88227\n",
      "Standard deviation of the score is 0.00346\n"
     ]
    }
   ],
   "source": [
    "linreg = LinearRegression()\n",
    "cvs_10=cross_val_score(linreg, X, y, cv=10)\n",
    "cvs_10_res_mean = round(np.mean(cvs_10),5)\n",
    "cv_10_res_std = round(np.std(cvs_10),5)\n",
    "print(f'Mean cross validation score for 10 fold is {cvs_10_res_mean}')\n",
    "print(f'Standard deviation of the score is {cv_10_res_std}')\n"
   ]
  },
  {
   "cell_type": "markdown",
   "metadata": {},
   "source": [
    "##  Location! Location! Location!"
   ]
  },
  {
   "cell_type": "code",
   "execution_count": 176,
   "metadata": {
    "ExecuteTime": {
     "end_time": "2020-04-28T22:07:22.816531Z",
     "start_time": "2020-04-28T22:07:22.729058Z"
    }
   },
   "outputs": [],
   "source": [
    "income_df=pd.read_csv('kc_house_data.csv')"
   ]
  },
  {
   "cell_type": "code",
   "execution_count": 177,
   "metadata": {
    "ExecuteTime": {
     "end_time": "2020-04-28T22:07:22.826082Z",
     "start_time": "2020-04-28T22:07:22.819402Z"
    }
   },
   "outputs": [
    {
     "ename": "SyntaxError",
     "evalue": "invalid syntax (<ipython-input-177-f0716acf6ba6>, line 2)",
     "output_type": "error",
     "traceback": [
      "\u001b[0;36m  File \u001b[0;32m\"<ipython-input-177-f0716acf6ba6>\"\u001b[0;36m, line \u001b[0;32m2\u001b[0m\n\u001b[0;31m    fdfdrerrerererreeeerereere4y444w444444rryyydyhdyddt7e9[djci9dxxxzxc8phc8ccp                    hchhdhcjcjjjcjcjcjcjcjc           V]\u001b[0m\n\u001b[0m                                                                                                                         ^\u001b[0m\n\u001b[0;31mSyntaxError\u001b[0m\u001b[0;31m:\u001b[0m invalid syntax\n"
     ]
    }
   ],
   "source": [
    "from uszipcode import SearchEngine, Zipcode\n",
    "fdfdrerrerererreeeerereere4y444w444444rryyydyhdyddt7e9[djci9dxxxzxc8phc8ccp                    hchhdhcjcjjjcjcjcjcjcjc           V]"
   ]
  },
  {
   "cell_type": "code",
   "execution_count": null,
   "metadata": {
    "ExecuteTime": {
     "end_time": "2020-04-28T22:07:22.831962Z",
     "start_time": "2020-04-28T21:59:01.912Z"
    }
   },
   "outputs": [],
   "source": [
    "search = SearchEngine(simple_zipcode=False)"
   ]
  },
  {
   "cell_type": "code",
   "execution_count": null,
   "metadata": {
    "ExecuteTime": {
     "end_time": "2020-04-28T22:07:22.834072Z",
     "start_time": "2020-04-28T21:59:01.914Z"
    }
   },
   "outputs": [],
   "source": [
    "def zco(x):\n",
    "    income = search.by_zipcode(x)\n",
    "    \n",
    "    return income.median_household_income if income else x\n",
    "   "
   ]
  },
  {
   "cell_type": "code",
   "execution_count": null,
   "metadata": {
    "ExecuteTime": {
     "end_time": "2020-04-28T22:07:22.836000Z",
     "start_time": "2020-04-28T21:59:01.916Z"
    }
   },
   "outputs": [],
   "source": [
    "income_df['income'] = income_df['zipcode'].astype(int).astype(str).apply(zco)"
   ]
  },
  {
   "cell_type": "code",
   "execution_count": null,
   "metadata": {
    "ExecuteTime": {
     "end_time": "2020-04-28T22:07:22.838423Z",
     "start_time": "2020-04-28T21:59:01.918Z"
    }
   },
   "outputs": [],
   "source": [
    "income_df.head()"
   ]
  },
  {
   "cell_type": "code",
   "execution_count": null,
   "metadata": {
    "ExecuteTime": {
     "end_time": "2020-04-28T22:07:22.840621Z",
     "start_time": "2020-04-28T21:59:01.920Z"
    }
   },
   "outputs": [],
   "source": [
    "# income_df=pd.read_csv('kc_house_data.csv')"
   ]
  },
  {
   "cell_type": "code",
   "execution_count": null,
   "metadata": {
    "ExecuteTime": {
     "end_time": "2020-04-28T22:07:22.842842Z",
     "start_time": "2020-04-28T21:59:01.922Z"
    },
    "scrolled": true
   },
   "outputs": [],
   "source": [
    "fig = plt.figure(figsize = (20,7))\n",
    "fig = sns.boxplot(x='zipcode', y='price', data=income_df, showfliers = False)\n",
    "plt.title('Prices of Houses Sold in King County by Zip Code')\n",
    "plt.xlabel(\"Zip Code\")\n",
    "plt.xticks(rotation=90)\n",
    "plt.ylabel('Sale Price, $')\n",
    "plt.show()\n"
   ]
  },
  {
   "cell_type": "markdown",
   "metadata": {},
   "source": [
    "https://www.zillow.com/bellevue-wa-98004/\n",
    "\n",
    "https://www.zillow.com/mercer-island-wa-98040/\n",
    "\n",
    "https://www.zillow.com/medina-wa-98039/\n",
    "\n",
    "https://www.zillow.com/seattle-wa-98112/"
   ]
  },
  {
   "cell_type": "code",
   "execution_count": null,
   "metadata": {
    "ExecuteTime": {
     "end_time": "2020-04-28T22:07:22.845196Z",
     "start_time": "2020-04-28T21:59:01.925Z"
    }
   },
   "outputs": [],
   "source": [
    "high_price_zipcodes=[98040,98004,98039,98112]\n",
    "for i in high_price_zipcodes:\n",
    "    zipcode = search.by_zipcode(i)\n",
    "    income=zipcode.median_household_income\n",
    "    print('Zip code:',i ,'-------   Median household income of all the houses in this zipcode:' ,income)"
   ]
  },
  {
   "cell_type": "code",
   "execution_count": null,
   "metadata": {},
   "outputs": [],
   "source": []
  },
  {
   "cell_type": "markdown",
   "metadata": {},
   "source": [
    "\n"
   ]
  }
 ],
 "metadata": {
  "kernelspec": {
   "display_name": "Python 3",
   "language": "python",
   "name": "python3"
  },
  "language_info": {
   "codemirror_mode": {
    "name": "ipython",
    "version": 3
   },
   "file_extension": ".py",
   "mimetype": "text/x-python",
   "name": "python",
   "nbconvert_exporter": "python",
   "pygments_lexer": "ipython3",
   "version": "3.7.4"
  },
  "varInspector": {
   "cols": {
    "lenName": 16,
    "lenType": 16,
    "lenVar": 40
   },
   "kernels_config": {
    "python": {
     "delete_cmd_postfix": "",
     "delete_cmd_prefix": "del ",
     "library": "var_list.py",
     "varRefreshCmd": "print(var_dic_list())"
    },
    "r": {
     "delete_cmd_postfix": ") ",
     "delete_cmd_prefix": "rm(",
     "library": "var_list.r",
     "varRefreshCmd": "cat(var_dic_list()) "
    }
   },
   "types_to_exclude": [
    "module",
    "function",
    "builtin_function_or_method",
    "instance",
    "_Feature"
   ],
   "window_display": true
  }
 },
 "nbformat": 4,
 "nbformat_minor": 2
}
