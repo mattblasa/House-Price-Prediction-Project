{
 "cells": [
  {
   "cell_type": "raw",
   "metadata": {},
   "source": [
    "### King County Housing Linear Regression Project\n",
    "\n",
    "\n",
    "* Student name: Seyma Tas\n",
    "* Student pace:  Full time\n",
    "* Scheduled project review date/time: 05-04-2020\n",
    "* Instructor name: Amber Yandow\n",
    "* Blog post URL:\n"
   ]
  },
  {
   "cell_type": "code",
   "execution_count": null,
   "metadata": {},
   "outputs": [],
   "source": []
  },
  {
   "cell_type": "code",
   "execution_count": null,
   "metadata": {},
   "outputs": [],
   "source": []
  },
  {
   "cell_type": "markdown",
   "metadata": {},
   "source": [
    "## OSEMN Approach\n",
    "1 - Obtaining the data 2 - Scrubbing the data 3 - Exploring the data 4 - Modeling the data 5 - iNterpreting the results\n",
    "\n",
    "\n",
    "![title](picture2.png)\n"
   ]
  },
  {
   "cell_type": "markdown",
   "metadata": {},
   "source": [
    "## Questions:\n",
    "\n",
    "1) What are the main factors to predict the price of a house?\n",
    "\n",
    "2) How much does a middle income family should invest to buy a standard house?\n",
    "   \n",
    "   or What are the properties of a house you can buy in King County if your budget is $400,000???\n",
    "    \n",
    "3) How can a middle income family increase the price of their house by %20 by spending %5 of the house cost???\n",
    "\n",
    "4) Basement\n",
    " "
   ]
  },
  {
   "cell_type": "code",
   "execution_count": 1,
   "metadata": {
    "ExecuteTime": {
     "end_time": "2020-04-21T23:35:00.100990Z",
     "start_time": "2020-04-21T23:35:00.086686Z"
    },
    "scrolled": true
   },
   "outputs": [
    {
     "data": {
      "application/javascript": [
       "IPython.notebook.set_autosave_interval(10000)"
      ]
     },
     "metadata": {},
     "output_type": "display_data"
    },
    {
     "name": "stdout",
     "output_type": "stream",
     "text": [
      "Autosaving every 10 seconds\n"
     ]
    }
   ],
   "source": [
    "%autosave 10"
   ]
  },
  {
   "cell_type": "code",
   "execution_count": 2,
   "metadata": {
    "ExecuteTime": {
     "end_time": "2020-04-21T23:35:00.106219Z",
     "start_time": "2020-04-21T23:35:00.103424Z"
    }
   },
   "outputs": [],
   "source": [
    "# # Print all the interactive output without resorting to print\n",
    "# from IPython.core.interactiveshell import InteractiveShell\n",
    "# InteractiveShell.ast_node_interactivity = \"all\""
   ]
  },
  {
   "cell_type": "markdown",
   "metadata": {},
   "source": [
    "## Import the necessary packages\n",
    "\n",
    "First, we’ll import all of our necessary packages."
   ]
  },
  {
   "cell_type": "code",
   "execution_count": 3,
   "metadata": {
    "ExecuteTime": {
     "end_time": "2020-04-21T23:35:01.170745Z",
     "start_time": "2020-04-21T23:35:00.109604Z"
    }
   },
   "outputs": [],
   "source": [
    "\n",
    "import pandas as pd\n",
    "import numpy as np\n",
    "import matplotlib.pyplot as plt\n",
    "%matplotlib inline\n",
    "import seaborn as sns\n",
    "from scipy import stats\n",
    "import statsmodels.api as sm\n",
    "# import sklearn as sk \n",
    "from statsmodels.formula.api import ols\n"
   ]
  },
  {
   "cell_type": "code",
   "execution_count": 4,
   "metadata": {
    "ExecuteTime": {
     "end_time": "2020-04-21T23:35:01.176551Z",
     "start_time": "2020-04-21T23:35:01.173491Z"
    }
   },
   "outputs": [],
   "source": [
    "# ## Display more information \n",
    "# pd.set_option('display.max_rows', None)\n",
    "# pd.set_option('display.max_columns', None)\n",
    "# pd.set_option('display.width', None)\n",
    "# pd.set_option('display.max_colwidth', -1)"
   ]
  },
  {
   "cell_type": "markdown",
   "metadata": {},
   "source": [
    "## Import the data set\n",
    "\n",
    "Next, we’ll import our data and see what we’re working with. "
   ]
  },
  {
   "cell_type": "code",
   "execution_count": null,
   "metadata": {},
   "outputs": [],
   "source": []
  },
  {
   "cell_type": "code",
   "execution_count": null,
   "metadata": {},
   "outputs": [],
   "source": []
  },
  {
   "cell_type": "code",
   "execution_count": 5,
   "metadata": {
    "ExecuteTime": {
     "end_time": "2020-04-21T23:35:01.236800Z",
     "start_time": "2020-04-21T23:35:01.178883Z"
    }
   },
   "outputs": [],
   "source": [
    "df=pd.read_csv('kc_house_data.csv')"
   ]
  },
  {
   "cell_type": "markdown",
   "metadata": {},
   "source": [
    "Lets see what the data looks like by functions head(), tail(), shape(), info() and describe()."
   ]
  },
  {
   "cell_type": "code",
   "execution_count": 6,
   "metadata": {
    "ExecuteTime": {
     "end_time": "2020-04-21T23:35:01.272442Z",
     "start_time": "2020-04-21T23:35:01.239051Z"
    }
   },
   "outputs": [
    {
     "data": {
      "text/html": [
       "<div>\n",
       "<style scoped>\n",
       "    .dataframe tbody tr th:only-of-type {\n",
       "        vertical-align: middle;\n",
       "    }\n",
       "\n",
       "    .dataframe tbody tr th {\n",
       "        vertical-align: top;\n",
       "    }\n",
       "\n",
       "    .dataframe thead th {\n",
       "        text-align: right;\n",
       "    }\n",
       "</style>\n",
       "<table border=\"1\" class=\"dataframe\">\n",
       "  <thead>\n",
       "    <tr style=\"text-align: right;\">\n",
       "      <th></th>\n",
       "      <th>id</th>\n",
       "      <th>date</th>\n",
       "      <th>price</th>\n",
       "      <th>bedrooms</th>\n",
       "      <th>bathrooms</th>\n",
       "      <th>sqft_living</th>\n",
       "      <th>sqft_lot</th>\n",
       "      <th>floors</th>\n",
       "      <th>waterfront</th>\n",
       "      <th>view</th>\n",
       "      <th>...</th>\n",
       "      <th>grade</th>\n",
       "      <th>sqft_above</th>\n",
       "      <th>sqft_basement</th>\n",
       "      <th>yr_built</th>\n",
       "      <th>yr_renovated</th>\n",
       "      <th>zipcode</th>\n",
       "      <th>lat</th>\n",
       "      <th>long</th>\n",
       "      <th>sqft_living15</th>\n",
       "      <th>sqft_lot15</th>\n",
       "    </tr>\n",
       "  </thead>\n",
       "  <tbody>\n",
       "    <tr>\n",
       "      <td>0</td>\n",
       "      <td>7129300520</td>\n",
       "      <td>10/13/2014</td>\n",
       "      <td>221900.0</td>\n",
       "      <td>3</td>\n",
       "      <td>1.00</td>\n",
       "      <td>1180</td>\n",
       "      <td>5650</td>\n",
       "      <td>1.0</td>\n",
       "      <td>NaN</td>\n",
       "      <td>0.0</td>\n",
       "      <td>...</td>\n",
       "      <td>7</td>\n",
       "      <td>1180</td>\n",
       "      <td>0.0</td>\n",
       "      <td>1955</td>\n",
       "      <td>0.0</td>\n",
       "      <td>98178</td>\n",
       "      <td>47.5112</td>\n",
       "      <td>-122.257</td>\n",
       "      <td>1340</td>\n",
       "      <td>5650</td>\n",
       "    </tr>\n",
       "    <tr>\n",
       "      <td>1</td>\n",
       "      <td>6414100192</td>\n",
       "      <td>12/9/2014</td>\n",
       "      <td>538000.0</td>\n",
       "      <td>3</td>\n",
       "      <td>2.25</td>\n",
       "      <td>2570</td>\n",
       "      <td>7242</td>\n",
       "      <td>2.0</td>\n",
       "      <td>0.0</td>\n",
       "      <td>0.0</td>\n",
       "      <td>...</td>\n",
       "      <td>7</td>\n",
       "      <td>2170</td>\n",
       "      <td>400.0</td>\n",
       "      <td>1951</td>\n",
       "      <td>1991.0</td>\n",
       "      <td>98125</td>\n",
       "      <td>47.7210</td>\n",
       "      <td>-122.319</td>\n",
       "      <td>1690</td>\n",
       "      <td>7639</td>\n",
       "    </tr>\n",
       "    <tr>\n",
       "      <td>2</td>\n",
       "      <td>5631500400</td>\n",
       "      <td>2/25/2015</td>\n",
       "      <td>180000.0</td>\n",
       "      <td>2</td>\n",
       "      <td>1.00</td>\n",
       "      <td>770</td>\n",
       "      <td>10000</td>\n",
       "      <td>1.0</td>\n",
       "      <td>0.0</td>\n",
       "      <td>0.0</td>\n",
       "      <td>...</td>\n",
       "      <td>6</td>\n",
       "      <td>770</td>\n",
       "      <td>0.0</td>\n",
       "      <td>1933</td>\n",
       "      <td>NaN</td>\n",
       "      <td>98028</td>\n",
       "      <td>47.7379</td>\n",
       "      <td>-122.233</td>\n",
       "      <td>2720</td>\n",
       "      <td>8062</td>\n",
       "    </tr>\n",
       "    <tr>\n",
       "      <td>3</td>\n",
       "      <td>2487200875</td>\n",
       "      <td>12/9/2014</td>\n",
       "      <td>604000.0</td>\n",
       "      <td>4</td>\n",
       "      <td>3.00</td>\n",
       "      <td>1960</td>\n",
       "      <td>5000</td>\n",
       "      <td>1.0</td>\n",
       "      <td>0.0</td>\n",
       "      <td>0.0</td>\n",
       "      <td>...</td>\n",
       "      <td>7</td>\n",
       "      <td>1050</td>\n",
       "      <td>910.0</td>\n",
       "      <td>1965</td>\n",
       "      <td>0.0</td>\n",
       "      <td>98136</td>\n",
       "      <td>47.5208</td>\n",
       "      <td>-122.393</td>\n",
       "      <td>1360</td>\n",
       "      <td>5000</td>\n",
       "    </tr>\n",
       "    <tr>\n",
       "      <td>4</td>\n",
       "      <td>1954400510</td>\n",
       "      <td>2/18/2015</td>\n",
       "      <td>510000.0</td>\n",
       "      <td>3</td>\n",
       "      <td>2.00</td>\n",
       "      <td>1680</td>\n",
       "      <td>8080</td>\n",
       "      <td>1.0</td>\n",
       "      <td>0.0</td>\n",
       "      <td>0.0</td>\n",
       "      <td>...</td>\n",
       "      <td>8</td>\n",
       "      <td>1680</td>\n",
       "      <td>0.0</td>\n",
       "      <td>1987</td>\n",
       "      <td>0.0</td>\n",
       "      <td>98074</td>\n",
       "      <td>47.6168</td>\n",
       "      <td>-122.045</td>\n",
       "      <td>1800</td>\n",
       "      <td>7503</td>\n",
       "    </tr>\n",
       "  </tbody>\n",
       "</table>\n",
       "<p>5 rows × 21 columns</p>\n",
       "</div>"
      ],
      "text/plain": [
       "           id        date     price  bedrooms  bathrooms  sqft_living  \\\n",
       "0  7129300520  10/13/2014  221900.0         3       1.00         1180   \n",
       "1  6414100192   12/9/2014  538000.0         3       2.25         2570   \n",
       "2  5631500400   2/25/2015  180000.0         2       1.00          770   \n",
       "3  2487200875   12/9/2014  604000.0         4       3.00         1960   \n",
       "4  1954400510   2/18/2015  510000.0         3       2.00         1680   \n",
       "\n",
       "   sqft_lot  floors  waterfront  view  ...  grade  sqft_above  sqft_basement  \\\n",
       "0      5650     1.0         NaN   0.0  ...      7        1180            0.0   \n",
       "1      7242     2.0         0.0   0.0  ...      7        2170          400.0   \n",
       "2     10000     1.0         0.0   0.0  ...      6         770            0.0   \n",
       "3      5000     1.0         0.0   0.0  ...      7        1050          910.0   \n",
       "4      8080     1.0         0.0   0.0  ...      8        1680            0.0   \n",
       "\n",
       "  yr_built  yr_renovated  zipcode      lat     long  sqft_living15  sqft_lot15  \n",
       "0     1955           0.0    98178  47.5112 -122.257           1340        5650  \n",
       "1     1951        1991.0    98125  47.7210 -122.319           1690        7639  \n",
       "2     1933           NaN    98028  47.7379 -122.233           2720        8062  \n",
       "3     1965           0.0    98136  47.5208 -122.393           1360        5000  \n",
       "4     1987           0.0    98074  47.6168 -122.045           1800        7503  \n",
       "\n",
       "[5 rows x 21 columns]"
      ]
     },
     "execution_count": 6,
     "metadata": {},
     "output_type": "execute_result"
    }
   ],
   "source": [
    "df.head()"
   ]
  },
  {
   "cell_type": "markdown",
   "metadata": {},
   "source": [
    "### Drop unnecaessary columns"
   ]
  },
  {
   "cell_type": "code",
   "execution_count": 7,
   "metadata": {
    "ExecuteTime": {
     "end_time": "2020-04-21T23:35:01.281761Z",
     "start_time": "2020-04-21T23:35:01.274983Z"
    }
   },
   "outputs": [],
   "source": [
    "df=df.drop(['id','date'],axis=1)"
   ]
  },
  {
   "cell_type": "markdown",
   "metadata": {},
   "source": [
    "# Scraping and cleaning data"
   ]
  },
  {
   "cell_type": "code",
   "execution_count": 8,
   "metadata": {
    "ExecuteTime": {
     "end_time": "2020-04-21T23:35:01.286999Z",
     "start_time": "2020-04-21T23:35:01.283397Z"
    }
   },
   "outputs": [
    {
     "data": {
      "text/plain": [
       "(21597, 19)"
      ]
     },
     "execution_count": 8,
     "metadata": {},
     "output_type": "execute_result"
    }
   ],
   "source": [
    "df.shape"
   ]
  },
  {
   "cell_type": "code",
   "execution_count": 9,
   "metadata": {
    "ExecuteTime": {
     "end_time": "2020-04-21T23:35:01.298987Z",
     "start_time": "2020-04-21T23:35:01.289233Z"
    },
    "scrolled": true
   },
   "outputs": [
    {
     "name": "stdout",
     "output_type": "stream",
     "text": [
      "<class 'pandas.core.frame.DataFrame'>\n",
      "RangeIndex: 21597 entries, 0 to 21596\n",
      "Data columns (total 19 columns):\n",
      "price            21597 non-null float64\n",
      "bedrooms         21597 non-null int64\n",
      "bathrooms        21597 non-null float64\n",
      "sqft_living      21597 non-null int64\n",
      "sqft_lot         21597 non-null int64\n",
      "floors           21597 non-null float64\n",
      "waterfront       19221 non-null float64\n",
      "view             21534 non-null float64\n",
      "condition        21597 non-null int64\n",
      "grade            21597 non-null int64\n",
      "sqft_above       21597 non-null int64\n",
      "sqft_basement    21597 non-null object\n",
      "yr_built         21597 non-null int64\n",
      "yr_renovated     17755 non-null float64\n",
      "zipcode          21597 non-null int64\n",
      "lat              21597 non-null float64\n",
      "long             21597 non-null float64\n",
      "sqft_living15    21597 non-null int64\n",
      "sqft_lot15       21597 non-null int64\n",
      "dtypes: float64(8), int64(10), object(1)\n",
      "memory usage: 3.1+ MB\n"
     ]
    }
   ],
   "source": [
    "df.info()"
   ]
  },
  {
   "cell_type": "markdown",
   "metadata": {},
   "source": [
    "### Numerical Data Stored as Strings"
   ]
  },
  {
   "cell_type": "code",
   "execution_count": 10,
   "metadata": {
    "ExecuteTime": {
     "end_time": "2020-04-21T23:35:01.309127Z",
     "start_time": "2020-04-21T23:35:01.300744Z"
    }
   },
   "outputs": [
    {
     "data": {
      "text/plain": [
       "0.0       12826\n",
       "?           454\n",
       "600.0       217\n",
       "500.0       209\n",
       "700.0       208\n",
       "          ...  \n",
       "2360.0        1\n",
       "2350.0        1\n",
       "588.0         1\n",
       "1245.0        1\n",
       "666.0         1\n",
       "Name: sqft_basement, Length: 304, dtype: int64"
      ]
     },
     "execution_count": 10,
     "metadata": {},
     "output_type": "execute_result"
    }
   ],
   "source": [
    "df.sqft_basement.value_counts()"
   ]
  },
  {
   "cell_type": "code",
   "execution_count": 11,
   "metadata": {
    "ExecuteTime": {
     "end_time": "2020-04-21T23:35:01.325102Z",
     "start_time": "2020-04-21T23:35:01.310766Z"
    },
    "scrolled": true
   },
   "outputs": [],
   "source": [
    "df['sqft_basement']=df['sqft_basement'].map(lambda x:float(x.replace('?', '0')))\n"
   ]
  },
  {
   "cell_type": "code",
   "execution_count": null,
   "metadata": {},
   "outputs": [],
   "source": []
  },
  {
   "cell_type": "code",
   "execution_count": null,
   "metadata": {},
   "outputs": [],
   "source": []
  },
  {
   "cell_type": "code",
   "execution_count": 12,
   "metadata": {
    "ExecuteTime": {
     "end_time": "2020-04-21T23:36:16.399665Z",
     "start_time": "2020-04-21T23:35:01.326829Z"
    }
   },
   "outputs": [],
   "source": [
    "#Replace 0 with difference between sqft_above and sqft_living\n",
    "df['sqft_basement'].replace(to_replace='0', value = abs(df['sqft_living']-df['sqft_above']), inplace=True)\n"
   ]
  },
  {
   "cell_type": "code",
   "execution_count": 13,
   "metadata": {
    "ExecuteTime": {
     "end_time": "2020-04-21T23:36:16.412611Z",
     "start_time": "2020-04-21T23:36:16.401488Z"
    }
   },
   "outputs": [],
   "source": [
    "df['bedrooms'].replace(to_replace='33', value = 3, inplace=True)\n"
   ]
  },
  {
   "cell_type": "code",
   "execution_count": 14,
   "metadata": {
    "ExecuteTime": {
     "end_time": "2020-04-21T23:36:16.516521Z",
     "start_time": "2020-04-21T23:36:16.419053Z"
    },
    "scrolled": true
   },
   "outputs": [
    {
     "data": {
      "text/html": [
       "<div>\n",
       "<style scoped>\n",
       "    .dataframe tbody tr th:only-of-type {\n",
       "        vertical-align: middle;\n",
       "    }\n",
       "\n",
       "    .dataframe tbody tr th {\n",
       "        vertical-align: top;\n",
       "    }\n",
       "\n",
       "    .dataframe thead th {\n",
       "        text-align: right;\n",
       "    }\n",
       "</style>\n",
       "<table border=\"1\" class=\"dataframe\">\n",
       "  <thead>\n",
       "    <tr style=\"text-align: right;\">\n",
       "      <th></th>\n",
       "      <th>price</th>\n",
       "      <th>bedrooms</th>\n",
       "      <th>bathrooms</th>\n",
       "      <th>sqft_living</th>\n",
       "      <th>sqft_lot</th>\n",
       "      <th>floors</th>\n",
       "      <th>waterfront</th>\n",
       "      <th>view</th>\n",
       "      <th>condition</th>\n",
       "      <th>grade</th>\n",
       "      <th>sqft_above</th>\n",
       "      <th>sqft_basement</th>\n",
       "      <th>yr_built</th>\n",
       "      <th>yr_renovated</th>\n",
       "      <th>zipcode</th>\n",
       "      <th>lat</th>\n",
       "      <th>long</th>\n",
       "      <th>sqft_living15</th>\n",
       "      <th>sqft_lot15</th>\n",
       "    </tr>\n",
       "  </thead>\n",
       "  <tbody>\n",
       "    <tr>\n",
       "      <td>count</td>\n",
       "      <td>21597.0</td>\n",
       "      <td>21597.0</td>\n",
       "      <td>21597.0</td>\n",
       "      <td>21597.0</td>\n",
       "      <td>21597.0</td>\n",
       "      <td>21597.0</td>\n",
       "      <td>19221.0</td>\n",
       "      <td>21534.0</td>\n",
       "      <td>21597.0</td>\n",
       "      <td>21597.0</td>\n",
       "      <td>21597.0</td>\n",
       "      <td>21597.0</td>\n",
       "      <td>21597.0</td>\n",
       "      <td>17755.0</td>\n",
       "      <td>21597.0</td>\n",
       "      <td>21597.0</td>\n",
       "      <td>21597.0</td>\n",
       "      <td>21597.0</td>\n",
       "      <td>21597.0</td>\n",
       "    </tr>\n",
       "    <tr>\n",
       "      <td>mean</td>\n",
       "      <td>540296.6</td>\n",
       "      <td>3.4</td>\n",
       "      <td>2.1</td>\n",
       "      <td>2080.3</td>\n",
       "      <td>15099.4</td>\n",
       "      <td>1.5</td>\n",
       "      <td>0.0</td>\n",
       "      <td>0.2</td>\n",
       "      <td>3.4</td>\n",
       "      <td>7.7</td>\n",
       "      <td>1788.6</td>\n",
       "      <td>285.7</td>\n",
       "      <td>1971.0</td>\n",
       "      <td>83.6</td>\n",
       "      <td>98078.0</td>\n",
       "      <td>47.6</td>\n",
       "      <td>-122.2</td>\n",
       "      <td>1986.6</td>\n",
       "      <td>12758.3</td>\n",
       "    </tr>\n",
       "    <tr>\n",
       "      <td>std</td>\n",
       "      <td>367368.1</td>\n",
       "      <td>0.9</td>\n",
       "      <td>0.8</td>\n",
       "      <td>918.1</td>\n",
       "      <td>41412.6</td>\n",
       "      <td>0.5</td>\n",
       "      <td>0.1</td>\n",
       "      <td>0.8</td>\n",
       "      <td>0.7</td>\n",
       "      <td>1.2</td>\n",
       "      <td>827.8</td>\n",
       "      <td>439.8</td>\n",
       "      <td>29.4</td>\n",
       "      <td>399.9</td>\n",
       "      <td>53.5</td>\n",
       "      <td>0.1</td>\n",
       "      <td>0.1</td>\n",
       "      <td>685.2</td>\n",
       "      <td>27274.4</td>\n",
       "    </tr>\n",
       "    <tr>\n",
       "      <td>min</td>\n",
       "      <td>78000.0</td>\n",
       "      <td>1.0</td>\n",
       "      <td>0.5</td>\n",
       "      <td>370.0</td>\n",
       "      <td>520.0</td>\n",
       "      <td>1.0</td>\n",
       "      <td>0.0</td>\n",
       "      <td>0.0</td>\n",
       "      <td>1.0</td>\n",
       "      <td>3.0</td>\n",
       "      <td>370.0</td>\n",
       "      <td>0.0</td>\n",
       "      <td>1900.0</td>\n",
       "      <td>0.0</td>\n",
       "      <td>98001.0</td>\n",
       "      <td>47.2</td>\n",
       "      <td>-122.5</td>\n",
       "      <td>399.0</td>\n",
       "      <td>651.0</td>\n",
       "    </tr>\n",
       "    <tr>\n",
       "      <td>25%</td>\n",
       "      <td>322000.0</td>\n",
       "      <td>3.0</td>\n",
       "      <td>1.8</td>\n",
       "      <td>1430.0</td>\n",
       "      <td>5040.0</td>\n",
       "      <td>1.0</td>\n",
       "      <td>0.0</td>\n",
       "      <td>0.0</td>\n",
       "      <td>3.0</td>\n",
       "      <td>7.0</td>\n",
       "      <td>1190.0</td>\n",
       "      <td>0.0</td>\n",
       "      <td>1951.0</td>\n",
       "      <td>0.0</td>\n",
       "      <td>98033.0</td>\n",
       "      <td>47.5</td>\n",
       "      <td>-122.3</td>\n",
       "      <td>1490.0</td>\n",
       "      <td>5100.0</td>\n",
       "    </tr>\n",
       "    <tr>\n",
       "      <td>50%</td>\n",
       "      <td>450000.0</td>\n",
       "      <td>3.0</td>\n",
       "      <td>2.2</td>\n",
       "      <td>1910.0</td>\n",
       "      <td>7618.0</td>\n",
       "      <td>1.5</td>\n",
       "      <td>0.0</td>\n",
       "      <td>0.0</td>\n",
       "      <td>3.0</td>\n",
       "      <td>7.0</td>\n",
       "      <td>1560.0</td>\n",
       "      <td>0.0</td>\n",
       "      <td>1975.0</td>\n",
       "      <td>0.0</td>\n",
       "      <td>98065.0</td>\n",
       "      <td>47.6</td>\n",
       "      <td>-122.2</td>\n",
       "      <td>1840.0</td>\n",
       "      <td>7620.0</td>\n",
       "    </tr>\n",
       "    <tr>\n",
       "      <td>75%</td>\n",
       "      <td>645000.0</td>\n",
       "      <td>4.0</td>\n",
       "      <td>2.5</td>\n",
       "      <td>2550.0</td>\n",
       "      <td>10685.0</td>\n",
       "      <td>2.0</td>\n",
       "      <td>0.0</td>\n",
       "      <td>0.0</td>\n",
       "      <td>4.0</td>\n",
       "      <td>8.0</td>\n",
       "      <td>2210.0</td>\n",
       "      <td>550.0</td>\n",
       "      <td>1997.0</td>\n",
       "      <td>0.0</td>\n",
       "      <td>98118.0</td>\n",
       "      <td>47.7</td>\n",
       "      <td>-122.1</td>\n",
       "      <td>2360.0</td>\n",
       "      <td>10083.0</td>\n",
       "    </tr>\n",
       "    <tr>\n",
       "      <td>max</td>\n",
       "      <td>7700000.0</td>\n",
       "      <td>33.0</td>\n",
       "      <td>8.0</td>\n",
       "      <td>13540.0</td>\n",
       "      <td>1651359.0</td>\n",
       "      <td>3.5</td>\n",
       "      <td>1.0</td>\n",
       "      <td>4.0</td>\n",
       "      <td>5.0</td>\n",
       "      <td>13.0</td>\n",
       "      <td>9410.0</td>\n",
       "      <td>4820.0</td>\n",
       "      <td>2015.0</td>\n",
       "      <td>2015.0</td>\n",
       "      <td>98199.0</td>\n",
       "      <td>47.8</td>\n",
       "      <td>-121.3</td>\n",
       "      <td>6210.0</td>\n",
       "      <td>871200.0</td>\n",
       "    </tr>\n",
       "  </tbody>\n",
       "</table>\n",
       "</div>"
      ],
      "text/plain": [
       "           price  bedrooms  bathrooms  sqft_living   sqft_lot   floors  \\\n",
       "count    21597.0   21597.0    21597.0      21597.0    21597.0  21597.0   \n",
       "mean    540296.6       3.4        2.1       2080.3    15099.4      1.5   \n",
       "std     367368.1       0.9        0.8        918.1    41412.6      0.5   \n",
       "min      78000.0       1.0        0.5        370.0      520.0      1.0   \n",
       "25%     322000.0       3.0        1.8       1430.0     5040.0      1.0   \n",
       "50%     450000.0       3.0        2.2       1910.0     7618.0      1.5   \n",
       "75%     645000.0       4.0        2.5       2550.0    10685.0      2.0   \n",
       "max    7700000.0      33.0        8.0      13540.0  1651359.0      3.5   \n",
       "\n",
       "       waterfront     view  condition    grade  sqft_above  sqft_basement  \\\n",
       "count     19221.0  21534.0    21597.0  21597.0     21597.0        21597.0   \n",
       "mean          0.0      0.2        3.4      7.7      1788.6          285.7   \n",
       "std           0.1      0.8        0.7      1.2       827.8          439.8   \n",
       "min           0.0      0.0        1.0      3.0       370.0            0.0   \n",
       "25%           0.0      0.0        3.0      7.0      1190.0            0.0   \n",
       "50%           0.0      0.0        3.0      7.0      1560.0            0.0   \n",
       "75%           0.0      0.0        4.0      8.0      2210.0          550.0   \n",
       "max           1.0      4.0        5.0     13.0      9410.0         4820.0   \n",
       "\n",
       "       yr_built  yr_renovated  zipcode      lat     long  sqft_living15  \\\n",
       "count   21597.0       17755.0  21597.0  21597.0  21597.0        21597.0   \n",
       "mean     1971.0          83.6  98078.0     47.6   -122.2         1986.6   \n",
       "std        29.4         399.9     53.5      0.1      0.1          685.2   \n",
       "min      1900.0           0.0  98001.0     47.2   -122.5          399.0   \n",
       "25%      1951.0           0.0  98033.0     47.5   -122.3         1490.0   \n",
       "50%      1975.0           0.0  98065.0     47.6   -122.2         1840.0   \n",
       "75%      1997.0           0.0  98118.0     47.7   -122.1         2360.0   \n",
       "max      2015.0        2015.0  98199.0     47.8   -121.3         6210.0   \n",
       "\n",
       "       sqft_lot15  \n",
       "count     21597.0  \n",
       "mean      12758.3  \n",
       "std       27274.4  \n",
       "min         651.0  \n",
       "25%        5100.0  \n",
       "50%        7620.0  \n",
       "75%       10083.0  \n",
       "max      871200.0  "
      ]
     },
     "execution_count": 14,
     "metadata": {},
     "output_type": "execute_result"
    }
   ],
   "source": [
    "df.describe().round(1)"
   ]
  },
  {
   "cell_type": "markdown",
   "metadata": {},
   "source": [
    "### Buraya describe ile ilgili yorum yaz\n",
    "Most houses were build around 1975; sold for $450K; had square footage of living spaces around 1910. You can also note, that distributions of price and variables such as sqft_lot are skewed to the upper tail.\n",
    "\n"
   ]
  },
  {
   "cell_type": "markdown",
   "metadata": {},
   "source": [
    "## Detecting and Dealing With Null Values"
   ]
  },
  {
   "cell_type": "code",
   "execution_count": 15,
   "metadata": {
    "ExecuteTime": {
     "end_time": "2020-04-21T23:36:16.528495Z",
     "start_time": "2020-04-21T23:36:16.520832Z"
    },
    "scrolled": true
   },
   "outputs": [
    {
     "name": "stdout",
     "output_type": "stream",
     "text": [
      "price               0\n",
      "bedrooms            0\n",
      "bathrooms           0\n",
      "sqft_living         0\n",
      "sqft_lot            0\n",
      "floors              0\n",
      "waterfront       2376\n",
      "view               63\n",
      "condition           0\n",
      "grade               0\n",
      "sqft_above          0\n",
      "sqft_basement       0\n",
      "yr_built            0\n",
      "yr_renovated     3842\n",
      "zipcode             0\n",
      "lat                 0\n",
      "long                0\n",
      "sqft_living15       0\n",
      "sqft_lot15          0\n",
      "dtype: int64\n"
     ]
    }
   ],
   "source": [
    "print(df.isna().sum())"
   ]
  },
  {
   "cell_type": "code",
   "execution_count": null,
   "metadata": {},
   "outputs": [],
   "source": []
  },
  {
   "cell_type": "code",
   "execution_count": null,
   "metadata": {},
   "outputs": [],
   "source": []
  },
  {
   "cell_type": "markdown",
   "metadata": {},
   "source": [
    "### Buraya na values  ile ilgili yorum yaz\n"
   ]
  },
  {
   "cell_type": "code",
   "execution_count": null,
   "metadata": {},
   "outputs": [],
   "source": []
  },
  {
   "cell_type": "markdown",
   "metadata": {},
   "source": [
    "# waterfront ve view "
   ]
  },
  {
   "cell_type": "code",
   "execution_count": null,
   "metadata": {},
   "outputs": [],
   "source": []
  },
  {
   "cell_type": "code",
   "execution_count": 16,
   "metadata": {
    "ExecuteTime": {
     "end_time": "2020-04-21T23:36:16.538038Z",
     "start_time": "2020-04-21T23:36:16.530922Z"
    },
    "scrolled": true
   },
   "outputs": [
    {
     "data": {
      "text/plain": [
       "0.0    19422\n",
       "2.0      957\n",
       "3.0      508\n",
       "1.0      330\n",
       "4.0      317\n",
       "Name: view, dtype: int64"
      ]
     },
     "execution_count": 16,
     "metadata": {},
     "output_type": "execute_result"
    }
   ],
   "source": [
    "df['view'].value_counts()"
   ]
  },
  {
   "cell_type": "code",
   "execution_count": 17,
   "metadata": {
    "ExecuteTime": {
     "end_time": "2020-04-21T23:36:16.544279Z",
     "start_time": "2020-04-21T23:36:16.539656Z"
    }
   },
   "outputs": [
    {
     "data": {
      "text/plain": [
       "63"
      ]
     },
     "execution_count": 17,
     "metadata": {},
     "output_type": "execute_result"
    }
   ],
   "source": [
    "df['view'].isna().sum()"
   ]
  },
  {
   "cell_type": "code",
   "execution_count": 18,
   "metadata": {
    "ExecuteTime": {
     "end_time": "2020-04-21T23:36:16.555905Z",
     "start_time": "2020-04-21T23:36:16.546382Z"
    }
   },
   "outputs": [
    {
     "data": {
      "text/html": [
       "<div>\n",
       "<style scoped>\n",
       "    .dataframe tbody tr th:only-of-type {\n",
       "        vertical-align: middle;\n",
       "    }\n",
       "\n",
       "    .dataframe tbody tr th {\n",
       "        vertical-align: top;\n",
       "    }\n",
       "\n",
       "    .dataframe thead th {\n",
       "        text-align: right;\n",
       "    }\n",
       "</style>\n",
       "<table border=\"1\" class=\"dataframe\">\n",
       "  <thead>\n",
       "    <tr style=\"text-align: right;\">\n",
       "      <th></th>\n",
       "      <th>view</th>\n",
       "      <th>waterfront</th>\n",
       "    </tr>\n",
       "  </thead>\n",
       "  <tbody>\n",
       "    <tr>\n",
       "      <td>view</td>\n",
       "      <td>1.000000</td>\n",
       "      <td>0.406654</td>\n",
       "    </tr>\n",
       "    <tr>\n",
       "      <td>waterfront</td>\n",
       "      <td>0.406654</td>\n",
       "      <td>1.000000</td>\n",
       "    </tr>\n",
       "  </tbody>\n",
       "</table>\n",
       "</div>"
      ],
      "text/plain": [
       "                view  waterfront\n",
       "view        1.000000    0.406654\n",
       "waterfront  0.406654    1.000000"
      ]
     },
     "execution_count": 18,
     "metadata": {},
     "output_type": "execute_result"
    }
   ],
   "source": [
    "feats = ['view', 'waterfront']\n",
    "df[feats].corr()"
   ]
  },
  {
   "cell_type": "code",
   "execution_count": 19,
   "metadata": {
    "ExecuteTime": {
     "end_time": "2020-04-21T23:36:16.566973Z",
     "start_time": "2020-04-21T23:36:16.561260Z"
    }
   },
   "outputs": [
    {
     "name": "stdout",
     "output_type": "stream",
     "text": [
      "Number missing both: 6\n"
     ]
    }
   ],
   "source": [
    "print('Number missing both:',\n",
    "      len(df[(df.view.isnull())\n",
    "      & (df.waterfront.isnull())]))"
   ]
  },
  {
   "cell_type": "code",
   "execution_count": 20,
   "metadata": {
    "ExecuteTime": {
     "end_time": "2020-04-21T23:36:16.583334Z",
     "start_time": "2020-04-21T23:36:16.568518Z"
    }
   },
   "outputs": [
    {
     "data": {
      "text/plain": [
       "121"
      ]
     },
     "execution_count": 20,
     "metadata": {},
     "output_type": "execute_result"
    }
   ],
   "source": [
    "len(df[(df.view==2)&(df.waterfront.isna())])"
   ]
  },
  {
   "cell_type": "code",
   "execution_count": 21,
   "metadata": {
    "ExecuteTime": {
     "end_time": "2020-04-21T23:36:16.593806Z",
     "start_time": "2020-04-21T23:36:16.585948Z"
    }
   },
   "outputs": [
    {
     "data": {
      "text/plain": [
       "14"
      ]
     },
     "execution_count": 21,
     "metadata": {},
     "output_type": "execute_result"
    }
   ],
   "source": [
    "len(df[(df.view==3)&(df.waterfront>0)])"
   ]
  },
  {
   "cell_type": "code",
   "execution_count": 22,
   "metadata": {
    "ExecuteTime": {
     "end_time": "2020-04-21T23:36:16.603972Z",
     "start_time": "2020-04-21T23:36:16.596228Z"
    }
   },
   "outputs": [],
   "source": [
    "df['view'].fillna(0,inplace=True)"
   ]
  },
  {
   "cell_type": "code",
   "execution_count": 23,
   "metadata": {
    "ExecuteTime": {
     "end_time": "2020-04-21T23:36:16.617442Z",
     "start_time": "2020-04-21T23:36:16.606256Z"
    }
   },
   "outputs": [
    {
     "data": {
      "text/plain": [
       "0.0    19075\n",
       "1.0      146\n",
       "Name: waterfront, dtype: int64"
      ]
     },
     "execution_count": 23,
     "metadata": {},
     "output_type": "execute_result"
    }
   ],
   "source": [
    "df['waterfront'].value_counts()"
   ]
  },
  {
   "cell_type": "code",
   "execution_count": 24,
   "metadata": {
    "ExecuteTime": {
     "end_time": "2020-04-21T23:36:16.626903Z",
     "start_time": "2020-04-21T23:36:16.620072Z"
    },
    "scrolled": true
   },
   "outputs": [
    {
     "data": {
      "text/plain": [
       "2376"
      ]
     },
     "execution_count": 24,
     "metadata": {},
     "output_type": "execute_result"
    }
   ],
   "source": [
    "df['waterfront'].isna().sum()"
   ]
  },
  {
   "cell_type": "code",
   "execution_count": 25,
   "metadata": {
    "ExecuteTime": {
     "end_time": "2020-04-21T23:36:16.633425Z",
     "start_time": "2020-04-21T23:36:16.629294Z"
    }
   },
   "outputs": [],
   "source": [
    "df['waterfront'].fillna(0,inplace=True)"
   ]
  },
  {
   "cell_type": "code",
   "execution_count": 26,
   "metadata": {
    "ExecuteTime": {
     "end_time": "2020-04-21T23:36:16.647102Z",
     "start_time": "2020-04-21T23:36:16.635229Z"
    },
    "scrolled": true
   },
   "outputs": [
    {
     "data": {
      "text/html": [
       "<div>\n",
       "<style scoped>\n",
       "    .dataframe tbody tr th:only-of-type {\n",
       "        vertical-align: middle;\n",
       "    }\n",
       "\n",
       "    .dataframe tbody tr th {\n",
       "        vertical-align: top;\n",
       "    }\n",
       "\n",
       "    .dataframe thead th {\n",
       "        text-align: right;\n",
       "    }\n",
       "</style>\n",
       "<table border=\"1\" class=\"dataframe\">\n",
       "  <thead>\n",
       "    <tr style=\"text-align: right;\">\n",
       "      <th></th>\n",
       "      <th>view</th>\n",
       "      <th>waterfront</th>\n",
       "    </tr>\n",
       "  </thead>\n",
       "  <tbody>\n",
       "    <tr>\n",
       "      <td>view</td>\n",
       "      <td>1.000000</td>\n",
       "      <td>0.380543</td>\n",
       "    </tr>\n",
       "    <tr>\n",
       "      <td>waterfront</td>\n",
       "      <td>0.380543</td>\n",
       "      <td>1.000000</td>\n",
       "    </tr>\n",
       "  </tbody>\n",
       "</table>\n",
       "</div>"
      ],
      "text/plain": [
       "                view  waterfront\n",
       "view        1.000000    0.380543\n",
       "waterfront  0.380543    1.000000"
      ]
     },
     "execution_count": 26,
     "metadata": {},
     "output_type": "execute_result"
    }
   ],
   "source": [
    "feats = ['view', 'waterfront']\n",
    "df[feats].corr()"
   ]
  },
  {
   "cell_type": "code",
   "execution_count": 27,
   "metadata": {
    "ExecuteTime": {
     "end_time": "2020-04-21T23:36:16.655595Z",
     "start_time": "2020-04-21T23:36:16.649861Z"
    }
   },
   "outputs": [],
   "source": [
    "df.yr_renovated.fillna(0, inplace=True)"
   ]
  },
  {
   "cell_type": "markdown",
   "metadata": {},
   "source": [
    "### Outliers"
   ]
  },
  {
   "cell_type": "code",
   "execution_count": null,
   "metadata": {},
   "outputs": [],
   "source": []
  },
  {
   "cell_type": "code",
   "execution_count": null,
   "metadata": {},
   "outputs": [],
   "source": []
  },
  {
   "cell_type": "code",
   "execution_count": 28,
   "metadata": {
    "ExecuteTime": {
     "end_time": "2020-04-21T23:36:16.725694Z",
     "start_time": "2020-04-21T23:36:16.658506Z"
    }
   },
   "outputs": [],
   "source": [
    "Q1 = df.quantile(0.005)\n",
    "Q3 = df.quantile(0.98)\n",
    "IQR = Q3 - Q1\n",
    "\n",
    "df_no_outliers = df[~((df < (Q1 - 1.5 * IQR)) |(df > (Q3 + 1.5 * IQR))).any(axis=1)]"
   ]
  },
  {
   "cell_type": "markdown",
   "metadata": {
    "scrolled": true
   },
   "source": [
    "## Normalizing the data"
   ]
  },
  {
   "cell_type": "code",
   "execution_count": 29,
   "metadata": {
    "ExecuteTime": {
     "end_time": "2020-04-21T23:36:16.767390Z",
     "start_time": "2020-04-21T23:36:16.729083Z"
    }
   },
   "outputs": [],
   "source": [
    "def norm_feat(series):\n",
    "    return (series - series.mean())/series.std()\n",
    "for feat in ['bathrooms', 'sqft_living', \n",
    "       'sqft_lot','sqft_above', 'sqft_basement', 'yr_built','yr_renovated','sqft_living15', 'sqft_lot15']:\n",
    "    df[feat] = norm_feat(df[feat])\n"
   ]
  },
  {
   "cell_type": "code",
   "execution_count": 30,
   "metadata": {
    "ExecuteTime": {
     "end_time": "2020-04-21T23:36:16.905425Z",
     "start_time": "2020-04-21T23:36:16.769390Z"
    }
   },
   "outputs": [
    {
     "data": {
      "text/html": [
       "<div>\n",
       "<style scoped>\n",
       "    .dataframe tbody tr th:only-of-type {\n",
       "        vertical-align: middle;\n",
       "    }\n",
       "\n",
       "    .dataframe tbody tr th {\n",
       "        vertical-align: top;\n",
       "    }\n",
       "\n",
       "    .dataframe thead th {\n",
       "        text-align: right;\n",
       "    }\n",
       "</style>\n",
       "<table border=\"1\" class=\"dataframe\">\n",
       "  <thead>\n",
       "    <tr style=\"text-align: right;\">\n",
       "      <th></th>\n",
       "      <th>price</th>\n",
       "      <th>bedrooms</th>\n",
       "      <th>bathrooms</th>\n",
       "      <th>sqft_living</th>\n",
       "      <th>sqft_lot</th>\n",
       "      <th>floors</th>\n",
       "      <th>waterfront</th>\n",
       "      <th>view</th>\n",
       "      <th>condition</th>\n",
       "      <th>grade</th>\n",
       "      <th>sqft_above</th>\n",
       "      <th>sqft_basement</th>\n",
       "      <th>yr_built</th>\n",
       "      <th>yr_renovated</th>\n",
       "      <th>zipcode</th>\n",
       "      <th>lat</th>\n",
       "      <th>long</th>\n",
       "      <th>sqft_living15</th>\n",
       "      <th>sqft_lot15</th>\n",
       "    </tr>\n",
       "  </thead>\n",
       "  <tbody>\n",
       "    <tr>\n",
       "      <td>count</td>\n",
       "      <td>21597.00</td>\n",
       "      <td>21597.00</td>\n",
       "      <td>21597.00</td>\n",
       "      <td>21597.00</td>\n",
       "      <td>21597.00</td>\n",
       "      <td>21597.00</td>\n",
       "      <td>21597.00</td>\n",
       "      <td>21597.00</td>\n",
       "      <td>21597.00</td>\n",
       "      <td>21597.00</td>\n",
       "      <td>21597.00</td>\n",
       "      <td>21597.00</td>\n",
       "      <td>21597.00</td>\n",
       "      <td>21597.00</td>\n",
       "      <td>21597.00</td>\n",
       "      <td>21597.00</td>\n",
       "      <td>21597.00</td>\n",
       "      <td>21597.00</td>\n",
       "      <td>21597.00</td>\n",
       "    </tr>\n",
       "    <tr>\n",
       "      <td>mean</td>\n",
       "      <td>540296.57</td>\n",
       "      <td>3.37</td>\n",
       "      <td>-0.00</td>\n",
       "      <td>-0.00</td>\n",
       "      <td>0.00</td>\n",
       "      <td>1.49</td>\n",
       "      <td>0.01</td>\n",
       "      <td>0.23</td>\n",
       "      <td>3.41</td>\n",
       "      <td>7.66</td>\n",
       "      <td>0.00</td>\n",
       "      <td>-0.00</td>\n",
       "      <td>0.00</td>\n",
       "      <td>-0.00</td>\n",
       "      <td>98077.95</td>\n",
       "      <td>47.56</td>\n",
       "      <td>-122.21</td>\n",
       "      <td>-0.00</td>\n",
       "      <td>-0.00</td>\n",
       "    </tr>\n",
       "    <tr>\n",
       "      <td>std</td>\n",
       "      <td>367368.14</td>\n",
       "      <td>0.93</td>\n",
       "      <td>1.00</td>\n",
       "      <td>1.00</td>\n",
       "      <td>1.00</td>\n",
       "      <td>0.54</td>\n",
       "      <td>0.08</td>\n",
       "      <td>0.76</td>\n",
       "      <td>0.65</td>\n",
       "      <td>1.17</td>\n",
       "      <td>1.00</td>\n",
       "      <td>1.00</td>\n",
       "      <td>1.00</td>\n",
       "      <td>1.00</td>\n",
       "      <td>53.51</td>\n",
       "      <td>0.14</td>\n",
       "      <td>0.14</td>\n",
       "      <td>1.00</td>\n",
       "      <td>1.00</td>\n",
       "    </tr>\n",
       "    <tr>\n",
       "      <td>min</td>\n",
       "      <td>78000.00</td>\n",
       "      <td>1.00</td>\n",
       "      <td>-2.10</td>\n",
       "      <td>-1.86</td>\n",
       "      <td>-0.35</td>\n",
       "      <td>1.00</td>\n",
       "      <td>0.00</td>\n",
       "      <td>0.00</td>\n",
       "      <td>1.00</td>\n",
       "      <td>3.00</td>\n",
       "      <td>-1.71</td>\n",
       "      <td>-0.65</td>\n",
       "      <td>-2.42</td>\n",
       "      <td>-0.19</td>\n",
       "      <td>98001.00</td>\n",
       "      <td>47.16</td>\n",
       "      <td>-122.52</td>\n",
       "      <td>-2.32</td>\n",
       "      <td>-0.44</td>\n",
       "    </tr>\n",
       "    <tr>\n",
       "      <td>25%</td>\n",
       "      <td>322000.00</td>\n",
       "      <td>3.00</td>\n",
       "      <td>-0.48</td>\n",
       "      <td>-0.71</td>\n",
       "      <td>-0.24</td>\n",
       "      <td>1.00</td>\n",
       "      <td>0.00</td>\n",
       "      <td>0.00</td>\n",
       "      <td>3.00</td>\n",
       "      <td>7.00</td>\n",
       "      <td>-0.72</td>\n",
       "      <td>-0.65</td>\n",
       "      <td>-0.68</td>\n",
       "      <td>-0.19</td>\n",
       "      <td>98033.00</td>\n",
       "      <td>47.47</td>\n",
       "      <td>-122.33</td>\n",
       "      <td>-0.72</td>\n",
       "      <td>-0.28</td>\n",
       "    </tr>\n",
       "    <tr>\n",
       "      <td>50%</td>\n",
       "      <td>450000.00</td>\n",
       "      <td>3.00</td>\n",
       "      <td>0.17</td>\n",
       "      <td>-0.19</td>\n",
       "      <td>-0.18</td>\n",
       "      <td>1.50</td>\n",
       "      <td>0.00</td>\n",
       "      <td>0.00</td>\n",
       "      <td>3.00</td>\n",
       "      <td>7.00</td>\n",
       "      <td>-0.28</td>\n",
       "      <td>-0.65</td>\n",
       "      <td>0.14</td>\n",
       "      <td>-0.19</td>\n",
       "      <td>98065.00</td>\n",
       "      <td>47.57</td>\n",
       "      <td>-122.23</td>\n",
       "      <td>-0.21</td>\n",
       "      <td>-0.19</td>\n",
       "    </tr>\n",
       "    <tr>\n",
       "      <td>75%</td>\n",
       "      <td>645000.00</td>\n",
       "      <td>4.00</td>\n",
       "      <td>0.50</td>\n",
       "      <td>0.51</td>\n",
       "      <td>-0.11</td>\n",
       "      <td>2.00</td>\n",
       "      <td>0.00</td>\n",
       "      <td>0.00</td>\n",
       "      <td>4.00</td>\n",
       "      <td>8.00</td>\n",
       "      <td>0.51</td>\n",
       "      <td>0.60</td>\n",
       "      <td>0.89</td>\n",
       "      <td>-0.19</td>\n",
       "      <td>98118.00</td>\n",
       "      <td>47.68</td>\n",
       "      <td>-122.12</td>\n",
       "      <td>0.54</td>\n",
       "      <td>-0.10</td>\n",
       "    </tr>\n",
       "    <tr>\n",
       "      <td>max</td>\n",
       "      <td>7700000.00</td>\n",
       "      <td>33.00</td>\n",
       "      <td>7.65</td>\n",
       "      <td>12.48</td>\n",
       "      <td>39.51</td>\n",
       "      <td>3.50</td>\n",
       "      <td>1.00</td>\n",
       "      <td>4.00</td>\n",
       "      <td>5.00</td>\n",
       "      <td>13.00</td>\n",
       "      <td>9.21</td>\n",
       "      <td>10.31</td>\n",
       "      <td>1.50</td>\n",
       "      <td>5.35</td>\n",
       "      <td>98199.00</td>\n",
       "      <td>47.78</td>\n",
       "      <td>-121.32</td>\n",
       "      <td>6.16</td>\n",
       "      <td>31.47</td>\n",
       "    </tr>\n",
       "  </tbody>\n",
       "</table>\n",
       "</div>"
      ],
      "text/plain": [
       "            price  bedrooms  bathrooms  sqft_living  sqft_lot    floors  \\\n",
       "count    21597.00  21597.00   21597.00     21597.00  21597.00  21597.00   \n",
       "mean    540296.57      3.37      -0.00        -0.00      0.00      1.49   \n",
       "std     367368.14      0.93       1.00         1.00      1.00      0.54   \n",
       "min      78000.00      1.00      -2.10        -1.86     -0.35      1.00   \n",
       "25%     322000.00      3.00      -0.48        -0.71     -0.24      1.00   \n",
       "50%     450000.00      3.00       0.17        -0.19     -0.18      1.50   \n",
       "75%     645000.00      4.00       0.50         0.51     -0.11      2.00   \n",
       "max    7700000.00     33.00       7.65        12.48     39.51      3.50   \n",
       "\n",
       "       waterfront      view  condition     grade  sqft_above  sqft_basement  \\\n",
       "count    21597.00  21597.00   21597.00  21597.00    21597.00       21597.00   \n",
       "mean         0.01      0.23       3.41      7.66        0.00          -0.00   \n",
       "std          0.08      0.76       0.65      1.17        1.00           1.00   \n",
       "min          0.00      0.00       1.00      3.00       -1.71          -0.65   \n",
       "25%          0.00      0.00       3.00      7.00       -0.72          -0.65   \n",
       "50%          0.00      0.00       3.00      7.00       -0.28          -0.65   \n",
       "75%          0.00      0.00       4.00      8.00        0.51           0.60   \n",
       "max          1.00      4.00       5.00     13.00        9.21          10.31   \n",
       "\n",
       "       yr_built  yr_renovated   zipcode       lat      long  sqft_living15  \\\n",
       "count  21597.00      21597.00  21597.00  21597.00  21597.00       21597.00   \n",
       "mean       0.00         -0.00  98077.95     47.56   -122.21          -0.00   \n",
       "std        1.00          1.00     53.51      0.14      0.14           1.00   \n",
       "min       -2.42         -0.19  98001.00     47.16   -122.52          -2.32   \n",
       "25%       -0.68         -0.19  98033.00     47.47   -122.33          -0.72   \n",
       "50%        0.14         -0.19  98065.00     47.57   -122.23          -0.21   \n",
       "75%        0.89         -0.19  98118.00     47.68   -122.12           0.54   \n",
       "max        1.50          5.35  98199.00     47.78   -121.32           6.16   \n",
       "\n",
       "       sqft_lot15  \n",
       "count    21597.00  \n",
       "mean        -0.00  \n",
       "std          1.00  \n",
       "min         -0.44  \n",
       "25%         -0.28  \n",
       "50%         -0.19  \n",
       "75%         -0.10  \n",
       "max         31.47  "
      ]
     },
     "execution_count": 30,
     "metadata": {},
     "output_type": "execute_result"
    }
   ],
   "source": [
    "df.describe().round(2)"
   ]
  },
  {
   "cell_type": "code",
   "execution_count": 31,
   "metadata": {
    "ExecuteTime": {
     "end_time": "2020-04-21T23:36:17.675863Z",
     "start_time": "2020-04-21T23:36:16.908079Z"
    }
   },
   "outputs": [],
   "source": [
    "df.to_csv(\"king_county_dataset_cleaned.csv\", index=False)\n"
   ]
  },
  {
   "cell_type": "markdown",
   "metadata": {},
   "source": [
    "## One-Hot Encoding Categorical Columns"
   ]
  },
  {
   "cell_type": "markdown",
   "metadata": {},
   "source": [
    "\n",
    "#### Identifying Categorical Variables\n",
    "\n",
    "These columns can be thought as categorical values. Bedrooms, floors, waterfront, wiev, grade, zipcode and year renovated.\n",
    "Let's explore them one by one."
   ]
  },
  {
   "cell_type": "code",
   "execution_count": 32,
   "metadata": {
    "ExecuteTime": {
     "end_time": "2020-04-21T23:36:17.703096Z",
     "start_time": "2020-04-21T23:36:17.680129Z"
    }
   },
   "outputs": [],
   "source": [
    "df['bedrooms'] = df['bedrooms'].astype('category')\n",
    "df['floors'] = df['floors'].astype('category')\n",
    "df['waterfront'] = df['waterfront'].astype('category')\n",
    "df['view'] = df['view'].astype('category')\n",
    "df['condition'] = df['condition'].astype('category')\n",
    "df['grade'] = df['grade'].astype('category')\n"
   ]
  },
  {
   "cell_type": "code",
   "execution_count": 33,
   "metadata": {
    "ExecuteTime": {
     "end_time": "2020-04-21T23:36:17.744167Z",
     "start_time": "2020-04-21T23:36:17.704762Z"
    }
   },
   "outputs": [],
   "source": [
    "feats = ['price', 'bedrooms', 'bathrooms', 'sqft_living', 'sqft_lot', 'floors',\n",
    "       'waterfront', 'view', 'condition', 'grade', 'sqft_above',\n",
    "       'sqft_basement', 'yr_built', 'yr_renovated', \n",
    "       'sqft_living15', 'sqft_lot15']\n",
    "df_feats = df[feats]\n",
    "df_feats = pd.get_dummies(df_feats, drop_first=True)"
   ]
  },
  {
   "cell_type": "code",
   "execution_count": null,
   "metadata": {
    "scrolled": true
   },
   "outputs": [],
   "source": [
    "df_feats.info()"
   ]
  },
  {
   "cell_type": "code",
   "execution_count": null,
   "metadata": {},
   "outputs": [],
   "source": []
  },
  {
   "cell_type": "code",
   "execution_count": null,
   "metadata": {},
   "outputs": [],
   "source": []
  },
  {
   "cell_type": "code",
   "execution_count": null,
   "metadata": {},
   "outputs": [],
   "source": [
    "df_feats.head()"
   ]
  },
  {
   "cell_type": "code",
   "execution_count": null,
   "metadata": {},
   "outputs": [],
   "source": []
  },
  {
   "cell_type": "code",
   "execution_count": null,
   "metadata": {},
   "outputs": [],
   "source": []
  },
  {
   "cell_type": "code",
   "execution_count": null,
   "metadata": {},
   "outputs": [],
   "source": []
  },
  {
   "cell_type": "code",
   "execution_count": null,
   "metadata": {},
   "outputs": [],
   "source": []
  },
  {
   "cell_type": "markdown",
   "metadata": {},
   "source": [
    "'zipcode', 'lat', 'long',"
   ]
  },
  {
   "cell_type": "code",
   "execution_count": null,
   "metadata": {},
   "outputs": [],
   "source": []
  },
  {
   "cell_type": "code",
   "execution_count": null,
   "metadata": {},
   "outputs": [],
   "source": []
  },
  {
   "cell_type": "markdown",
   "metadata": {},
   "source": [
    "# Exploring the data"
   ]
  },
  {
   "cell_type": "code",
   "execution_count": null,
   "metadata": {},
   "outputs": [],
   "source": [
    "df.head()"
   ]
  },
  {
   "cell_type": "code",
   "execution_count": null,
   "metadata": {},
   "outputs": [],
   "source": [
    "df_feats.head()"
   ]
  },
  {
   "cell_type": "code",
   "execution_count": null,
   "metadata": {},
   "outputs": [],
   "source": [
    "sns.pairplot(df)"
   ]
  },
  {
   "cell_type": "markdown",
   "metadata": {},
   "source": [
    "## Check for Linearity"
   ]
  },
  {
   "cell_type": "markdown",
   "metadata": {},
   "source": [
    "jointplots"
   ]
  },
  {
   "cell_type": "code",
   "execution_count": null,
   "metadata": {},
   "outputs": [],
   "source": []
  },
  {
   "cell_type": "code",
   "execution_count": null,
   "metadata": {},
   "outputs": [],
   "source": []
  },
  {
   "cell_type": "code",
   "execution_count": null,
   "metadata": {},
   "outputs": [],
   "source": []
  },
  {
   "cell_type": "code",
   "execution_count": null,
   "metadata": {},
   "outputs": [],
   "source": []
  },
  {
   "cell_type": "markdown",
   "metadata": {},
   "source": [
    "## Check for Multicollinearity"
   ]
  },
  {
   "cell_type": "code",
   "execution_count": null,
   "metadata": {},
   "outputs": [],
   "source": []
  },
  {
   "cell_type": "code",
   "execution_count": null,
   "metadata": {},
   "outputs": [],
   "source": [
    "# df_target = df_no_outliers.loc['price']\n",
    "df_heatmap=df.drop(['price','zipcode', 'lat', 'long'],axis=1)\n",
    "plt.figure(figsize=(20,20))\n",
    "ax=sns.heatmap(df_heatmap.corr(), center=0, linewidths=.5,annot=True);\n",
    "bottom, top = ax.get_ylim()\n",
    "ax.set_ylim(bottom + 0.5, top - 0.5)\n",
    "plt.show()"
   ]
  },
  {
   "cell_type": "code",
   "execution_count": null,
   "metadata": {},
   "outputs": [],
   "source": [
    "df_heatmap.corr() > 0.75\n"
   ]
  },
  {
   "cell_type": "code",
   "execution_count": null,
   "metadata": {},
   "outputs": [],
   "source": [
    "df_feats.info()"
   ]
  },
  {
   "cell_type": "code",
   "execution_count": null,
   "metadata": {},
   "outputs": [],
   "source": [
    "# # df=df.drop(['sqft_living'], axis=1)\n",
    "# df_feats=df_feats.drop(['sqft_living'], axis=1)\n",
    "# df_feats=df_feats.drop(['sqft_living'], axis=1)"
   ]
  },
  {
   "cell_type": "code",
   "execution_count": null,
   "metadata": {},
   "outputs": [],
   "source": [
    "df_feats.columns"
   ]
  },
  {
   "cell_type": "code",
   "execution_count": 43,
   "metadata": {
    "ExecuteTime": {
     "end_time": "2020-04-21T23:48:14.011276Z",
     "start_time": "2020-04-21T23:48:14.006749Z"
    }
   },
   "outputs": [],
   "source": [
    "outcome = 'price'\n",
    "x_cols = ['bathrooms', 'sqft_living', 'sqft_lot', 'sqft_above',\n",
    "       'sqft_basement', 'yr_built', 'yr_renovated', 'sqft_living15',\n",
    "       'sqft_lot15', 'bedrooms_2', 'bedrooms_3', 'bedrooms_4', 'bedrooms_5',\n",
    "       'bedrooms_6', 'bedrooms_7', 'bedrooms_8', 'bedrooms_9', 'bedrooms_10',\n",
    "       'bedrooms_11', 'bedrooms_33', 'floors_1_5', 'floors_2_0', 'floors_2_5',\n",
    "       'floors_3_0', 'floors_3_5', 'waterfront_1_0', 'view_1_0', 'view_2_0',\n",
    "       'view_3_0', 'view_4_0', 'condition_2', 'condition_3', 'condition_4',\n",
    "       'condition_5', 'grade_4', 'grade_5', 'grade_6', 'grade_7', 'grade_8',\n",
    "       'grade_9', 'grade_10', 'grade_11', 'grade_12', 'grade_13']"
   ]
  },
  {
   "cell_type": "code",
   "execution_count": 37,
   "metadata": {
    "ExecuteTime": {
     "end_time": "2020-04-21T23:44:06.721662Z",
     "start_time": "2020-04-21T23:44:06.718307Z"
    }
   },
   "outputs": [],
   "source": [
    "# df_feats.columns = [col.replace('.', '_', inplace=True) for col in df_feats.columns]\n",
    "# df_feats.columns = [col.replace(' ', '_', inplace=True) for col in df_feats.columns]\n",
    "df_feats.columns = df_feats.columns.str.replace(r\"[.]\", \"_\")"
   ]
  },
  {
   "cell_type": "code",
   "execution_count": 40,
   "metadata": {
    "ExecuteTime": {
     "end_time": "2020-04-21T23:45:45.425473Z",
     "start_time": "2020-04-21T23:45:45.421428Z"
    }
   },
   "outputs": [
    {
     "data": {
      "text/plain": [
       "Index(['price', 'bathrooms', 'sqft_living', 'sqft_lot', 'sqft_above',\n",
       "       'sqft_basement', 'yr_built', 'yr_renovated', 'sqft_living15',\n",
       "       'sqft_lot15', 'bedrooms_2', 'bedrooms_3', 'bedrooms_4', 'bedrooms_5',\n",
       "       'bedrooms_6', 'bedrooms_7', 'bedrooms_8', 'bedrooms_9', 'bedrooms_10',\n",
       "       'bedrooms_11', 'bedrooms_33', 'floors_1_5', 'floors_2_0', 'floors_2_5',\n",
       "       'floors_3_0', 'floors_3_5', 'waterfront_1_0', 'view_1_0', 'view_2_0',\n",
       "       'view_3_0', 'view_4_0', 'condition_2', 'condition_3', 'condition_4',\n",
       "       'condition_5', 'grade_4', 'grade_5', 'grade_6', 'grade_7', 'grade_8',\n",
       "       'grade_9', 'grade_10', 'grade_11', 'grade_12', 'grade_13'],\n",
       "      dtype='object')"
      ]
     },
     "execution_count": 40,
     "metadata": {},
     "output_type": "execute_result"
    }
   ],
   "source": [
    "df_feats.columns"
   ]
  },
  {
   "cell_type": "code",
   "execution_count": 44,
   "metadata": {
    "ExecuteTime": {
     "end_time": "2020-04-21T23:48:21.489494Z",
     "start_time": "2020-04-21T23:48:21.187112Z"
    }
   },
   "outputs": [
    {
     "data": {
      "text/html": [
       "<table class=\"simpletable\">\n",
       "<caption>OLS Regression Results</caption>\n",
       "<tr>\n",
       "  <th>Dep. Variable:</th>          <td>price</td>      <th>  R-squared:         </th>  <td>   0.688</td>  \n",
       "</tr>\n",
       "<tr>\n",
       "  <th>Model:</th>                   <td>OLS</td>       <th>  Adj. R-squared:    </th>  <td>   0.687</td>  \n",
       "</tr>\n",
       "<tr>\n",
       "  <th>Method:</th>             <td>Least Squares</td>  <th>  F-statistic:       </th>  <td>   1078.</td>  \n",
       "</tr>\n",
       "<tr>\n",
       "  <th>Date:</th>             <td>Tue, 21 Apr 2020</td> <th>  Prob (F-statistic):</th>   <td>  0.00</td>   \n",
       "</tr>\n",
       "<tr>\n",
       "  <th>Time:</th>                 <td>18:48:21</td>     <th>  Log-Likelihood:    </th> <td>-2.9483e+05</td>\n",
       "</tr>\n",
       "<tr>\n",
       "  <th>No. Observations:</th>      <td> 21597</td>      <th>  AIC:               </th>  <td>5.897e+05</td> \n",
       "</tr>\n",
       "<tr>\n",
       "  <th>Df Residuals:</th>          <td> 21552</td>      <th>  BIC:               </th>  <td>5.901e+05</td> \n",
       "</tr>\n",
       "<tr>\n",
       "  <th>Df Model:</th>              <td>    44</td>      <th>                     </th>      <td> </td>     \n",
       "</tr>\n",
       "<tr>\n",
       "  <th>Covariance Type:</th>      <td>nonrobust</td>    <th>                     </th>      <td> </td>     \n",
       "</tr>\n",
       "</table>\n",
       "<table class=\"simpletable\">\n",
       "<tr>\n",
       "         <td></td>           <th>coef</th>     <th>std err</th>      <th>t</th>      <th>P>|t|</th>  <th>[0.025</th>    <th>0.975]</th>  \n",
       "</tr>\n",
       "<tr>\n",
       "  <th>Intercept</th>      <td> 2.882e+05</td> <td> 2.09e+05</td> <td>    1.377</td> <td> 0.168</td> <td>-1.22e+05</td> <td> 6.98e+05</td>\n",
       "</tr>\n",
       "<tr>\n",
       "  <th>bathrooms</th>      <td> 3.913e+04</td> <td> 2599.981</td> <td>   15.050</td> <td> 0.000</td> <td>  3.4e+04</td> <td> 4.42e+04</td>\n",
       "</tr>\n",
       "<tr>\n",
       "  <th>sqft_living</th>    <td> 9.211e+04</td> <td>  1.7e+04</td> <td>    5.427</td> <td> 0.000</td> <td> 5.88e+04</td> <td> 1.25e+05</td>\n",
       "</tr>\n",
       "<tr>\n",
       "  <th>sqft_lot</th>       <td> -147.6370</td> <td> 2024.181</td> <td>   -0.073</td> <td> 0.942</td> <td>-4115.182</td> <td> 3819.908</td>\n",
       "</tr>\n",
       "<tr>\n",
       "  <th>sqft_above</th>     <td> 1.979e+04</td> <td> 1.53e+04</td> <td>    1.292</td> <td> 0.197</td> <td>-1.02e+04</td> <td> 4.98e+04</td>\n",
       "</tr>\n",
       "<tr>\n",
       "  <th>sqft_basement</th>  <td> 1.858e+04</td> <td> 8051.201</td> <td>    2.308</td> <td> 0.021</td> <td> 2801.487</td> <td> 3.44e+04</td>\n",
       "</tr>\n",
       "<tr>\n",
       "  <th>yr_built</th>       <td>-9.023e+04</td> <td> 2220.324</td> <td>  -40.638</td> <td> 0.000</td> <td>-9.46e+04</td> <td>-8.59e+04</td>\n",
       "</tr>\n",
       "<tr>\n",
       "  <th>yr_renovated</th>   <td> 9082.1491</td> <td> 1488.038</td> <td>    6.103</td> <td> 0.000</td> <td> 6165.484</td> <td>  1.2e+04</td>\n",
       "</tr>\n",
       "<tr>\n",
       "  <th>sqft_living15</th>  <td> 2.584e+04</td> <td> 2399.099</td> <td>   10.772</td> <td> 0.000</td> <td> 2.11e+04</td> <td> 3.05e+04</td>\n",
       "</tr>\n",
       "<tr>\n",
       "  <th>sqft_lot15</th>     <td>-1.517e+04</td> <td> 2037.956</td> <td>   -7.444</td> <td> 0.000</td> <td>-1.92e+04</td> <td>-1.12e+04</td>\n",
       "</tr>\n",
       "<tr>\n",
       "  <th>bedrooms_2</th>     <td> 9328.4538</td> <td> 1.56e+04</td> <td>    0.598</td> <td> 0.550</td> <td>-2.12e+04</td> <td> 3.99e+04</td>\n",
       "</tr>\n",
       "<tr>\n",
       "  <th>bedrooms_3</th>     <td>-4.266e+04</td> <td> 1.55e+04</td> <td>   -2.745</td> <td> 0.006</td> <td>-7.31e+04</td> <td>-1.22e+04</td>\n",
       "</tr>\n",
       "<tr>\n",
       "  <th>bedrooms_4</th>     <td>-7.958e+04</td> <td> 1.59e+04</td> <td>   -5.013</td> <td> 0.000</td> <td>-1.11e+05</td> <td>-4.85e+04</td>\n",
       "</tr>\n",
       "<tr>\n",
       "  <th>bedrooms_5</th>     <td>-6.882e+04</td> <td> 1.68e+04</td> <td>   -4.102</td> <td> 0.000</td> <td>-1.02e+05</td> <td>-3.59e+04</td>\n",
       "</tr>\n",
       "<tr>\n",
       "  <th>bedrooms_6</th>     <td>-1.024e+05</td> <td> 2.05e+04</td> <td>   -4.995</td> <td> 0.000</td> <td>-1.43e+05</td> <td>-6.22e+04</td>\n",
       "</tr>\n",
       "<tr>\n",
       "  <th>bedrooms_7</th>     <td> -1.41e+05</td> <td> 3.75e+04</td> <td>   -3.760</td> <td> 0.000</td> <td>-2.14e+05</td> <td>-6.75e+04</td>\n",
       "</tr>\n",
       "<tr>\n",
       "  <th>bedrooms_8</th>     <td> 6.733e+04</td> <td> 5.98e+04</td> <td>    1.125</td> <td> 0.261</td> <td>   -5e+04</td> <td> 1.85e+05</td>\n",
       "</tr>\n",
       "<tr>\n",
       "  <th>bedrooms_9</th>     <td>-2.343e+05</td> <td>  8.6e+04</td> <td>   -2.723</td> <td> 0.006</td> <td>-4.03e+05</td> <td>-6.56e+04</td>\n",
       "</tr>\n",
       "<tr>\n",
       "  <th>bedrooms_10</th>    <td>-9.754e+04</td> <td>  1.2e+05</td> <td>   -0.813</td> <td> 0.416</td> <td>-3.33e+05</td> <td> 1.38e+05</td>\n",
       "</tr>\n",
       "<tr>\n",
       "  <th>bedrooms_11</th>    <td>-3.317e+05</td> <td> 2.06e+05</td> <td>   -1.607</td> <td> 0.108</td> <td>-7.36e+05</td> <td> 7.28e+04</td>\n",
       "</tr>\n",
       "<tr>\n",
       "  <th>bedrooms_33</th>    <td> 1.218e+05</td> <td> 2.06e+05</td> <td>    0.591</td> <td> 0.555</td> <td>-2.82e+05</td> <td> 5.26e+05</td>\n",
       "</tr>\n",
       "<tr>\n",
       "  <th>floors_1_5</th>     <td> 1.827e+04</td> <td> 5575.178</td> <td>    3.277</td> <td> 0.001</td> <td> 7340.353</td> <td> 2.92e+04</td>\n",
       "</tr>\n",
       "<tr>\n",
       "  <th>floors_2_0</th>     <td> 1.548e+04</td> <td> 4514.711</td> <td>    3.429</td> <td> 0.001</td> <td> 6630.168</td> <td> 2.43e+04</td>\n",
       "</tr>\n",
       "<tr>\n",
       "  <th>floors_2_5</th>     <td> 1.346e+05</td> <td> 1.69e+04</td> <td>    7.981</td> <td> 0.000</td> <td> 1.02e+05</td> <td> 1.68e+05</td>\n",
       "</tr>\n",
       "<tr>\n",
       "  <th>floors_3_0</th>     <td> 1.385e+05</td> <td> 9581.692</td> <td>   14.451</td> <td> 0.000</td> <td>  1.2e+05</td> <td> 1.57e+05</td>\n",
       "</tr>\n",
       "<tr>\n",
       "  <th>floors_3_5</th>     <td> 1.818e+05</td> <td> 7.83e+04</td> <td>    2.321</td> <td> 0.020</td> <td> 2.82e+04</td> <td> 3.35e+05</td>\n",
       "</tr>\n",
       "<tr>\n",
       "  <th>waterfront_1_0</th> <td> 5.319e+05</td> <td> 2.09e+04</td> <td>   25.497</td> <td> 0.000</td> <td> 4.91e+05</td> <td> 5.73e+05</td>\n",
       "</tr>\n",
       "<tr>\n",
       "  <th>view_1_0</th>       <td> 1.092e+05</td> <td> 1.16e+04</td> <td>    9.447</td> <td> 0.000</td> <td> 8.65e+04</td> <td> 1.32e+05</td>\n",
       "</tr>\n",
       "<tr>\n",
       "  <th>view_2_0</th>       <td> 4.609e+04</td> <td> 7019.182</td> <td>    6.566</td> <td> 0.000</td> <td> 3.23e+04</td> <td> 5.98e+04</td>\n",
       "</tr>\n",
       "<tr>\n",
       "  <th>view_3_0</th>       <td> 9.752e+04</td> <td> 9604.744</td> <td>   10.153</td> <td> 0.000</td> <td> 7.87e+04</td> <td> 1.16e+05</td>\n",
       "</tr>\n",
       "<tr>\n",
       "  <th>view_4_0</th>       <td> 2.327e+05</td> <td> 1.46e+04</td> <td>   15.992</td> <td> 0.000</td> <td> 2.04e+05</td> <td> 2.61e+05</td>\n",
       "</tr>\n",
       "<tr>\n",
       "  <th>condition_2</th>    <td> 2.624e+04</td> <td> 4.14e+04</td> <td>    0.633</td> <td> 0.527</td> <td> -5.5e+04</td> <td> 1.07e+05</td>\n",
       "</tr>\n",
       "<tr>\n",
       "  <th>condition_3</th>    <td> 5.174e+04</td> <td> 3.86e+04</td> <td>    1.342</td> <td> 0.180</td> <td>-2.38e+04</td> <td> 1.27e+05</td>\n",
       "</tr>\n",
       "<tr>\n",
       "  <th>condition_4</th>    <td> 6.995e+04</td> <td> 3.86e+04</td> <td>    1.813</td> <td> 0.070</td> <td>-5655.767</td> <td> 1.46e+05</td>\n",
       "</tr>\n",
       "<tr>\n",
       "  <th>condition_5</th>    <td> 1.114e+05</td> <td> 3.88e+04</td> <td>    2.872</td> <td> 0.004</td> <td> 3.54e+04</td> <td> 1.87e+05</td>\n",
       "</tr>\n",
       "<tr>\n",
       "  <th>grade_4</th>        <td> 9063.4525</td> <td>  2.1e+05</td> <td>    0.043</td> <td> 0.966</td> <td>-4.02e+05</td> <td>  4.2e+05</td>\n",
       "</tr>\n",
       "<tr>\n",
       "  <th>grade_5</th>        <td> 3593.4111</td> <td> 2.06e+05</td> <td>    0.017</td> <td> 0.986</td> <td>-4.01e+05</td> <td> 4.08e+05</td>\n",
       "</tr>\n",
       "<tr>\n",
       "  <th>grade_6</th>        <td> 5.643e+04</td> <td> 2.06e+05</td> <td>    0.274</td> <td> 0.784</td> <td>-3.48e+05</td> <td> 4.61e+05</td>\n",
       "</tr>\n",
       "<tr>\n",
       "  <th>grade_7</th>        <td> 1.372e+05</td> <td> 2.06e+05</td> <td>    0.665</td> <td> 0.506</td> <td>-2.67e+05</td> <td> 5.41e+05</td>\n",
       "</tr>\n",
       "<tr>\n",
       "  <th>grade_8</th>        <td>  2.18e+05</td> <td> 2.06e+05</td> <td>    1.057</td> <td> 0.290</td> <td>-1.86e+05</td> <td> 6.22e+05</td>\n",
       "</tr>\n",
       "<tr>\n",
       "  <th>grade_9</th>        <td> 3.574e+05</td> <td> 2.06e+05</td> <td>    1.732</td> <td> 0.083</td> <td> -4.7e+04</td> <td> 7.62e+05</td>\n",
       "</tr>\n",
       "<tr>\n",
       "  <th>grade_10</th>       <td>  5.31e+05</td> <td> 2.06e+05</td> <td>    2.572</td> <td> 0.010</td> <td> 1.26e+05</td> <td> 9.36e+05</td>\n",
       "</tr>\n",
       "<tr>\n",
       "  <th>grade_11</th>       <td> 7.882e+05</td> <td> 2.07e+05</td> <td>    3.813</td> <td> 0.000</td> <td> 3.83e+05</td> <td> 1.19e+06</td>\n",
       "</tr>\n",
       "<tr>\n",
       "  <th>grade_12</th>       <td> 1.247e+06</td> <td> 2.08e+05</td> <td>    6.003</td> <td> 0.000</td> <td>  8.4e+05</td> <td> 1.65e+06</td>\n",
       "</tr>\n",
       "<tr>\n",
       "  <th>grade_13</th>       <td> 2.424e+06</td> <td> 2.15e+05</td> <td>   11.286</td> <td> 0.000</td> <td>    2e+06</td> <td> 2.84e+06</td>\n",
       "</tr>\n",
       "</table>\n",
       "<table class=\"simpletable\">\n",
       "<tr>\n",
       "  <th>Omnibus:</th>       <td>12508.879</td> <th>  Durbin-Watson:     </th>  <td>   1.975</td> \n",
       "</tr>\n",
       "<tr>\n",
       "  <th>Prob(Omnibus):</th>  <td> 0.000</td>   <th>  Jarque-Bera (JB):  </th> <td>481266.816</td>\n",
       "</tr>\n",
       "<tr>\n",
       "  <th>Skew:</th>           <td> 2.170</td>   <th>  Prob(JB):          </th>  <td>    0.00</td> \n",
       "</tr>\n",
       "<tr>\n",
       "  <th>Kurtosis:</th>       <td>25.715</td>   <th>  Cond. No.          </th>  <td>    958.</td> \n",
       "</tr>\n",
       "</table><br/><br/>Warnings:<br/>[1] Standard Errors assume that the covariance matrix of the errors is correctly specified."
      ],
      "text/plain": [
       "<class 'statsmodels.iolib.summary.Summary'>\n",
       "\"\"\"\n",
       "                            OLS Regression Results                            \n",
       "==============================================================================\n",
       "Dep. Variable:                  price   R-squared:                       0.688\n",
       "Model:                            OLS   Adj. R-squared:                  0.687\n",
       "Method:                 Least Squares   F-statistic:                     1078.\n",
       "Date:                Tue, 21 Apr 2020   Prob (F-statistic):               0.00\n",
       "Time:                        18:48:21   Log-Likelihood:            -2.9483e+05\n",
       "No. Observations:               21597   AIC:                         5.897e+05\n",
       "Df Residuals:                   21552   BIC:                         5.901e+05\n",
       "Df Model:                          44                                         \n",
       "Covariance Type:            nonrobust                                         \n",
       "==================================================================================\n",
       "                     coef    std err          t      P>|t|      [0.025      0.975]\n",
       "----------------------------------------------------------------------------------\n",
       "Intercept       2.882e+05   2.09e+05      1.377      0.168   -1.22e+05    6.98e+05\n",
       "bathrooms       3.913e+04   2599.981     15.050      0.000     3.4e+04    4.42e+04\n",
       "sqft_living     9.211e+04    1.7e+04      5.427      0.000    5.88e+04    1.25e+05\n",
       "sqft_lot        -147.6370   2024.181     -0.073      0.942   -4115.182    3819.908\n",
       "sqft_above      1.979e+04   1.53e+04      1.292      0.197   -1.02e+04    4.98e+04\n",
       "sqft_basement   1.858e+04   8051.201      2.308      0.021    2801.487    3.44e+04\n",
       "yr_built       -9.023e+04   2220.324    -40.638      0.000   -9.46e+04   -8.59e+04\n",
       "yr_renovated    9082.1491   1488.038      6.103      0.000    6165.484     1.2e+04\n",
       "sqft_living15   2.584e+04   2399.099     10.772      0.000    2.11e+04    3.05e+04\n",
       "sqft_lot15     -1.517e+04   2037.956     -7.444      0.000   -1.92e+04   -1.12e+04\n",
       "bedrooms_2      9328.4538   1.56e+04      0.598      0.550   -2.12e+04    3.99e+04\n",
       "bedrooms_3     -4.266e+04   1.55e+04     -2.745      0.006   -7.31e+04   -1.22e+04\n",
       "bedrooms_4     -7.958e+04   1.59e+04     -5.013      0.000   -1.11e+05   -4.85e+04\n",
       "bedrooms_5     -6.882e+04   1.68e+04     -4.102      0.000   -1.02e+05   -3.59e+04\n",
       "bedrooms_6     -1.024e+05   2.05e+04     -4.995      0.000   -1.43e+05   -6.22e+04\n",
       "bedrooms_7      -1.41e+05   3.75e+04     -3.760      0.000   -2.14e+05   -6.75e+04\n",
       "bedrooms_8      6.733e+04   5.98e+04      1.125      0.261      -5e+04    1.85e+05\n",
       "bedrooms_9     -2.343e+05    8.6e+04     -2.723      0.006   -4.03e+05   -6.56e+04\n",
       "bedrooms_10    -9.754e+04    1.2e+05     -0.813      0.416   -3.33e+05    1.38e+05\n",
       "bedrooms_11    -3.317e+05   2.06e+05     -1.607      0.108   -7.36e+05    7.28e+04\n",
       "bedrooms_33     1.218e+05   2.06e+05      0.591      0.555   -2.82e+05    5.26e+05\n",
       "floors_1_5      1.827e+04   5575.178      3.277      0.001    7340.353    2.92e+04\n",
       "floors_2_0      1.548e+04   4514.711      3.429      0.001    6630.168    2.43e+04\n",
       "floors_2_5      1.346e+05   1.69e+04      7.981      0.000    1.02e+05    1.68e+05\n",
       "floors_3_0      1.385e+05   9581.692     14.451      0.000     1.2e+05    1.57e+05\n",
       "floors_3_5      1.818e+05   7.83e+04      2.321      0.020    2.82e+04    3.35e+05\n",
       "waterfront_1_0  5.319e+05   2.09e+04     25.497      0.000    4.91e+05    5.73e+05\n",
       "view_1_0        1.092e+05   1.16e+04      9.447      0.000    8.65e+04    1.32e+05\n",
       "view_2_0        4.609e+04   7019.182      6.566      0.000    3.23e+04    5.98e+04\n",
       "view_3_0        9.752e+04   9604.744     10.153      0.000    7.87e+04    1.16e+05\n",
       "view_4_0        2.327e+05   1.46e+04     15.992      0.000    2.04e+05    2.61e+05\n",
       "condition_2     2.624e+04   4.14e+04      0.633      0.527    -5.5e+04    1.07e+05\n",
       "condition_3     5.174e+04   3.86e+04      1.342      0.180   -2.38e+04    1.27e+05\n",
       "condition_4     6.995e+04   3.86e+04      1.813      0.070   -5655.767    1.46e+05\n",
       "condition_5     1.114e+05   3.88e+04      2.872      0.004    3.54e+04    1.87e+05\n",
       "grade_4         9063.4525    2.1e+05      0.043      0.966   -4.02e+05     4.2e+05\n",
       "grade_5         3593.4111   2.06e+05      0.017      0.986   -4.01e+05    4.08e+05\n",
       "grade_6         5.643e+04   2.06e+05      0.274      0.784   -3.48e+05    4.61e+05\n",
       "grade_7         1.372e+05   2.06e+05      0.665      0.506   -2.67e+05    5.41e+05\n",
       "grade_8          2.18e+05   2.06e+05      1.057      0.290   -1.86e+05    6.22e+05\n",
       "grade_9         3.574e+05   2.06e+05      1.732      0.083    -4.7e+04    7.62e+05\n",
       "grade_10         5.31e+05   2.06e+05      2.572      0.010    1.26e+05    9.36e+05\n",
       "grade_11        7.882e+05   2.07e+05      3.813      0.000    3.83e+05    1.19e+06\n",
       "grade_12        1.247e+06   2.08e+05      6.003      0.000     8.4e+05    1.65e+06\n",
       "grade_13        2.424e+06   2.15e+05     11.286      0.000       2e+06    2.84e+06\n",
       "==============================================================================\n",
       "Omnibus:                    12508.879   Durbin-Watson:                   1.975\n",
       "Prob(Omnibus):                  0.000   Jarque-Bera (JB):           481266.816\n",
       "Skew:                           2.170   Prob(JB):                         0.00\n",
       "Kurtosis:                      25.715   Cond. No.                         958.\n",
       "==============================================================================\n",
       "\n",
       "Warnings:\n",
       "[1] Standard Errors assume that the covariance matrix of the errors is correctly specified.\n",
       "\"\"\""
      ]
     },
     "execution_count": 44,
     "metadata": {},
     "output_type": "execute_result"
    }
   ],
   "source": [
    "# Fitting the actual model\n",
    "predictors = '+'.join(x_cols)\n",
    "formula = outcome + '~' + predictors\n",
    "model = ols(formula=formula, data=df_feats).fit()\n",
    "model.summary()"
   ]
  },
  {
   "cell_type": "code",
   "execution_count": null,
   "metadata": {},
   "outputs": [],
   "source": []
  },
  {
   "cell_type": "code",
   "execution_count": null,
   "metadata": {
    "ExecuteTime": {
     "end_time": "2020-04-21T23:38:03.948851Z",
     "start_time": "2020-04-21T23:38:03.944087Z"
    }
   },
   "outputs": [],
   "source": []
  },
  {
   "cell_type": "markdown",
   "metadata": {},
   "source": [
    "## notes\n",
    "\n",
    "\n",
    "basement to new feature\n",
    "\n",
    "\n",
    "\n",
    "subsampling\n",
    "\n",
    "regularisation \n",
    "\n",
    "\n",
    "\n",
    "future work:  garaj, pool, okul gradeleri"
   ]
  },
  {
   "cell_type": "markdown",
   "metadata": {},
   "source": [
    "## web sites\n",
    "hexbins with longitude and latitude \n",
    "https://medium.com/@mattheweparker/visualizing-data-with-hexbins-in-python-39823f89525e  \n",
    "\n",
    "categorigal data \n",
    "https://medium.com/@rabinpoudyal1995/encoding-categorical-data-in-python-fab150d6e21b\n",
    "\n",
    "All houses are sold within 390 days, therefore I will not need to adjust the price.\n",
    "https://github.com/Burton-David/KingsCountyHousingLR/blob/master/student.ipynb\n",
    "\n"
   ]
  },
  {
   "cell_type": "markdown",
   "metadata": {},
   "source": [
    "\n",
    "https://www.incomebyzipcode.com/washington/98109"
   ]
  },
  {
   "cell_type": "markdown",
   "metadata": {},
   "source": [
    "https://medium.com/@allisonkelly42/exploratory-data-analysis-with-the-king-county-housing-data-c6d3f7eadc57"
   ]
  },
  {
   "cell_type": "code",
   "execution_count": null,
   "metadata": {},
   "outputs": [],
   "source": []
  }
 ],
 "metadata": {
  "kernelspec": {
   "display_name": "Python 3",
   "language": "python",
   "name": "python3"
  },
  "language_info": {
   "codemirror_mode": {
    "name": "ipython",
    "version": 3
   },
   "file_extension": ".py",
   "mimetype": "text/x-python",
   "name": "python",
   "nbconvert_exporter": "python",
   "pygments_lexer": "ipython3",
   "version": "3.7.4"
  },
  "varInspector": {
   "cols": {
    "lenName": 16,
    "lenType": 16,
    "lenVar": 40
   },
   "kernels_config": {
    "python": {
     "delete_cmd_postfix": "",
     "delete_cmd_prefix": "del ",
     "library": "var_list.py",
     "varRefreshCmd": "print(var_dic_list())"
    },
    "r": {
     "delete_cmd_postfix": ") ",
     "delete_cmd_prefix": "rm(",
     "library": "var_list.r",
     "varRefreshCmd": "cat(var_dic_list()) "
    }
   },
   "types_to_exclude": [
    "module",
    "function",
    "builtin_function_or_method",
    "instance",
    "_Feature"
   ],
   "window_display": true
  }
 },
 "nbformat": 4,
 "nbformat_minor": 2
}
