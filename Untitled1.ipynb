{
 "cells": [
  {
   "cell_type": "code",
   "execution_count": 1,
   "metadata": {
    "ExecuteTime": {
     "end_time": "2020-04-30T13:30:42.445202Z",
     "start_time": "2020-04-30T13:30:42.438637Z"
    }
   },
   "outputs": [],
   "source": [
    "a=['sqft_living', 'sqft_living15', 'zipcode_98004', 'zipcode_98023', 'view_4_0', 'grade_7', 'grade_6', 'grade_8', \n",
    "            'grade_5', 'grade_9', 'zipcode_98003', 'zipcode_98092', 'zipcode_98058', 'zipcode_98038', 'zipcode_98002', \n",
    "            'zipcode_98032', 'bathrooms', 'zipcode_98039', 'zipcode_98040', 'zipcode_98033', 'zipcode_98112', 'zipcode_98115',\n",
    "            'zipcode_98103', 'zipcode_98117', 'zipcode_98199', 'zipcode_98105', 'zipcode_98119', 'zipcode_98107', 'zipcode_98109',\n",
    "            'waterfront_1_0', 'zipcode_98116', 'zipcode_98122', 'zipcode_98102', 'zipcode_98006', 'zipcode_98052', 'zipcode_98136',\n",
    "            'zipcode_98144', 'sqft_lot', 'zipcode_98008', 'zipcode_98005', 'grade_4', 'zipcode_98053', 'view_3_0', 'zipcode_98029', \n",
    "            'zipcode_98126', 'zipcode_98125', 'zipcode_98034', 'zipcode_98177', 'zipcode_98007', 'condition_5', 'sale_month_4', \n",
    "          'zipcode_98074', 'zipcode_98075', 'grade_10', 'zipcode_98027', 'view_2_0', 'sqft_above', 'zipcode_98133', 'zipcode_98118', \n",
    "          'zipcode_98072', 'zipcode_98155', 'condition_4', 'condition_3', 'view_1_0', 'sale_month_3', 'zipcode_98011', 'zipcode_98065',\n",
    "          'zipcode_98028', 'zipcode_98077', 'zipcode_98106', 'yr_renovated', 'zipcode_98108', 'zipcode_98059', 'zipcode_98056', \n",
    "          'zipcode_98024', 'grade_11', 'floors_3_0', 'zipcode_98166', 'zipcode_98045', 'zipcode_98146', 'zipcode_98019',\n",
    "          'zipcode_98014', 'zipcode_98070', 'zipcode_98010', 'zipcode_98178', 'zipcode_98055', 'sqft_lot15', 'sqft_basement',\n",
    "          'bedrooms_7', 'bedrooms_2', 'zipcode_98148', 'grade_13', 'sale_month_2', 'sale_month_5', \n",
    "            'condition_2', 'bedrooms_6', 'floors_2_0', 'bedrooms_5', 'zipcode_98168', 'zipcode_98188', 'bedrooms_9']"
   ]
  },
  {
   "cell_type": "code",
   "execution_count": 2,
   "metadata": {
    "ExecuteTime": {
     "end_time": "2020-04-30T13:30:46.659857Z",
     "start_time": "2020-04-30T13:30:46.656738Z"
    }
   },
   "outputs": [],
   "source": [
    "a.sort()"
   ]
  },
  {
   "cell_type": "code",
   "execution_count": 3,
   "metadata": {
    "ExecuteTime": {
     "end_time": "2020-04-30T13:30:48.314987Z",
     "start_time": "2020-04-30T13:30:48.304698Z"
    }
   },
   "outputs": [
    {
     "data": {
      "text/plain": [
       "['bathrooms',\n",
       " 'bedrooms_2',\n",
       " 'bedrooms_5',\n",
       " 'bedrooms_6',\n",
       " 'bedrooms_7',\n",
       " 'bedrooms_9',\n",
       " 'condition_2',\n",
       " 'condition_3',\n",
       " 'condition_4',\n",
       " 'condition_5',\n",
       " 'floors_2_0',\n",
       " 'floors_3_0',\n",
       " 'grade_10',\n",
       " 'grade_11',\n",
       " 'grade_13',\n",
       " 'grade_4',\n",
       " 'grade_5',\n",
       " 'grade_6',\n",
       " 'grade_7',\n",
       " 'grade_8',\n",
       " 'grade_9',\n",
       " 'sale_month_2',\n",
       " 'sale_month_3',\n",
       " 'sale_month_4',\n",
       " 'sale_month_5',\n",
       " 'sqft_above',\n",
       " 'sqft_basement',\n",
       " 'sqft_living',\n",
       " 'sqft_living15',\n",
       " 'sqft_lot',\n",
       " 'sqft_lot15',\n",
       " 'view_1_0',\n",
       " 'view_2_0',\n",
       " 'view_3_0',\n",
       " 'view_4_0',\n",
       " 'waterfront_1_0',\n",
       " 'yr_renovated',\n",
       " 'zipcode_98002',\n",
       " 'zipcode_98003',\n",
       " 'zipcode_98004',\n",
       " 'zipcode_98005',\n",
       " 'zipcode_98006',\n",
       " 'zipcode_98007',\n",
       " 'zipcode_98008',\n",
       " 'zipcode_98010',\n",
       " 'zipcode_98011',\n",
       " 'zipcode_98014',\n",
       " 'zipcode_98019',\n",
       " 'zipcode_98023',\n",
       " 'zipcode_98024',\n",
       " 'zipcode_98027',\n",
       " 'zipcode_98028',\n",
       " 'zipcode_98029',\n",
       " 'zipcode_98032',\n",
       " 'zipcode_98033',\n",
       " 'zipcode_98034',\n",
       " 'zipcode_98038',\n",
       " 'zipcode_98039',\n",
       " 'zipcode_98040',\n",
       " 'zipcode_98045',\n",
       " 'zipcode_98052',\n",
       " 'zipcode_98053',\n",
       " 'zipcode_98055',\n",
       " 'zipcode_98056',\n",
       " 'zipcode_98058',\n",
       " 'zipcode_98059',\n",
       " 'zipcode_98065',\n",
       " 'zipcode_98070',\n",
       " 'zipcode_98072',\n",
       " 'zipcode_98074',\n",
       " 'zipcode_98075',\n",
       " 'zipcode_98077',\n",
       " 'zipcode_98092',\n",
       " 'zipcode_98102',\n",
       " 'zipcode_98103',\n",
       " 'zipcode_98105',\n",
       " 'zipcode_98106',\n",
       " 'zipcode_98107',\n",
       " 'zipcode_98108',\n",
       " 'zipcode_98109',\n",
       " 'zipcode_98112',\n",
       " 'zipcode_98115',\n",
       " 'zipcode_98116',\n",
       " 'zipcode_98117',\n",
       " 'zipcode_98118',\n",
       " 'zipcode_98119',\n",
       " 'zipcode_98122',\n",
       " 'zipcode_98125',\n",
       " 'zipcode_98126',\n",
       " 'zipcode_98133',\n",
       " 'zipcode_98136',\n",
       " 'zipcode_98144',\n",
       " 'zipcode_98146',\n",
       " 'zipcode_98148',\n",
       " 'zipcode_98155',\n",
       " 'zipcode_98166',\n",
       " 'zipcode_98168',\n",
       " 'zipcode_98177',\n",
       " 'zipcode_98178',\n",
       " 'zipcode_98188',\n",
       " 'zipcode_98199']"
      ]
     },
     "execution_count": 3,
     "metadata": {},
     "output_type": "execute_result"
    }
   ],
   "source": [
    "a"
   ]
  },
  {
   "cell_type": "code",
   "execution_count": null,
   "metadata": {},
   "outputs": [],
   "source": []
  }
 ],
 "metadata": {
  "kernelspec": {
   "display_name": "Python 3",
   "language": "python",
   "name": "python3"
  },
  "language_info": {
   "codemirror_mode": {
    "name": "ipython",
    "version": 3
   },
   "file_extension": ".py",
   "mimetype": "text/x-python",
   "name": "python",
   "nbconvert_exporter": "python",
   "pygments_lexer": "ipython3",
   "version": "3.7.4"
  },
  "varInspector": {
   "cols": {
    "lenName": 16,
    "lenType": 16,
    "lenVar": 40
   },
   "kernels_config": {
    "python": {
     "delete_cmd_postfix": "",
     "delete_cmd_prefix": "del ",
     "library": "var_list.py",
     "varRefreshCmd": "print(var_dic_list())"
    },
    "r": {
     "delete_cmd_postfix": ") ",
     "delete_cmd_prefix": "rm(",
     "library": "var_list.r",
     "varRefreshCmd": "cat(var_dic_list()) "
    }
   },
   "types_to_exclude": [
    "module",
    "function",
    "builtin_function_or_method",
    "instance",
    "_Feature"
   ],
   "window_display": true
  }
 },
 "nbformat": 4,
 "nbformat_minor": 2
}
